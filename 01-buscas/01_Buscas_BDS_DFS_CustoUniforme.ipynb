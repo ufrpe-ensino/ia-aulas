{
  "nbformat": 4,
  "nbformat_minor": 0,
  "metadata": {
    "colab": {
      "name": "01_Buscas_BDS-DFS-CustoUniforme.ipynb",
      "version": "0.3.2",
      "provenance": [],
      "collapsed_sections": [],
      "include_colab_link": true
    },
    "kernelspec": {
      "name": "python3",
      "display_name": "Python 3"
    }
  },
  "cells": [
    {
      "cell_type": "markdown",
      "metadata": {
        "id": "view-in-github",
        "colab_type": "text"
      },
      "source": [
        "<a href=\"https://colab.research.google.com/github/ufrpe-ia/intro-ia/blob/master/00-buscas/01_Buscas_BDS_DFS_CustoUniforme.ipynb\" target=\"_parent\"><img src=\"https://colab.research.google.com/assets/colab-badge.svg\" alt=\"Open In Colab\"/></a>"
      ]
    },
    {
      "cell_type": "markdown",
      "metadata": {
        "id": "MhgyHD_Je5M6",
        "colab_type": "text"
      },
      "source": [
        "# Busca Não Informada\n",
        "\n",
        "Neste notebook, exploraremos alguns algoritmos clássicos de busca cega (i.e., não informada, sem informação, etc.).\n",
        "\n",
        "Considere o grafo abaixo:\n",
        "\n",
        "![img1](https://github.com/ufrpe-ia/intro-ia/blob/master/assets/images/img_buscas_01.png?raw=true)\n",
        "\n",
        "\n",
        "## Classe Graph\n",
        "\n",
        "Utilizaremos como base uma implementação de um grafo simples em python:\n"
      ]
    },
    {
      "cell_type": "code",
      "metadata": {
        "id": "pSq_buSzwq83",
        "colab_type": "code",
        "colab": {}
      },
      "source": [
        "from collections import defaultdict\n",
        "from pprint import pprint \n",
        "\n",
        "class Graph():\n",
        "  def __init__(self):\n",
        "    self.neighbors = defaultdict(list)\n",
        "    self.cost = defaultdict(list)\n",
        "\n",
        "  def show_graph(self):\n",
        "    print(\"Destinations:\");\n",
        "    pprint(dict(self.neighbors))\n",
        "    \n",
        "    print(\"Costs:\");\n",
        "    pprint(dict(self.cost))\n",
        "    \n",
        "  def add_edge(self, source, destination, price):\n",
        "    self.neighbors[source].append(destination)\n",
        "    self.cost[source].append(price)    "
      ],
      "execution_count": 0,
      "outputs": []
    },
    {
      "cell_type": "markdown",
      "metadata": {
        "id": "dt9tBN4jcDby",
        "colab_type": "text"
      },
      "source": [
        "## Algoritmo 1: Busca em largura (BFS)"
      ]
    },
    {
      "cell_type": "code",
      "metadata": {
        "id": "AspEpUIxMpHg",
        "colab_type": "code",
        "colab": {}
      },
      "source": [
        "from collections import defaultdict\n",
        "from pprint import pprint \n",
        "\n",
        "class GraphBFS(Graph):\n",
        "  \n",
        "  def bfs(self, start='S', end = 'G'):\n",
        "    \n",
        "    visited = []\n",
        "    fringe = [(start,0,start)] # (node, cost-to-node, path-to-node)\n",
        "    \n",
        "    while len(fringe) > 0:\n",
        "      \n",
        "      node = fringe[0]\n",
        "\n",
        "      fringe.remove(node)  \n",
        "      visited.append(node[0])\n",
        "\n",
        "      ################\n",
        "      # inserir elementos na fronteira sem ordem\n",
        "      for n,c in zip(self.neighbors[node[0]], self.cost[node[0]]):\n",
        "        if n not in visited:\n",
        "          fringe.append((n,c+node[1],node[2]+n))\n",
        "      ################\n",
        "      \n",
        "      print('visited:' , node[0], '(', node[2], ') | fringe:', fringe)\n",
        "      if node[0] == end:\n",
        "        print('FIM: ', node[2], ' Cost:', node[1])\n",
        "        break"
      ],
      "execution_count": 0,
      "outputs": []
    },
    {
      "cell_type": "markdown",
      "metadata": {
        "id": "IfbQZzuvXmsD",
        "colab_type": "text"
      },
      "source": [
        "Adicionando os elementos ao grafo:\n"
      ]
    },
    {
      "cell_type": "code",
      "metadata": {
        "id": "NWf3Pab1wr7y",
        "colab_type": "code",
        "colab": {}
      },
      "source": [
        "g = GraphBFS()\n",
        "\n",
        "g.add_edge('S', 'A', 2)\n",
        "g.add_edge('S', 'B', 1)\n",
        "g.add_edge('S', 'G', 9)\n",
        "g.add_edge('A', 'C', 2)\n",
        "g.add_edge('A', 'D', 3)\n",
        "g.add_edge('B', 'D', 2)\n",
        "g.add_edge('B', 'E', 4)\n",
        "g.add_edge('C', 'G', 4)\n",
        "g.add_edge('D', 'G', 4)\n",
        "\n",
        "g.show_graph()"
      ],
      "execution_count": 0,
      "outputs": []
    },
    {
      "cell_type": "code",
      "metadata": {
        "id": "6xUZtXYVcrYo",
        "colab_type": "code",
        "colab": {}
      },
      "source": [
        "g.bfs(start='S', end = 'G')"
      ],
      "execution_count": 0,
      "outputs": []
    },
    {
      "cell_type": "markdown",
      "metadata": {
        "id": "HUxn7O32dw1Q",
        "colab_type": "text"
      },
      "source": [
        "## Algoritmo 2: Busca em Profundidade:"
      ]
    },
    {
      "cell_type": "code",
      "metadata": {
        "id": "SpeQu06efLdy",
        "colab_type": "code",
        "colab": {}
      },
      "source": [
        "# Exercicio!"
      ],
      "execution_count": 0,
      "outputs": []
    },
    {
      "cell_type": "markdown",
      "metadata": {
        "id": "ntger_QseMVy",
        "colab_type": "text"
      },
      "source": [
        "## Algoritmo 3: Busca de Custo Uniforme"
      ]
    },
    {
      "cell_type": "code",
      "metadata": {
        "id": "qtDrboSZd9OK",
        "colab_type": "code",
        "colab": {}
      },
      "source": [
        "class GraphUC(GraphBFS):\n",
        "  def uniformCost(self,  start='S', end = 'G'):\n",
        "\n",
        "    visited = []\n",
        "    fringe = [(start,0,start)] # (node, cost-to-node, path-to-node)\n",
        "    \n",
        "    while len(fringe) > 0:\n",
        "      \n",
        "      node = fringe[0]\n",
        "\n",
        "      fringe.remove(node)  \n",
        "      visited.append(node[0])\n",
        "\n",
        "      for n,c in zip(self.neighbors[node[0]], self.cost[node[0]]):\n",
        "        if n not in visited:\n",
        "          fringe.append((n,c+node[1],node[2]+n))\n",
        "          \n",
        "      ################\n",
        "      # sort fringe\n",
        "      fringe = sorted(fringe, key=lambda x: x[1])\n",
        "      ################\n",
        "      \n",
        "      print('visited:' , node[0], '(', node[2], ') | fringe:', fringe)\n",
        "      if node[0] == end:\n",
        "        print('FIM: ', node[2], ' Cost:', node[1])\n",
        "        break\n",
        "        \n",
        "    \n",
        "g = GraphUC()\n",
        "g.add_edge('S', 'A', 2)\n",
        "g.add_edge('S', 'B', 1)\n",
        "g.add_edge('S', 'G', 9)\n",
        "g.add_edge('A', 'C', 2)\n",
        "g.add_edge('A', 'D', 3)\n",
        "g.add_edge('B', 'D', 2)\n",
        "g.add_edge('B', 'E', 4)\n",
        "g.add_edge('C', 'G', 4)\n",
        "g.add_edge('D', 'G', 4)\n",
        "\n",
        "g.uniformCost(start='S', end = 'G')"
      ],
      "execution_count": 0,
      "outputs": []
    },
    {
      "cell_type": "markdown",
      "metadata": {
        "id": "14KcScstfRcc",
        "colab_type": "text"
      },
      "source": [
        "# Exemplo 2: Malha aérea\n",
        "\n",
        "Considere o seguinte grafo representando uma malha aérea:\n"
      ]
    },
    {
      "cell_type": "code",
      "metadata": {
        "id": "M2wR1-WgCaxy",
        "colab_type": "code",
        "colab": {}
      },
      "source": [
        "f = GraphUC()\n",
        "f.add_edge('Los Angeles', 'New Delhi', 200)\n",
        "f.add_edge('Los Angeles', 'Japan', 87)\n",
        "f.add_edge('Germany', 'New Delhi', 125)\n",
        "f.add_edge('Italy', 'Los Angeles', 150)\n",
        "f.add_edge('New Delhi', 'France', 100)\n",
        "f.add_edge('Los Angeles', 'France', 200)\n",
        "f.add_edge('Italy', 'New Delhi', 300)\n",
        "f.add_edge('France', 'Norway', 175)\n",
        "f.add_edge('Ireland', 'Chicago', 100)\n",
        "f.add_edge('Chicago', 'Italy', 135)\n",
        "f.add_edge('Los Angeles', 'Ireland', 100)\n",
        "f.add_edge('Ireland', 'New Delhi', 200)\n",
        "f.show_graph()"
      ],
      "execution_count": 0,
      "outputs": []
    },
    {
      "cell_type": "markdown",
      "metadata": {
        "id": "4lMkJXaSfsf4",
        "colab_type": "text"
      },
      "source": [
        "Executando BFS, DFS e CustoUniforme:"
      ]
    },
    {
      "cell_type": "code",
      "metadata": {
        "id": "3xaHCupuxz5Z",
        "colab_type": "code",
        "colab": {}
      },
      "source": [
        "f.bfs(start='Los Angeles', end='Norway')\n",
        "print()\n",
        "f.uniformCost(start='Los Angeles', end='Norway')"
      ],
      "execution_count": 0,
      "outputs": []
    }
  ]
}