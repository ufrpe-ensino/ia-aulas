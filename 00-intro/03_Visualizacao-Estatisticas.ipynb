{
  "cells": [
    {
      "cell_type": "markdown",
      "metadata": {
        "colab_type": "text",
        "id": "view-in-github"
      },
      "source": [
        "<a href=\"https://colab.research.google.com/github/ufrpe-ensino/ia-aulas/blob/master/00-intro/03_Visualizacao-Estatisticas.ipynb\" target=\"_parent\"><img src=\"https://colab.research.google.com/assets/colab-badge.svg\" alt=\"Open In Colab\"/></a>"
      ]
    },
    {
      "cell_type": "markdown",
      "id": "bd5b69a5",
      "metadata": {
        "id": "bd5b69a5"
      },
      "source": [
        "# Visualização de Dados e Estatísticas Descritivas em Python\n",
        "\n",
        "Nesta aula, vamos aprender como explorar, descrever e visualizar dados utilizando Python, com foco em estatísticas descritivas e gráficos. Usaremos o dataset de imóveis do Recife.\n",
        "\n",
        "## Objetivos\n",
        "- Compreender o papel da visualização na análise de dados\n",
        "- Calcular estatísticas descritivas básicas\n",
        "- Gerar gráficos para explorar dados"
      ]
    },
    {
      "cell_type": "markdown",
      "id": "75e3e610",
      "metadata": {
        "id": "75e3e610"
      },
      "source": [
        "## Importando bibliotecas"
      ]
    },
    {
      "cell_type": "code",
      "execution_count": null,
      "id": "3e3e7e43",
      "metadata": {
        "id": "3e3e7e43",
        "outputId": "4cc7547c-06f3-4302-8b59-f9ad710c3ab1"
      },
      "outputs": [],
      "source": [
        "!pip install seaborn"
      ]
    },
    {
      "cell_type": "code",
      "execution_count": null,
      "id": "18b681bb",
      "metadata": {
        "id": "18b681bb"
      },
      "outputs": [],
      "source": [
        "import numpy as np\n",
        "import pandas as pd\n",
        "import matplotlib.pyplot as plt\n",
        "import seaborn as sns"
      ]
    },
    {
      "cell_type": "markdown",
      "id": "fdafdec2",
      "metadata": {
        "id": "fdafdec2"
      },
      "source": [
        "## Carregando o conjunto de dados\n",
        "Vamos utilizar um conjunto de dados de imóveis do Recife disponível online."
      ]
    },
    {
      "cell_type": "code",
      "execution_count": null,
      "id": "48996ea5",
      "metadata": {
        "id": "48996ea5",
        "outputId": "8a47cab4-f6f7-4596-c5a3-199c8d3a3541"
      },
      "outputs": [],
      "source": [
        "houses = pd.read_csv(\"https://raw.githubusercontent.com/ProfLuciano/intro_cd/gh-pages/data/recife.csv\", encoding = \"ISO-8859-1\")\n",
        "houses.head()"
      ]
    },
    {
      "cell_type": "markdown",
      "id": "dd70ee42",
      "metadata": {
        "id": "dd70ee42"
      },
      "source": [
        "## Estatísticas Descritivas\n",
        "Vamos calcular algumas estatísticas básicas para entender o conjunto de dados."
      ]
    },
    {
      "cell_type": "code",
      "execution_count": null,
      "id": "36dfcb00",
      "metadata": {
        "id": "36dfcb00",
        "outputId": "48e113ad-c4de-4176-89c3-9ae6fcb23954"
      },
      "outputs": [],
      "source": [
        "houses.shape  # Dimensões do data frame"
      ]
    },
    {
      "cell_type": "code",
      "execution_count": null,
      "id": "8b0704d8",
      "metadata": {
        "id": "8b0704d8",
        "outputId": "249695fa-aedd-48f8-9d1d-acdc366483a7"
      },
      "outputs": [],
      "source": [
        "houses.dtypes  # Tipos das colunas"
      ]
    },
    {
      "cell_type": "markdown",
      "id": "54f7a36d",
      "metadata": {
        "id": "54f7a36d"
      },
      "source": [
        "### Estatísticas gerais"
      ]
    },
    {
      "cell_type": "code",
      "execution_count": null,
      "id": "f71725ba",
      "metadata": {
        "id": "f71725ba",
        "outputId": "b1e78f40-0c5c-405f-b0ec-daa77a0f58e9"
      },
      "outputs": [],
      "source": [
        "houses.describe()  # Estatísticas gerais"
      ]
    },
    {
      "cell_type": "code",
      "execution_count": null,
      "id": "49eedb97",
      "metadata": {
        "id": "49eedb97",
        "outputId": "9dbaefdc-733b-48e1-acf0-3593fa6cfd02"
      },
      "outputs": [],
      "source": [
        "# Média, mediana, moda, variância e desvio padrão do preço\n",
        "print('Média:', houses['price'].mean())\n",
        "print('Mediana:', houses['price'].median())\n",
        "print('Moda:', houses['price'].mode()[0])\n",
        "print('Variância:', houses['price'].var())\n",
        "print('Desvio padrão:', houses['price'].std())"
      ]
    },
    {
      "cell_type": "markdown",
      "id": "935d764e",
      "metadata": {
        "id": "935d764e"
      },
      "source": [
        "### Estatísticas da área"
      ]
    },
    {
      "cell_type": "code",
      "execution_count": null,
      "id": "0753f34e",
      "metadata": {
        "id": "0753f34e",
        "outputId": "ce769e82-7968-4252-a5f1-0c303ae8d3c7"
      },
      "outputs": [],
      "source": [
        "houses['area'].describe()"
      ]
    },
    {
      "cell_type": "markdown",
      "id": "72dbc377",
      "metadata": {
        "id": "72dbc377"
      },
      "source": [
        "## Correlações"
      ]
    },
    {
      "cell_type": "code",
      "execution_count": null,
      "id": "36677dfa",
      "metadata": {
        "id": "36677dfa",
        "outputId": "5b0ebf14-37f8-4f70-987e-8f57ea27aa92"
      },
      "outputs": [],
      "source": [
        "houses.columns"
      ]
    },
    {
      "cell_type": "markdown",
      "id": "5c53465c",
      "metadata": {
        "id": "5c53465c"
      },
      "source": [
        "## Correlação de Pearson\n",
        "\n",
        "A correlação de Pearson é uma medida estatística que avalia a força e a direção da relação linear entre duas variáveis quantitativas. Seu coeficiente, conhecido como **r de Pearson**, varia de -1 a 1:\n",
        "\n",
        "- **r = 1**: correlação linear positiva perfeita (quando uma variável aumenta, a outra também aumenta proporcionalmente).\n",
        "- **r = -1**: correlação linear negativa perfeita (quando uma variável aumenta, a outra diminui proporcionalmente).\n",
        "- **r = 0**: ausência de correlação linear.\n",
        "\n",
        "Valores próximos de 1 ou -1 indicam forte correlação, enquanto valores próximos de 0 indicam correlação fraca ou inexistente. É importante lembrar que a correlação de Pearson só captura relações lineares e não implica causalidade entre as variáveis.\n",
        "\n",
        "No contexto da análise de dados de imóveis, a correlação de Pearson pode ser usada, por exemplo, para investigar se existe relação entre o preço dos imóveis e características como área, número de quartos ou banheiros."
      ]
    },
    {
      "cell_type": "code",
      "execution_count": null,
      "id": "49af3485",
      "metadata": {
        "id": "49af3485",
        "outputId": "824d048a-2482-469d-e1a7-3da533a7ba52"
      },
      "outputs": [],
      "source": [
        "pearson_corr = houses.loc[houses.operation=='sell',\n",
        "           ['price', 'bedrooms', 'area',\n",
        "            'bathrooms', 'ensuites']].corr(method='pearson')\n",
        "pearson_corr"
      ]
    },
    {
      "cell_type": "code",
      "execution_count": null,
      "id": "98a47d7b",
      "metadata": {
        "id": "98a47d7b",
        "outputId": "5e8ee3ea-0b99-444c-ecb1-86cd0739385b"
      },
      "outputs": [],
      "source": [
        "sns.heatmap(pearson_corr, annot=True, cmap='coolwarm', center=0)"
      ]
    },
    {
      "cell_type": "markdown",
      "id": "b60a534d",
      "metadata": {
        "id": "b60a534d"
      },
      "source": [
        "### Correlação de Spearman\n",
        "\n",
        "A correlação de Spearman é uma medida estatística que avalia a relação monotônica entre duas variáveis quantitativas ou ordinais. Diferente da correlação de Pearson, que mede apenas relações lineares, a correlação de Spearman é baseada nos postos (ranks) dos dados e pode capturar relações não-lineares, desde que sejam monotônicas (ou seja, que uma variável aumente ou diminua consistentemente em relação à outra).\n",
        "\n",
        "O coeficiente de Spearman varia de -1 a 1:\n",
        "- **1** indica uma correlação monotônica positiva perfeita.\n",
        "- **-1** indica uma correlação monotônica negativa perfeita.\n",
        "- **0** indica ausência de correlação monotônica.\n",
        "\n",
        "A correlação de Spearman é especialmente útil quando os dados apresentam outliers ou não seguem uma distribuição normal, sendo uma alternativa robusta à correlação de Pearson em muitos cenários de análise de dados. No contexto dos imóveis, pode ser usada para investigar relações entre preço, área, número de quartos, banheiros, entre outros, mesmo quando essas relações não são estritamente lineares."
      ]
    },
    {
      "cell_type": "code",
      "execution_count": null,
      "id": "174a2181",
      "metadata": {
        "id": "174a2181",
        "outputId": "305f3e90-f72c-44d7-c2cf-db8dd82afb6e"
      },
      "outputs": [],
      "source": [
        "spearman_corr = houses.loc[houses.operation=='sell',\n",
        "           ['price', 'bedrooms', 'area',\n",
        "            'bathrooms', 'ensuites']].corr(method='spearman')\n",
        "sns.heatmap(spearman_corr, annot=True, cmap='coolwarm', center=0)"
      ]
    },
    {
      "cell_type": "markdown",
      "id": "182790ae",
      "metadata": {
        "id": "182790ae"
      },
      "source": [
        "## Visualização de Dados\n",
        "### Histograma do preço dos imóveis"
      ]
    },
    {
      "cell_type": "code",
      "execution_count": null,
      "id": "82666206",
      "metadata": {
        "id": "82666206",
        "outputId": "f0e27fad-e5ac-44fc-f83e-5339b455b3d1"
      },
      "outputs": [],
      "source": [
        "(houses['price']/1000).hist(bins=30, figsize=(10,5))\n",
        "plt.title('Distribuição dos Preços (milhares)')\n",
        "plt.xlabel('Preço (milhares)')\n",
        "plt.ylabel('Frequência')\n",
        "plt.show()"
      ]
    },
    {
      "cell_type": "markdown",
      "id": "8caf8b4d",
      "metadata": {
        "id": "8caf8b4d"
      },
      "source": [
        "### Definindo se um imóvel está à venda ou para locação a partir do preço"
      ]
    },
    {
      "cell_type": "code",
      "execution_count": null,
      "id": "61d6ce47",
      "metadata": {
        "id": "61d6ce47",
        "outputId": "8bf60d0b-7818-43f3-c608-421cfb8637c0"
      },
      "outputs": [],
      "source": [
        "# Adicionando coluna para aluguel e venda\n",
        "houses['operation'] = 'sell'\n",
        "houses.loc[(houses['price'] > 100) & (houses['price'] < 30000),'operation'] = 'rent'\n",
        "houses.head()"
      ]
    },
    {
      "cell_type": "markdown",
      "id": "d698ac3a",
      "metadata": {
        "id": "d698ac3a"
      },
      "source": [
        "### Boxplot da área dos imóveis"
      ]
    },
    {
      "cell_type": "code",
      "execution_count": null,
      "id": "ba531a15",
      "metadata": {
        "id": "ba531a15",
        "outputId": "f4eea7e5-88f8-4497-9229-e0903daa7c74"
      },
      "outputs": [],
      "source": [
        "houses.boxplot(column=['area'])\n",
        "plt.title('Boxplot da Área dos Imóveis')\n",
        "plt.ylabel('Área (m²)')\n",
        "plt.show()"
      ]
    },
    {
      "cell_type": "markdown",
      "id": "285e4a6b",
      "metadata": {
        "id": "285e4a6b"
      },
      "source": [
        "### Gráfico de barras: quantidade de imóveis por tipo"
      ]
    },
    {
      "cell_type": "code",
      "execution_count": null,
      "id": "0607334c",
      "metadata": {
        "id": "0607334c",
        "outputId": "bd8a4bff-bba1-4db0-a82e-b4330f3bb03a"
      },
      "outputs": [],
      "source": [
        "houses['type'].value_counts().plot(kind='bar', figsize=(8,4))\n",
        "plt.title('Quantidade de Imóveis por Tipo')\n",
        "plt.xlabel('Tipo')\n",
        "plt.ylabel('Contagem')\n",
        "plt.show()"
      ]
    },
    {
      "cell_type": "markdown",
      "id": "a4bdb3e6",
      "metadata": {
        "id": "a4bdb3e6"
      },
      "source": [
        "### Gráfico de dispersão: área vs preço"
      ]
    },
    {
      "cell_type": "code",
      "execution_count": null,
      "id": "9ed63c27",
      "metadata": {
        "id": "9ed63c27",
        "outputId": "3b3f6512-4d25-4538-c3c1-88ac1f8fdf27"
      },
      "outputs": [],
      "source": [
        "houses.plot.scatter(x='area', y='price', alpha=0.5)\n",
        "plt.title('Área vs Preço')\n",
        "plt.xlabel('Área (m²)')\n",
        "plt.ylabel('Preço')\n",
        "plt.show()"
      ]
    },
    {
      "cell_type": "markdown",
      "id": "26248428",
      "metadata": {
        "id": "26248428"
      },
      "source": [
        "### Visualizando dados com geolocalização"
      ]
    },
    {
      "cell_type": "code",
      "execution_count": null,
      "id": "aa61db00",
      "metadata": {
        "id": "aa61db00",
        "outputId": "3053ed9e-22c6-43ee-f4a4-44e755b84efd"
      },
      "outputs": [],
      "source": [
        "!pip install folium"
      ]
    },
    {
      "cell_type": "code",
      "execution_count": null,
      "id": "d8131d1c",
      "metadata": {
        "id": "d8131d1c",
        "outputId": "29ade315-671f-46fb-8bae-0e2fc3d69043"
      },
      "outputs": [],
      "source": [
        "import folium\n",
        "\n",
        "# Centro aproximado de Recife\n",
        "mapa = folium.Map(location=[-8.05, -34.9], zoom_start=12)\n",
        "\n",
        "for _, row in houses.iterrows():\n",
        "    folium.CircleMarker(\n",
        "        location=[row['latitude'], row['longitude']],\n",
        "        radius=3,\n",
        "        color='blue' if row['operation'] == 'sell' else 'green',\n",
        "        fill=True,\n",
        "        fill_opacity=0.6,\n",
        "        popup=f\"Preço: R${row['price']}\\nTipo: {row['type']}\"\n",
        "    ).add_to(mapa)\n",
        "\n",
        "mapa"
      ]
    },
    {
      "cell_type": "markdown",
      "id": "700ab64b",
      "metadata": {
        "id": "700ab64b"
      },
      "source": [
        "### Heat map dos preços de venda"
      ]
    },
    {
      "cell_type": "code",
      "execution_count": null,
      "id": "e33b1f6d",
      "metadata": {
        "id": "e33b1f6d",
        "outputId": "f0e2a564-aeff-4328-96d6-5c5f196fa31a"
      },
      "outputs": [],
      "source": [
        "from folium.plugins import HeatMap\n",
        "\n",
        "# Filtra imóveis para aluguel com latitude, longitude e preço válidos\n",
        "rent_houses = houses[(houses['operation'] == 'sell') &\n",
        "                     houses['latitude'].notnull() &\n",
        "                     houses['longitude'].notnull() &\n",
        "                     houses['price'].notnull()]\n",
        "\n",
        "# Cria o mapa centralizado em Recife\n",
        "heatmap_map = folium.Map(location=[-8.05, -34.9], zoom_start=12)\n",
        "\n",
        "# Adiciona o HeatMap\n",
        "HeatMap(\n",
        "    data=rent_houses[['latitude', 'longitude', 'price']].values,\n",
        "    radius=10,\n",
        "    max_zoom=13\n",
        ").add_to(heatmap_map)\n",
        "\n",
        "heatmap_map"
      ]
    },
    {
      "cell_type": "markdown",
      "id": "bdd2b4ef",
      "metadata": {
        "id": "bdd2b4ef"
      },
      "source": [
        "## Exercícios\n",
        "\n",
        "1. Calcule o preço médio do metro quadrado de venda e aluguel para Recife.\n",
        "2. Plote um histograma da coluna `area`.\n",
        "3. Plote um boxplot do preço para apartamentos e casas separadamente.\n",
        "4. Plote um gráfico de dispersão entre `bedrooms` e `area`.\n",
        "5. Encontre os bairros com maior e menor valor de venda e aluguel do metro quadrado.\n",
        "6. Encontre a variável que tem maior correlação de spearman com o preço de imóveis à venda"
      ]
    },
    {
      "cell_type": "code",
      "execution_count": null,
      "id": "fbbc8d03",
      "metadata": {
        "id": "fbbc8d03"
      },
      "outputs": [],
      "source": [
        "# 1. Preço médio do metro quadrado de venda e aluguel\n",
        "\n",
        "# 2. Histograma da área\n",
        "\n",
        "# 3. Boxplot do preço para apartamentos e casas\n",
        "\n",
        "# 4. Scatter plot entre bedrooms e area\n",
        "\n",
        "# 5. Bairros com maior e menor valor de venda do metro quadrado"
      ]
    }
  ],
  "metadata": {
    "colab": {
      "include_colab_link": true,
      "provenance": []
    },
    "kernelspec": {
      "display_name": "base",
      "language": "python",
      "name": "python3"
    },
    "language_info": {
      "codemirror_mode": {
        "name": "ipython",
        "version": 3
      },
      "file_extension": ".py",
      "mimetype": "text/x-python",
      "name": "python",
      "nbconvert_exporter": "python",
      "pygments_lexer": "ipython3",
      "version": "3.12.9"
    }
  },
  "nbformat": 4,
  "nbformat_minor": 5
}
