{
  "cells": [
    {
      "cell_type": "markdown",
      "metadata": {
        "colab_type": "text",
        "id": "view-in-github"
      },
      "source": [
        "<a href=\"https://colab.research.google.com/github/ufrpe-ensino/ia-aulas/blob/master/00-intro/02_Pandas.ipynb\" target=\"_parent\"><img src=\"https://colab.research.google.com/assets/colab-badge.svg\" alt=\"Open In Colab\"/></a>"
      ]
    },
    {
      "cell_type": "markdown",
      "metadata": {
        "id": "YzgSucL8lMdP"
      },
      "source": [
        "# Pandas\n",
        "\n",
        "O pacote [pandas](https://pandas.pydata.org) é uma das ferramentas mais importantes para iniciar o estudo e aplicação de aprendizagem de máquina com Python. \n",
        "\n",
        "## O que é o Pandas?\n",
        "O pandas é essencialmente a casa dos seus dados. Através dos pandas, você se familiariza com seus dados lendo, limpando, transformando e analisando.\n",
        "\n",
        "Por exemplo, digamos que você queira explorar um conjunto de dados armazenado em um CSV no seu computador. O pandas automatiza o processo de leitura e extração de dados desse CSV para um DataFrame - basicamente, uma tabela - e permite que você faça coisas como:\n",
        "\n",
        "- Calcule estatísticas e responda a perguntas sobre os dados, como\n",
        "- Qual é a média, mediana, máximo ou mínimo de cada coluna?\n",
        "- A coluna A está correlacionada com a coluna B?\n",
        "- Como é a distribuição de dados na coluna C?\n",
        "- Limpe os dados fazendo coisas como remover valores ausentes e filtrar linhas ou colunas por alguns critérios\n",
        "- Visualize os dados com a ajuda do Matplotlib. Plotar barras, linhas, histogramas, bolhas e muito mais.\n",
        "- Armazene os dados limpos e transformados de volta em um arquivo CSV, outro ou banco de dados\n",
        "\n",
        "Antes de entrar na modelagem ou nas visualizações complexas, você precisa ter uma boa compreensão da natureza do seu conjunto de dados e o pandas é atualmente a melhor ferramenta gratuita para isso."
      ]
    },
    {
      "cell_type": "markdown",
      "metadata": {
        "id": "WbAIeB32lJlx"
      },
      "source": [
        "## Instalando o pandas"
      ]
    },
    {
      "cell_type": "code",
      "execution_count": 1,
      "metadata": {
        "colab": {
          "base_uri": "https://localhost:8080/"
        },
        "id": "ialI2hUHlJly",
        "outputId": "254eeaad-76b6-4d79-e71b-124e3cf1cfce"
      },
      "outputs": [
        {
          "name": "stdout",
          "output_type": "stream",
          "text": [
            "Collecting pandas\n",
            "  Using cached pandas-2.2.3-cp312-cp312-macosx_11_0_arm64.whl.metadata (89 kB)\n",
            "Collecting numpy>=1.26.0 (from pandas)\n",
            "  Downloading numpy-2.2.6-cp312-cp312-macosx_14_0_arm64.whl.metadata (62 kB)\n",
            "Requirement already satisfied: python-dateutil>=2.8.2 in /Users/andrenascimento/miniconda3/lib/python3.12/site-packages (from pandas) (2.9.0.post0)\n",
            "Collecting pytz>=2020.1 (from pandas)\n",
            "  Using cached pytz-2025.2-py2.py3-none-any.whl.metadata (22 kB)\n",
            "Collecting tzdata>=2022.7 (from pandas)\n",
            "  Using cached tzdata-2025.2-py2.py3-none-any.whl.metadata (1.4 kB)\n",
            "Requirement already satisfied: six>=1.5 in /Users/andrenascimento/miniconda3/lib/python3.12/site-packages (from python-dateutil>=2.8.2->pandas) (1.17.0)\n",
            "Using cached pandas-2.2.3-cp312-cp312-macosx_11_0_arm64.whl (11.4 MB)\n",
            "Downloading numpy-2.2.6-cp312-cp312-macosx_14_0_arm64.whl (5.1 MB)\n",
            "\u001b[2K   \u001b[90m━━━━━━━━━━━━━━━━━━━━━━━━━━━━━━━━━━━━━━━━\u001b[0m \u001b[32m5.1/5.1 MB\u001b[0m \u001b[31m11.3 MB/s\u001b[0m eta \u001b[36m0:00:00\u001b[0m \u001b[36m0:00:01\u001b[0m\n",
            "\u001b[?25hUsing cached pytz-2025.2-py2.py3-none-any.whl (509 kB)\n",
            "Using cached tzdata-2025.2-py2.py3-none-any.whl (347 kB)\n",
            "Installing collected packages: pytz, tzdata, numpy, pandas\n",
            "Successfully installed numpy-2.2.6 pandas-2.2.3 pytz-2025.2 tzdata-2025.2\n"
          ]
        }
      ],
      "source": [
        "!pip install pandas"
      ]
    },
    {
      "cell_type": "markdown",
      "metadata": {
        "id": "hMR6SaoNntxv"
      },
      "source": [
        "## Lendo / Baixando um csv\n",
        "A função `read_csv` permite a leitura de arquivos locais e de arquivos remotos (URLs).\n",
        "\n",
        "No exemplo abaixo, utilizaremos uma amostragem dos dados produzidos no estudo [Long-term monitoring and experimental manipulation of a Chihuahuan Desert ecosystem near Portal, Arizona, USA.](http://www.esapubs.org/archive/ecol/E090/118/default.htm)\n"
      ]
    },
    {
      "cell_type": "code",
      "execution_count": 2,
      "metadata": {
        "id": "BaeL2iz4ntI7"
      },
      "outputs": [],
      "source": [
        "import pandas as pd\n",
        "\n",
        "url=\"https://raw.githubusercontent.com/ufrpe-ensino/ic-aulas/master/data/surveys.csv\"\n",
        "df=pd.read_csv(url, sep=',')"
      ]
    },
    {
      "cell_type": "markdown",
      "metadata": {
        "id": "hzh7yn7DlJl0"
      },
      "source": [
        "O arquivo contém um estudo de espécies capturadas na área estudada, incluindo o peso de cada animal. \n",
        "Os dados estão armazenados no formato CSV, estruturado em colunas, as quais contém informação acerca de um animal:\n",
        "\n",
        "--------------------\n",
        "| Coluna | Descrição| \n",
        "| :---: | :---: |\n",
        "|record_id \t| Unique id da observação |\n",
        "|month     \t| Mês da observação |\n",
        "|day   \t\t| Dia da observação |\n",
        "|year\t\t| Ano da observação |\n",
        "|plot_id\t| ID do local |\n",
        "|species_id\t| 2-letter code |\n",
        "|sex\t\t| sexo do animal (“M”, “F”) |\n",
        "|hindfoot_length\t| comprimento do 'calcanhar'/*hindfoot* (?) mm |\n",
        "|weight\t\t|peso do animal em gramas |"
      ]
    },
    {
      "cell_type": "markdown",
      "metadata": {
        "id": "rGdshnUMp78h"
      },
      "source": [
        "## Imprimindo algumas linhas do Dataframe na tela "
      ]
    },
    {
      "cell_type": "code",
      "execution_count": 3,
      "metadata": {
        "colab": {
          "base_uri": "https://localhost:8080/"
        },
        "id": "VkrN7z_pqAGn",
        "outputId": "9faab152-ffcc-4dc0-fdaf-44ef77f05c8a"
      },
      "outputs": [
        {
          "name": "stdout",
          "output_type": "stream",
          "text": [
            "   record_id  month  day  year  plot_id species_id sex  hindfoot_length  \\\n",
            "0          1      7   16  1977        2         NL   M             32.0   \n",
            "1          2      7   16  1977        3         NL   M             33.0   \n",
            "2          3      7   16  1977        2         DM   F             37.0   \n",
            "\n",
            "   weight  \n",
            "0     NaN  \n",
            "1     NaN  \n",
            "2     NaN  \n"
          ]
        }
      ],
      "source": [
        "print(df[0:3])"
      ]
    },
    {
      "cell_type": "markdown",
      "metadata": {
        "id": "apFkkNPdwaGB"
      },
      "source": [
        "Como estamos utilizando o Jupyter, podemos usar o `display`:"
      ]
    },
    {
      "cell_type": "code",
      "execution_count": 4,
      "metadata": {
        "colab": {
          "base_uri": "https://localhost:8080/",
          "height": 143
        },
        "id": "rdVHuFipqCdw",
        "outputId": "44cfd1b7-7656-4f3b-948d-a0e078d87fcb"
      },
      "outputs": [
        {
          "data": {
            "application/vnd.microsoft.datawrangler.viewer.v0+json": {
              "columns": [
                {
                  "name": "index",
                  "rawType": "int64",
                  "type": "integer"
                },
                {
                  "name": "record_id",
                  "rawType": "int64",
                  "type": "integer"
                },
                {
                  "name": "month",
                  "rawType": "int64",
                  "type": "integer"
                },
                {
                  "name": "day",
                  "rawType": "int64",
                  "type": "integer"
                },
                {
                  "name": "year",
                  "rawType": "int64",
                  "type": "integer"
                },
                {
                  "name": "plot_id",
                  "rawType": "int64",
                  "type": "integer"
                },
                {
                  "name": "species_id",
                  "rawType": "object",
                  "type": "string"
                },
                {
                  "name": "sex",
                  "rawType": "object",
                  "type": "string"
                },
                {
                  "name": "hindfoot_length",
                  "rawType": "float64",
                  "type": "float"
                },
                {
                  "name": "weight",
                  "rawType": "float64",
                  "type": "float"
                }
              ],
              "ref": "a9ef465f-0de5-4d77-aca1-8c2ee00987f9",
              "rows": [
                [
                  "0",
                  "1",
                  "7",
                  "16",
                  "1977",
                  "2",
                  "NL",
                  "M",
                  "32.0",
                  null
                ],
                [
                  "1",
                  "2",
                  "7",
                  "16",
                  "1977",
                  "3",
                  "NL",
                  "M",
                  "33.0",
                  null
                ],
                [
                  "2",
                  "3",
                  "7",
                  "16",
                  "1977",
                  "2",
                  "DM",
                  "F",
                  "37.0",
                  null
                ]
              ],
              "shape": {
                "columns": 9,
                "rows": 3
              }
            },
            "text/html": [
              "<div>\n",
              "<style scoped>\n",
              "    .dataframe tbody tr th:only-of-type {\n",
              "        vertical-align: middle;\n",
              "    }\n",
              "\n",
              "    .dataframe tbody tr th {\n",
              "        vertical-align: top;\n",
              "    }\n",
              "\n",
              "    .dataframe thead th {\n",
              "        text-align: right;\n",
              "    }\n",
              "</style>\n",
              "<table border=\"1\" class=\"dataframe\">\n",
              "  <thead>\n",
              "    <tr style=\"text-align: right;\">\n",
              "      <th></th>\n",
              "      <th>record_id</th>\n",
              "      <th>month</th>\n",
              "      <th>day</th>\n",
              "      <th>year</th>\n",
              "      <th>plot_id</th>\n",
              "      <th>species_id</th>\n",
              "      <th>sex</th>\n",
              "      <th>hindfoot_length</th>\n",
              "      <th>weight</th>\n",
              "    </tr>\n",
              "  </thead>\n",
              "  <tbody>\n",
              "    <tr>\n",
              "      <th>0</th>\n",
              "      <td>1</td>\n",
              "      <td>7</td>\n",
              "      <td>16</td>\n",
              "      <td>1977</td>\n",
              "      <td>2</td>\n",
              "      <td>NL</td>\n",
              "      <td>M</td>\n",
              "      <td>32.0</td>\n",
              "      <td>NaN</td>\n",
              "    </tr>\n",
              "    <tr>\n",
              "      <th>1</th>\n",
              "      <td>2</td>\n",
              "      <td>7</td>\n",
              "      <td>16</td>\n",
              "      <td>1977</td>\n",
              "      <td>3</td>\n",
              "      <td>NL</td>\n",
              "      <td>M</td>\n",
              "      <td>33.0</td>\n",
              "      <td>NaN</td>\n",
              "    </tr>\n",
              "    <tr>\n",
              "      <th>2</th>\n",
              "      <td>3</td>\n",
              "      <td>7</td>\n",
              "      <td>16</td>\n",
              "      <td>1977</td>\n",
              "      <td>2</td>\n",
              "      <td>DM</td>\n",
              "      <td>F</td>\n",
              "      <td>37.0</td>\n",
              "      <td>NaN</td>\n",
              "    </tr>\n",
              "  </tbody>\n",
              "</table>\n",
              "</div>"
            ],
            "text/plain": [
              "   record_id  month  day  year  plot_id species_id sex  hindfoot_length  \\\n",
              "0          1      7   16  1977        2         NL   M             32.0   \n",
              "1          2      7   16  1977        3         NL   M             33.0   \n",
              "2          3      7   16  1977        2         DM   F             37.0   \n",
              "\n",
              "   weight  \n",
              "0     NaN  \n",
              "1     NaN  \n",
              "2     NaN  "
            ]
          },
          "metadata": {},
          "output_type": "display_data"
        }
      ],
      "source": [
        "display(df[0:3])"
      ]
    },
    {
      "cell_type": "markdown",
      "metadata": {
        "id": "wEsKPFHep8Jn"
      },
      "source": [
        "ou simplesmente acessar a variável contendo o dataframe:"
      ]
    },
    {
      "cell_type": "code",
      "execution_count": 5,
      "metadata": {
        "colab": {
          "base_uri": "https://localhost:8080/",
          "height": 206
        },
        "id": "fzsAGpacnjQp",
        "outputId": "d600a238-4229-485b-f655-eda17d1f2641"
      },
      "outputs": [
        {
          "data": {
            "application/vnd.microsoft.datawrangler.viewer.v0+json": {
              "columns": [
                {
                  "name": "index",
                  "rawType": "int64",
                  "type": "integer"
                },
                {
                  "name": "record_id",
                  "rawType": "int64",
                  "type": "integer"
                },
                {
                  "name": "month",
                  "rawType": "int64",
                  "type": "integer"
                },
                {
                  "name": "day",
                  "rawType": "int64",
                  "type": "integer"
                },
                {
                  "name": "year",
                  "rawType": "int64",
                  "type": "integer"
                },
                {
                  "name": "plot_id",
                  "rawType": "int64",
                  "type": "integer"
                },
                {
                  "name": "species_id",
                  "rawType": "object",
                  "type": "string"
                },
                {
                  "name": "sex",
                  "rawType": "object",
                  "type": "string"
                },
                {
                  "name": "hindfoot_length",
                  "rawType": "float64",
                  "type": "float"
                },
                {
                  "name": "weight",
                  "rawType": "float64",
                  "type": "float"
                }
              ],
              "ref": "c57a8ea3-35a5-4eb3-ac03-93c553ccefed",
              "rows": [
                [
                  "0",
                  "1",
                  "7",
                  "16",
                  "1977",
                  "2",
                  "NL",
                  "M",
                  "32.0",
                  null
                ],
                [
                  "1",
                  "2",
                  "7",
                  "16",
                  "1977",
                  "3",
                  "NL",
                  "M",
                  "33.0",
                  null
                ],
                [
                  "2",
                  "3",
                  "7",
                  "16",
                  "1977",
                  "2",
                  "DM",
                  "F",
                  "37.0",
                  null
                ],
                [
                  "3",
                  "4",
                  "7",
                  "16",
                  "1977",
                  "7",
                  "DM",
                  "M",
                  "36.0",
                  null
                ],
                [
                  "4",
                  "5",
                  "7",
                  "16",
                  "1977",
                  "3",
                  "DM",
                  "M",
                  "35.0",
                  null
                ]
              ],
              "shape": {
                "columns": 9,
                "rows": 5
              }
            },
            "text/html": [
              "<div>\n",
              "<style scoped>\n",
              "    .dataframe tbody tr th:only-of-type {\n",
              "        vertical-align: middle;\n",
              "    }\n",
              "\n",
              "    .dataframe tbody tr th {\n",
              "        vertical-align: top;\n",
              "    }\n",
              "\n",
              "    .dataframe thead th {\n",
              "        text-align: right;\n",
              "    }\n",
              "</style>\n",
              "<table border=\"1\" class=\"dataframe\">\n",
              "  <thead>\n",
              "    <tr style=\"text-align: right;\">\n",
              "      <th></th>\n",
              "      <th>record_id</th>\n",
              "      <th>month</th>\n",
              "      <th>day</th>\n",
              "      <th>year</th>\n",
              "      <th>plot_id</th>\n",
              "      <th>species_id</th>\n",
              "      <th>sex</th>\n",
              "      <th>hindfoot_length</th>\n",
              "      <th>weight</th>\n",
              "    </tr>\n",
              "  </thead>\n",
              "  <tbody>\n",
              "    <tr>\n",
              "      <th>0</th>\n",
              "      <td>1</td>\n",
              "      <td>7</td>\n",
              "      <td>16</td>\n",
              "      <td>1977</td>\n",
              "      <td>2</td>\n",
              "      <td>NL</td>\n",
              "      <td>M</td>\n",
              "      <td>32.0</td>\n",
              "      <td>NaN</td>\n",
              "    </tr>\n",
              "    <tr>\n",
              "      <th>1</th>\n",
              "      <td>2</td>\n",
              "      <td>7</td>\n",
              "      <td>16</td>\n",
              "      <td>1977</td>\n",
              "      <td>3</td>\n",
              "      <td>NL</td>\n",
              "      <td>M</td>\n",
              "      <td>33.0</td>\n",
              "      <td>NaN</td>\n",
              "    </tr>\n",
              "    <tr>\n",
              "      <th>2</th>\n",
              "      <td>3</td>\n",
              "      <td>7</td>\n",
              "      <td>16</td>\n",
              "      <td>1977</td>\n",
              "      <td>2</td>\n",
              "      <td>DM</td>\n",
              "      <td>F</td>\n",
              "      <td>37.0</td>\n",
              "      <td>NaN</td>\n",
              "    </tr>\n",
              "    <tr>\n",
              "      <th>3</th>\n",
              "      <td>4</td>\n",
              "      <td>7</td>\n",
              "      <td>16</td>\n",
              "      <td>1977</td>\n",
              "      <td>7</td>\n",
              "      <td>DM</td>\n",
              "      <td>M</td>\n",
              "      <td>36.0</td>\n",
              "      <td>NaN</td>\n",
              "    </tr>\n",
              "    <tr>\n",
              "      <th>4</th>\n",
              "      <td>5</td>\n",
              "      <td>7</td>\n",
              "      <td>16</td>\n",
              "      <td>1977</td>\n",
              "      <td>3</td>\n",
              "      <td>DM</td>\n",
              "      <td>M</td>\n",
              "      <td>35.0</td>\n",
              "      <td>NaN</td>\n",
              "    </tr>\n",
              "  </tbody>\n",
              "</table>\n",
              "</div>"
            ],
            "text/plain": [
              "   record_id  month  day  year  plot_id species_id sex  hindfoot_length  \\\n",
              "0          1      7   16  1977        2         NL   M             32.0   \n",
              "1          2      7   16  1977        3         NL   M             33.0   \n",
              "2          3      7   16  1977        2         DM   F             37.0   \n",
              "3          4      7   16  1977        7         DM   M             36.0   \n",
              "4          5      7   16  1977        3         DM   M             35.0   \n",
              "\n",
              "   weight  \n",
              "0     NaN  \n",
              "1     NaN  \n",
              "2     NaN  \n",
              "3     NaN  \n",
              "4     NaN  "
            ]
          },
          "execution_count": 5,
          "metadata": {},
          "output_type": "execute_result"
        }
      ],
      "source": [
        "df[:5]"
      ]
    },
    {
      "cell_type": "markdown",
      "metadata": {
        "id": "RGdRjfqK71HH"
      },
      "source": [
        "## Head / Tail"
      ]
    },
    {
      "cell_type": "code",
      "execution_count": 21,
      "metadata": {
        "colab": {
          "base_uri": "https://localhost:8080/",
          "height": 206
        },
        "id": "SoFfMy9f7smM",
        "outputId": "8404e374-bfc5-48ab-e4b9-1dfcca51f5a4"
      },
      "outputs": [
        {
          "data": {
            "application/vnd.microsoft.datawrangler.viewer.v0+json": {
              "columns": [
                {
                  "name": "index",
                  "rawType": "int64",
                  "type": "integer"
                },
                {
                  "name": "record_id",
                  "rawType": "int64",
                  "type": "integer"
                },
                {
                  "name": "month",
                  "rawType": "int64",
                  "type": "integer"
                },
                {
                  "name": "day",
                  "rawType": "int64",
                  "type": "integer"
                },
                {
                  "name": "year",
                  "rawType": "int64",
                  "type": "integer"
                },
                {
                  "name": "plot_id",
                  "rawType": "int64",
                  "type": "integer"
                },
                {
                  "name": "species_id",
                  "rawType": "object",
                  "type": "string"
                },
                {
                  "name": "sex",
                  "rawType": "object",
                  "type": "string"
                },
                {
                  "name": "hindfoot_length",
                  "rawType": "float64",
                  "type": "float"
                },
                {
                  "name": "weight",
                  "rawType": "float64",
                  "type": "float"
                }
              ],
              "ref": "8a78c070-1c25-478b-a366-e45684e3b712",
              "rows": [
                [
                  "0",
                  "1",
                  "7",
                  "16",
                  "1977",
                  "2",
                  "NL",
                  "M",
                  "32.0",
                  null
                ],
                [
                  "1",
                  "2",
                  "7",
                  "16",
                  "1977",
                  "3",
                  "NL",
                  "M",
                  "33.0",
                  null
                ],
                [
                  "2",
                  "3",
                  "7",
                  "16",
                  "1977",
                  "2",
                  "DM",
                  "F",
                  "37.0",
                  null
                ],
                [
                  "3",
                  "4",
                  "7",
                  "16",
                  "1977",
                  "7",
                  "DM",
                  "M",
                  "36.0",
                  null
                ],
                [
                  "4",
                  "5",
                  "7",
                  "16",
                  "1977",
                  "3",
                  "DM",
                  "M",
                  "35.0",
                  null
                ]
              ],
              "shape": {
                "columns": 9,
                "rows": 5
              }
            },
            "text/html": [
              "<div>\n",
              "<style scoped>\n",
              "    .dataframe tbody tr th:only-of-type {\n",
              "        vertical-align: middle;\n",
              "    }\n",
              "\n",
              "    .dataframe tbody tr th {\n",
              "        vertical-align: top;\n",
              "    }\n",
              "\n",
              "    .dataframe thead th {\n",
              "        text-align: right;\n",
              "    }\n",
              "</style>\n",
              "<table border=\"1\" class=\"dataframe\">\n",
              "  <thead>\n",
              "    <tr style=\"text-align: right;\">\n",
              "      <th></th>\n",
              "      <th>record_id</th>\n",
              "      <th>month</th>\n",
              "      <th>day</th>\n",
              "      <th>year</th>\n",
              "      <th>plot_id</th>\n",
              "      <th>species_id</th>\n",
              "      <th>sex</th>\n",
              "      <th>hindfoot_length</th>\n",
              "      <th>weight</th>\n",
              "    </tr>\n",
              "  </thead>\n",
              "  <tbody>\n",
              "    <tr>\n",
              "      <th>0</th>\n",
              "      <td>1</td>\n",
              "      <td>7</td>\n",
              "      <td>16</td>\n",
              "      <td>1977</td>\n",
              "      <td>2</td>\n",
              "      <td>NL</td>\n",
              "      <td>M</td>\n",
              "      <td>32.0</td>\n",
              "      <td>NaN</td>\n",
              "    </tr>\n",
              "    <tr>\n",
              "      <th>1</th>\n",
              "      <td>2</td>\n",
              "      <td>7</td>\n",
              "      <td>16</td>\n",
              "      <td>1977</td>\n",
              "      <td>3</td>\n",
              "      <td>NL</td>\n",
              "      <td>M</td>\n",
              "      <td>33.0</td>\n",
              "      <td>NaN</td>\n",
              "    </tr>\n",
              "    <tr>\n",
              "      <th>2</th>\n",
              "      <td>3</td>\n",
              "      <td>7</td>\n",
              "      <td>16</td>\n",
              "      <td>1977</td>\n",
              "      <td>2</td>\n",
              "      <td>DM</td>\n",
              "      <td>F</td>\n",
              "      <td>37.0</td>\n",
              "      <td>NaN</td>\n",
              "    </tr>\n",
              "    <tr>\n",
              "      <th>3</th>\n",
              "      <td>4</td>\n",
              "      <td>7</td>\n",
              "      <td>16</td>\n",
              "      <td>1977</td>\n",
              "      <td>7</td>\n",
              "      <td>DM</td>\n",
              "      <td>M</td>\n",
              "      <td>36.0</td>\n",
              "      <td>NaN</td>\n",
              "    </tr>\n",
              "    <tr>\n",
              "      <th>4</th>\n",
              "      <td>5</td>\n",
              "      <td>7</td>\n",
              "      <td>16</td>\n",
              "      <td>1977</td>\n",
              "      <td>3</td>\n",
              "      <td>DM</td>\n",
              "      <td>M</td>\n",
              "      <td>35.0</td>\n",
              "      <td>NaN</td>\n",
              "    </tr>\n",
              "  </tbody>\n",
              "</table>\n",
              "</div>"
            ],
            "text/plain": [
              "   record_id  month  day  year  plot_id species_id sex  hindfoot_length  \\\n",
              "0          1      7   16  1977        2         NL   M             32.0   \n",
              "1          2      7   16  1977        3         NL   M             33.0   \n",
              "2          3      7   16  1977        2         DM   F             37.0   \n",
              "3          4      7   16  1977        7         DM   M             36.0   \n",
              "4          5      7   16  1977        3         DM   M             35.0   \n",
              "\n",
              "   weight  \n",
              "0     NaN  \n",
              "1     NaN  \n",
              "2     NaN  \n",
              "3     NaN  \n",
              "4     NaN  "
            ]
          },
          "execution_count": 21,
          "metadata": {},
          "output_type": "execute_result"
        }
      ],
      "source": [
        "# imprime as 5 primeiras linhas\n",
        "df.head()"
      ]
    },
    {
      "cell_type": "code",
      "execution_count": 22,
      "metadata": {
        "colab": {
          "base_uri": "https://localhost:8080/",
          "height": 206
        },
        "id": "g_e4pxxIlJl8",
        "outputId": "cdd74c2d-e9bc-4ff6-ee80-f81a4ebd6792"
      },
      "outputs": [
        {
          "data": {
            "application/vnd.microsoft.datawrangler.viewer.v0+json": {
              "columns": [
                {
                  "name": "index",
                  "rawType": "int64",
                  "type": "integer"
                },
                {
                  "name": "record_id",
                  "rawType": "int64",
                  "type": "integer"
                },
                {
                  "name": "month",
                  "rawType": "int64",
                  "type": "integer"
                },
                {
                  "name": "day",
                  "rawType": "int64",
                  "type": "integer"
                },
                {
                  "name": "year",
                  "rawType": "int64",
                  "type": "integer"
                },
                {
                  "name": "plot_id",
                  "rawType": "int64",
                  "type": "integer"
                },
                {
                  "name": "species_id",
                  "rawType": "object",
                  "type": "unknown"
                },
                {
                  "name": "sex",
                  "rawType": "object",
                  "type": "unknown"
                },
                {
                  "name": "hindfoot_length",
                  "rawType": "float64",
                  "type": "float"
                },
                {
                  "name": "weight",
                  "rawType": "float64",
                  "type": "float"
                }
              ],
              "ref": "2c236e96-4c23-47dd-a225-8b34ff306737",
              "rows": [
                [
                  "35544",
                  "35545",
                  "12",
                  "31",
                  "2002",
                  "15",
                  "AH",
                  null,
                  null,
                  null
                ],
                [
                  "35545",
                  "35546",
                  "12",
                  "31",
                  "2002",
                  "15",
                  "AH",
                  null,
                  null,
                  null
                ],
                [
                  "35546",
                  "35547",
                  "12",
                  "31",
                  "2002",
                  "10",
                  "RM",
                  "F",
                  "15.0",
                  "14.0"
                ],
                [
                  "35547",
                  "35548",
                  "12",
                  "31",
                  "2002",
                  "7",
                  "DO",
                  "M",
                  "36.0",
                  "51.0"
                ],
                [
                  "35548",
                  "35549",
                  "12",
                  "31",
                  "2002",
                  "5",
                  null,
                  null,
                  null,
                  null
                ]
              ],
              "shape": {
                "columns": 9,
                "rows": 5
              }
            },
            "text/html": [
              "<div>\n",
              "<style scoped>\n",
              "    .dataframe tbody tr th:only-of-type {\n",
              "        vertical-align: middle;\n",
              "    }\n",
              "\n",
              "    .dataframe tbody tr th {\n",
              "        vertical-align: top;\n",
              "    }\n",
              "\n",
              "    .dataframe thead th {\n",
              "        text-align: right;\n",
              "    }\n",
              "</style>\n",
              "<table border=\"1\" class=\"dataframe\">\n",
              "  <thead>\n",
              "    <tr style=\"text-align: right;\">\n",
              "      <th></th>\n",
              "      <th>record_id</th>\n",
              "      <th>month</th>\n",
              "      <th>day</th>\n",
              "      <th>year</th>\n",
              "      <th>plot_id</th>\n",
              "      <th>species_id</th>\n",
              "      <th>sex</th>\n",
              "      <th>hindfoot_length</th>\n",
              "      <th>weight</th>\n",
              "    </tr>\n",
              "  </thead>\n",
              "  <tbody>\n",
              "    <tr>\n",
              "      <th>35544</th>\n",
              "      <td>35545</td>\n",
              "      <td>12</td>\n",
              "      <td>31</td>\n",
              "      <td>2002</td>\n",
              "      <td>15</td>\n",
              "      <td>AH</td>\n",
              "      <td>NaN</td>\n",
              "      <td>NaN</td>\n",
              "      <td>NaN</td>\n",
              "    </tr>\n",
              "    <tr>\n",
              "      <th>35545</th>\n",
              "      <td>35546</td>\n",
              "      <td>12</td>\n",
              "      <td>31</td>\n",
              "      <td>2002</td>\n",
              "      <td>15</td>\n",
              "      <td>AH</td>\n",
              "      <td>NaN</td>\n",
              "      <td>NaN</td>\n",
              "      <td>NaN</td>\n",
              "    </tr>\n",
              "    <tr>\n",
              "      <th>35546</th>\n",
              "      <td>35547</td>\n",
              "      <td>12</td>\n",
              "      <td>31</td>\n",
              "      <td>2002</td>\n",
              "      <td>10</td>\n",
              "      <td>RM</td>\n",
              "      <td>F</td>\n",
              "      <td>15.0</td>\n",
              "      <td>14.0</td>\n",
              "    </tr>\n",
              "    <tr>\n",
              "      <th>35547</th>\n",
              "      <td>35548</td>\n",
              "      <td>12</td>\n",
              "      <td>31</td>\n",
              "      <td>2002</td>\n",
              "      <td>7</td>\n",
              "      <td>DO</td>\n",
              "      <td>M</td>\n",
              "      <td>36.0</td>\n",
              "      <td>51.0</td>\n",
              "    </tr>\n",
              "    <tr>\n",
              "      <th>35548</th>\n",
              "      <td>35549</td>\n",
              "      <td>12</td>\n",
              "      <td>31</td>\n",
              "      <td>2002</td>\n",
              "      <td>5</td>\n",
              "      <td>NaN</td>\n",
              "      <td>NaN</td>\n",
              "      <td>NaN</td>\n",
              "      <td>NaN</td>\n",
              "    </tr>\n",
              "  </tbody>\n",
              "</table>\n",
              "</div>"
            ],
            "text/plain": [
              "       record_id  month  day  year  plot_id species_id  sex  hindfoot_length  \\\n",
              "35544      35545     12   31  2002       15         AH  NaN              NaN   \n",
              "35545      35546     12   31  2002       15         AH  NaN              NaN   \n",
              "35546      35547     12   31  2002       10         RM    F             15.0   \n",
              "35547      35548     12   31  2002        7         DO    M             36.0   \n",
              "35548      35549     12   31  2002        5        NaN  NaN              NaN   \n",
              "\n",
              "       weight  \n",
              "35544     NaN  \n",
              "35545     NaN  \n",
              "35546    14.0  \n",
              "35547    51.0  \n",
              "35548     NaN  "
            ]
          },
          "execution_count": 22,
          "metadata": {},
          "output_type": "execute_result"
        }
      ],
      "source": [
        "# imprime as 5 últimas linhas\n",
        "df.tail()"
      ]
    },
    {
      "cell_type": "markdown",
      "metadata": {
        "id": "beXj4KrL7lK9"
      },
      "source": [
        "## Acessando uma coluna específica"
      ]
    },
    {
      "cell_type": "code",
      "execution_count": 6,
      "metadata": {
        "colab": {
          "base_uri": "https://localhost:8080/"
        },
        "id": "9fLBI-wjyHWX",
        "outputId": "f4ae63cd-2b46-4a1d-95cd-91f045d9ab40"
      },
      "outputs": [
        {
          "data": {
            "application/vnd.microsoft.datawrangler.viewer.v0+json": {
              "columns": [
                {
                  "name": "index",
                  "rawType": "int64",
                  "type": "integer"
                },
                {
                  "name": "weight",
                  "rawType": "float64",
                  "type": "float"
                }
              ],
              "ref": "430bc3a6-cb02-4ac9-9a02-8c7a41926739",
              "rows": [
                [
                  "0",
                  null
                ],
                [
                  "1",
                  null
                ],
                [
                  "2",
                  null
                ],
                [
                  "3",
                  null
                ],
                [
                  "4",
                  null
                ],
                [
                  "5",
                  null
                ],
                [
                  "6",
                  null
                ],
                [
                  "7",
                  null
                ],
                [
                  "8",
                  null
                ],
                [
                  "9",
                  null
                ],
                [
                  "10",
                  null
                ],
                [
                  "11",
                  null
                ],
                [
                  "12",
                  null
                ],
                [
                  "13",
                  null
                ],
                [
                  "14",
                  null
                ],
                [
                  "15",
                  null
                ],
                [
                  "16",
                  null
                ],
                [
                  "17",
                  null
                ],
                [
                  "18",
                  null
                ],
                [
                  "19",
                  null
                ],
                [
                  "20",
                  null
                ],
                [
                  "21",
                  null
                ],
                [
                  "22",
                  null
                ],
                [
                  "23",
                  null
                ],
                [
                  "24",
                  null
                ],
                [
                  "25",
                  null
                ],
                [
                  "26",
                  null
                ],
                [
                  "27",
                  null
                ],
                [
                  "28",
                  null
                ],
                [
                  "29",
                  null
                ],
                [
                  "30",
                  null
                ],
                [
                  "31",
                  null
                ],
                [
                  "32",
                  null
                ],
                [
                  "33",
                  null
                ],
                [
                  "34",
                  null
                ],
                [
                  "35",
                  null
                ],
                [
                  "36",
                  null
                ],
                [
                  "37",
                  null
                ],
                [
                  "38",
                  null
                ],
                [
                  "39",
                  null
                ],
                [
                  "40",
                  null
                ],
                [
                  "41",
                  null
                ],
                [
                  "42",
                  null
                ],
                [
                  "43",
                  null
                ],
                [
                  "44",
                  null
                ],
                [
                  "45",
                  null
                ],
                [
                  "46",
                  null
                ],
                [
                  "47",
                  null
                ],
                [
                  "48",
                  null
                ],
                [
                  "49",
                  null
                ]
              ],
              "shape": {
                "columns": 1,
                "rows": 35549
              }
            },
            "text/plain": [
              "0         NaN\n",
              "1         NaN\n",
              "2         NaN\n",
              "3         NaN\n",
              "4         NaN\n",
              "         ... \n",
              "35544     NaN\n",
              "35545     NaN\n",
              "35546    14.0\n",
              "35547    51.0\n",
              "35548     NaN\n",
              "Name: weight, Length: 35549, dtype: float64"
            ]
          },
          "execution_count": 6,
          "metadata": {},
          "output_type": "execute_result"
        }
      ],
      "source": [
        "df['weight']"
      ]
    },
    {
      "cell_type": "markdown",
      "metadata": {
        "id": "wQt-noa5lJl5"
      },
      "source": [
        "## Adicionando uma nova coluna"
      ]
    },
    {
      "cell_type": "code",
      "execution_count": 7,
      "metadata": {
        "colab": {
          "base_uri": "https://localhost:8080/",
          "height": 143
        },
        "id": "4Zcnn7fLlJl5",
        "outputId": "66f846a4-6196-430d-8b9d-21a722b8600c"
      },
      "outputs": [
        {
          "data": {
            "application/vnd.microsoft.datawrangler.viewer.v0+json": {
              "columns": [
                {
                  "name": "index",
                  "rawType": "int64",
                  "type": "integer"
                },
                {
                  "name": "record_id",
                  "rawType": "int64",
                  "type": "integer"
                },
                {
                  "name": "month",
                  "rawType": "int64",
                  "type": "integer"
                },
                {
                  "name": "day",
                  "rawType": "int64",
                  "type": "integer"
                },
                {
                  "name": "year",
                  "rawType": "int64",
                  "type": "integer"
                },
                {
                  "name": "plot_id",
                  "rawType": "int64",
                  "type": "integer"
                },
                {
                  "name": "species_id",
                  "rawType": "object",
                  "type": "string"
                },
                {
                  "name": "sex",
                  "rawType": "object",
                  "type": "string"
                },
                {
                  "name": "hindfoot_length",
                  "rawType": "float64",
                  "type": "float"
                },
                {
                  "name": "weight",
                  "rawType": "float64",
                  "type": "float"
                },
                {
                  "name": "weight2",
                  "rawType": "float64",
                  "type": "float"
                }
              ],
              "ref": "c4c53121-a10b-4937-b606-c593f758cdfa",
              "rows": [
                [
                  "0",
                  "1",
                  "7",
                  "16",
                  "1977",
                  "2",
                  "NL",
                  "M",
                  "32.0",
                  null,
                  "0.0"
                ],
                [
                  "1",
                  "2",
                  "7",
                  "16",
                  "1977",
                  "3",
                  "NL",
                  "M",
                  "33.0",
                  null,
                  "0.0"
                ],
                [
                  "2",
                  "3",
                  "7",
                  "16",
                  "1977",
                  "2",
                  "DM",
                  "F",
                  "37.0",
                  null,
                  "0.0"
                ]
              ],
              "shape": {
                "columns": 10,
                "rows": 3
              }
            },
            "text/html": [
              "<div>\n",
              "<style scoped>\n",
              "    .dataframe tbody tr th:only-of-type {\n",
              "        vertical-align: middle;\n",
              "    }\n",
              "\n",
              "    .dataframe tbody tr th {\n",
              "        vertical-align: top;\n",
              "    }\n",
              "\n",
              "    .dataframe thead th {\n",
              "        text-align: right;\n",
              "    }\n",
              "</style>\n",
              "<table border=\"1\" class=\"dataframe\">\n",
              "  <thead>\n",
              "    <tr style=\"text-align: right;\">\n",
              "      <th></th>\n",
              "      <th>record_id</th>\n",
              "      <th>month</th>\n",
              "      <th>day</th>\n",
              "      <th>year</th>\n",
              "      <th>plot_id</th>\n",
              "      <th>species_id</th>\n",
              "      <th>sex</th>\n",
              "      <th>hindfoot_length</th>\n",
              "      <th>weight</th>\n",
              "      <th>weight2</th>\n",
              "    </tr>\n",
              "  </thead>\n",
              "  <tbody>\n",
              "    <tr>\n",
              "      <th>0</th>\n",
              "      <td>1</td>\n",
              "      <td>7</td>\n",
              "      <td>16</td>\n",
              "      <td>1977</td>\n",
              "      <td>2</td>\n",
              "      <td>NL</td>\n",
              "      <td>M</td>\n",
              "      <td>32.0</td>\n",
              "      <td>NaN</td>\n",
              "      <td>0.0</td>\n",
              "    </tr>\n",
              "    <tr>\n",
              "      <th>1</th>\n",
              "      <td>2</td>\n",
              "      <td>7</td>\n",
              "      <td>16</td>\n",
              "      <td>1977</td>\n",
              "      <td>3</td>\n",
              "      <td>NL</td>\n",
              "      <td>M</td>\n",
              "      <td>33.0</td>\n",
              "      <td>NaN</td>\n",
              "      <td>0.0</td>\n",
              "    </tr>\n",
              "    <tr>\n",
              "      <th>2</th>\n",
              "      <td>3</td>\n",
              "      <td>7</td>\n",
              "      <td>16</td>\n",
              "      <td>1977</td>\n",
              "      <td>2</td>\n",
              "      <td>DM</td>\n",
              "      <td>F</td>\n",
              "      <td>37.0</td>\n",
              "      <td>NaN</td>\n",
              "      <td>0.0</td>\n",
              "    </tr>\n",
              "  </tbody>\n",
              "</table>\n",
              "</div>"
            ],
            "text/plain": [
              "   record_id  month  day  year  plot_id species_id sex  hindfoot_length  \\\n",
              "0          1      7   16  1977        2         NL   M             32.0   \n",
              "1          2      7   16  1977        3         NL   M             33.0   \n",
              "2          3      7   16  1977        2         DM   F             37.0   \n",
              "\n",
              "   weight  weight2  \n",
              "0     NaN      0.0  \n",
              "1     NaN      0.0  \n",
              "2     NaN      0.0  "
            ]
          },
          "execution_count": 7,
          "metadata": {},
          "output_type": "execute_result"
        }
      ],
      "source": [
        "df['weight2'] = df['weight'].fillna(0)\n",
        "df[:3]"
      ]
    },
    {
      "cell_type": "markdown",
      "metadata": {
        "id": "l-D0Jh3dlJl5"
      },
      "source": [
        "## Removendo uma coluna"
      ]
    },
    {
      "cell_type": "code",
      "execution_count": 8,
      "metadata": {
        "colab": {
          "base_uri": "https://localhost:8080/",
          "height": 143
        },
        "id": "Ba5l1HezlJl5",
        "outputId": "b0d9e7db-3abc-4cde-d191-463d00fefe67"
      },
      "outputs": [
        {
          "data": {
            "application/vnd.microsoft.datawrangler.viewer.v0+json": {
              "columns": [
                {
                  "name": "index",
                  "rawType": "int64",
                  "type": "integer"
                },
                {
                  "name": "record_id",
                  "rawType": "int64",
                  "type": "integer"
                },
                {
                  "name": "month",
                  "rawType": "int64",
                  "type": "integer"
                },
                {
                  "name": "day",
                  "rawType": "int64",
                  "type": "integer"
                },
                {
                  "name": "year",
                  "rawType": "int64",
                  "type": "integer"
                },
                {
                  "name": "plot_id",
                  "rawType": "int64",
                  "type": "integer"
                },
                {
                  "name": "species_id",
                  "rawType": "object",
                  "type": "string"
                },
                {
                  "name": "sex",
                  "rawType": "object",
                  "type": "string"
                },
                {
                  "name": "hindfoot_length",
                  "rawType": "float64",
                  "type": "float"
                },
                {
                  "name": "weight",
                  "rawType": "float64",
                  "type": "float"
                }
              ],
              "ref": "5955fb0d-17b2-4579-8a37-6cf7096ded7d",
              "rows": [
                [
                  "0",
                  "1",
                  "7",
                  "16",
                  "1977",
                  "2",
                  "NL",
                  "M",
                  "32.0",
                  null
                ],
                [
                  "1",
                  "2",
                  "7",
                  "16",
                  "1977",
                  "3",
                  "NL",
                  "M",
                  "33.0",
                  null
                ],
                [
                  "2",
                  "3",
                  "7",
                  "16",
                  "1977",
                  "2",
                  "DM",
                  "F",
                  "37.0",
                  null
                ]
              ],
              "shape": {
                "columns": 9,
                "rows": 3
              }
            },
            "text/html": [
              "<div>\n",
              "<style scoped>\n",
              "    .dataframe tbody tr th:only-of-type {\n",
              "        vertical-align: middle;\n",
              "    }\n",
              "\n",
              "    .dataframe tbody tr th {\n",
              "        vertical-align: top;\n",
              "    }\n",
              "\n",
              "    .dataframe thead th {\n",
              "        text-align: right;\n",
              "    }\n",
              "</style>\n",
              "<table border=\"1\" class=\"dataframe\">\n",
              "  <thead>\n",
              "    <tr style=\"text-align: right;\">\n",
              "      <th></th>\n",
              "      <th>record_id</th>\n",
              "      <th>month</th>\n",
              "      <th>day</th>\n",
              "      <th>year</th>\n",
              "      <th>plot_id</th>\n",
              "      <th>species_id</th>\n",
              "      <th>sex</th>\n",
              "      <th>hindfoot_length</th>\n",
              "      <th>weight</th>\n",
              "    </tr>\n",
              "  </thead>\n",
              "  <tbody>\n",
              "    <tr>\n",
              "      <th>0</th>\n",
              "      <td>1</td>\n",
              "      <td>7</td>\n",
              "      <td>16</td>\n",
              "      <td>1977</td>\n",
              "      <td>2</td>\n",
              "      <td>NL</td>\n",
              "      <td>M</td>\n",
              "      <td>32.0</td>\n",
              "      <td>NaN</td>\n",
              "    </tr>\n",
              "    <tr>\n",
              "      <th>1</th>\n",
              "      <td>2</td>\n",
              "      <td>7</td>\n",
              "      <td>16</td>\n",
              "      <td>1977</td>\n",
              "      <td>3</td>\n",
              "      <td>NL</td>\n",
              "      <td>M</td>\n",
              "      <td>33.0</td>\n",
              "      <td>NaN</td>\n",
              "    </tr>\n",
              "    <tr>\n",
              "      <th>2</th>\n",
              "      <td>3</td>\n",
              "      <td>7</td>\n",
              "      <td>16</td>\n",
              "      <td>1977</td>\n",
              "      <td>2</td>\n",
              "      <td>DM</td>\n",
              "      <td>F</td>\n",
              "      <td>37.0</td>\n",
              "      <td>NaN</td>\n",
              "    </tr>\n",
              "  </tbody>\n",
              "</table>\n",
              "</div>"
            ],
            "text/plain": [
              "   record_id  month  day  year  plot_id species_id sex  hindfoot_length  \\\n",
              "0          1      7   16  1977        2         NL   M             32.0   \n",
              "1          2      7   16  1977        3         NL   M             33.0   \n",
              "2          3      7   16  1977        2         DM   F             37.0   \n",
              "\n",
              "   weight  \n",
              "0     NaN  \n",
              "1     NaN  \n",
              "2     NaN  "
            ]
          },
          "execution_count": 8,
          "metadata": {},
          "output_type": "execute_result"
        }
      ],
      "source": [
        "df.drop('weight2',axis=1, inplace=True)\n",
        "df[:3]"
      ]
    },
    {
      "cell_type": "markdown",
      "metadata": {
        "id": "AmmQmhbv8vd2"
      },
      "source": [
        "## Acessando uma (ou mais) linhas\n",
        "\n",
        "Para acessar linhas em um DataFrame, você pode usar os métodos `.loc[]` (por rótulo do índice) e `.iloc[]` (por posição inteira). Veja exemplos práticos abaixo:\n",
        "\n",
        "### Usando `.loc[]` (por rótulo do índice)\n",
        "- Acessa linhas pelo **rótulo** (label) do índice.\n",
        "- Exemplo: `df.loc[10]` retorna a linha de índice 10.\n",
        "- Para múltiplas linhas: `df.loc[[2, 5, 10]]`\n",
        "- Para fatias: `df.loc[2:5]` (inclui o índice final)\n",
        "\n",
        "**Exemplos:**\n",
        "- `df.loc[5]` — linha com índice 5\n",
        "- `df.loc[2:4]` — linhas de índice 2 a 4 (inclui o 4)\n",
        "- `df.loc[[2, 5, 10]]` — linhas de índices 2, 5 e 10\n",
        "\n",
        "### Usando `.iloc[]` (por posição inteira)\n",
        "- Acessa linhas pela **posição** (integer position).\n",
        "- Exemplo: `df.iloc[0]` retorna a primeira linha.\n",
        "- Para múltiplas linhas: `df.iloc[[0, 3, 7]]`\n",
        "- Para fatias: `df.iloc[0:5]` (não inclui o índice final)\n",
        "\n",
        "**Exemplos:**\n",
        "- `df.iloc[0]` — primeira linha\n",
        "- `df.iloc[2:4]` — linhas de posição 2 e 3 (não inclui a 4)\n",
        "- `df.iloc[[0, 3, 7]]` — linhas de posições 0, 3 e 7\n",
        "\n",
        "### Outras funções úteis\n",
        "- `.head(n)`: retorna as `n` primeiras linhas.\n",
        "- `.tail(n)`: retorna as `n` últimas linhas."
      ]
    },
    {
      "cell_type": "code",
      "execution_count": 13,
      "metadata": {},
      "outputs": [
        {
          "data": {
            "application/vnd.microsoft.datawrangler.viewer.v0+json": {
              "columns": [
                {
                  "name": "index",
                  "rawType": "object",
                  "type": "string"
                },
                {
                  "name": "5",
                  "rawType": "object",
                  "type": "unknown"
                }
              ],
              "ref": "83df14c3-9ce8-483c-a704-dedf683affec",
              "rows": [
                [
                  "record_id",
                  "6"
                ],
                [
                  "month",
                  "7"
                ],
                [
                  "day",
                  "16"
                ],
                [
                  "year",
                  "1977"
                ],
                [
                  "plot_id",
                  "1"
                ],
                [
                  "species_id",
                  "PF"
                ],
                [
                  "sex",
                  "M"
                ],
                [
                  "hindfoot_length",
                  "14.0"
                ],
                [
                  "weight",
                  null
                ]
              ],
              "shape": {
                "columns": 1,
                "rows": 9
              }
            },
            "text/plain": [
              "record_id             6\n",
              "month                 7\n",
              "day                  16\n",
              "year               1977\n",
              "plot_id               1\n",
              "species_id           PF\n",
              "sex                   M\n",
              "hindfoot_length    14.0\n",
              "weight              NaN\n",
              "Name: 5, dtype: object"
            ]
          },
          "metadata": {},
          "output_type": "display_data"
        }
      ],
      "source": [
        "# Exemplo com loc: linha de índice 5\n",
        "display(df.loc[5])"
      ]
    },
    {
      "cell_type": "code",
      "execution_count": 14,
      "metadata": {},
      "outputs": [
        {
          "data": {
            "application/vnd.microsoft.datawrangler.viewer.v0+json": {
              "columns": [
                {
                  "name": "index",
                  "rawType": "int64",
                  "type": "integer"
                },
                {
                  "name": "record_id",
                  "rawType": "int64",
                  "type": "integer"
                },
                {
                  "name": "month",
                  "rawType": "int64",
                  "type": "integer"
                },
                {
                  "name": "day",
                  "rawType": "int64",
                  "type": "integer"
                },
                {
                  "name": "year",
                  "rawType": "int64",
                  "type": "integer"
                },
                {
                  "name": "plot_id",
                  "rawType": "int64",
                  "type": "integer"
                },
                {
                  "name": "species_id",
                  "rawType": "object",
                  "type": "string"
                },
                {
                  "name": "sex",
                  "rawType": "object",
                  "type": "string"
                },
                {
                  "name": "hindfoot_length",
                  "rawType": "float64",
                  "type": "float"
                },
                {
                  "name": "weight",
                  "rawType": "float64",
                  "type": "float"
                }
              ],
              "ref": "0d87e96e-9249-4dcc-b804-c5078c1ee733",
              "rows": [
                [
                  "2",
                  "3",
                  "7",
                  "16",
                  "1977",
                  "2",
                  "DM",
                  "F",
                  "37.0",
                  null
                ],
                [
                  "3",
                  "4",
                  "7",
                  "16",
                  "1977",
                  "7",
                  "DM",
                  "M",
                  "36.0",
                  null
                ],
                [
                  "4",
                  "5",
                  "7",
                  "16",
                  "1977",
                  "3",
                  "DM",
                  "M",
                  "35.0",
                  null
                ]
              ],
              "shape": {
                "columns": 9,
                "rows": 3
              }
            },
            "text/html": [
              "<div>\n",
              "<style scoped>\n",
              "    .dataframe tbody tr th:only-of-type {\n",
              "        vertical-align: middle;\n",
              "    }\n",
              "\n",
              "    .dataframe tbody tr th {\n",
              "        vertical-align: top;\n",
              "    }\n",
              "\n",
              "    .dataframe thead th {\n",
              "        text-align: right;\n",
              "    }\n",
              "</style>\n",
              "<table border=\"1\" class=\"dataframe\">\n",
              "  <thead>\n",
              "    <tr style=\"text-align: right;\">\n",
              "      <th></th>\n",
              "      <th>record_id</th>\n",
              "      <th>month</th>\n",
              "      <th>day</th>\n",
              "      <th>year</th>\n",
              "      <th>plot_id</th>\n",
              "      <th>species_id</th>\n",
              "      <th>sex</th>\n",
              "      <th>hindfoot_length</th>\n",
              "      <th>weight</th>\n",
              "    </tr>\n",
              "  </thead>\n",
              "  <tbody>\n",
              "    <tr>\n",
              "      <th>2</th>\n",
              "      <td>3</td>\n",
              "      <td>7</td>\n",
              "      <td>16</td>\n",
              "      <td>1977</td>\n",
              "      <td>2</td>\n",
              "      <td>DM</td>\n",
              "      <td>F</td>\n",
              "      <td>37.0</td>\n",
              "      <td>NaN</td>\n",
              "    </tr>\n",
              "    <tr>\n",
              "      <th>3</th>\n",
              "      <td>4</td>\n",
              "      <td>7</td>\n",
              "      <td>16</td>\n",
              "      <td>1977</td>\n",
              "      <td>7</td>\n",
              "      <td>DM</td>\n",
              "      <td>M</td>\n",
              "      <td>36.0</td>\n",
              "      <td>NaN</td>\n",
              "    </tr>\n",
              "    <tr>\n",
              "      <th>4</th>\n",
              "      <td>5</td>\n",
              "      <td>7</td>\n",
              "      <td>16</td>\n",
              "      <td>1977</td>\n",
              "      <td>3</td>\n",
              "      <td>DM</td>\n",
              "      <td>M</td>\n",
              "      <td>35.0</td>\n",
              "      <td>NaN</td>\n",
              "    </tr>\n",
              "  </tbody>\n",
              "</table>\n",
              "</div>"
            ],
            "text/plain": [
              "   record_id  month  day  year  plot_id species_id sex  hindfoot_length  \\\n",
              "2          3      7   16  1977        2         DM   F             37.0   \n",
              "3          4      7   16  1977        7         DM   M             36.0   \n",
              "4          5      7   16  1977        3         DM   M             35.0   \n",
              "\n",
              "   weight  \n",
              "2     NaN  \n",
              "3     NaN  \n",
              "4     NaN  "
            ]
          },
          "metadata": {},
          "output_type": "display_data"
        }
      ],
      "source": [
        "# Exemplo com loc: linhas de índice 2 a 4\n",
        "display(df.loc[2:4])"
      ]
    },
    {
      "cell_type": "code",
      "execution_count": 15,
      "metadata": {},
      "outputs": [
        {
          "data": {
            "application/vnd.microsoft.datawrangler.viewer.v0+json": {
              "columns": [
                {
                  "name": "index",
                  "rawType": "int64",
                  "type": "integer"
                },
                {
                  "name": "record_id",
                  "rawType": "int64",
                  "type": "integer"
                },
                {
                  "name": "month",
                  "rawType": "int64",
                  "type": "integer"
                },
                {
                  "name": "day",
                  "rawType": "int64",
                  "type": "integer"
                },
                {
                  "name": "year",
                  "rawType": "int64",
                  "type": "integer"
                },
                {
                  "name": "plot_id",
                  "rawType": "int64",
                  "type": "integer"
                },
                {
                  "name": "species_id",
                  "rawType": "object",
                  "type": "string"
                },
                {
                  "name": "sex",
                  "rawType": "object",
                  "type": "string"
                },
                {
                  "name": "hindfoot_length",
                  "rawType": "float64",
                  "type": "float"
                },
                {
                  "name": "weight",
                  "rawType": "float64",
                  "type": "float"
                }
              ],
              "ref": "0a5aaa5a-dd12-4b26-a403-bbbcc3eb1fd5",
              "rows": [
                [
                  "2",
                  "3",
                  "7",
                  "16",
                  "1977",
                  "2",
                  "DM",
                  "F",
                  "37.0",
                  null
                ],
                [
                  "5",
                  "6",
                  "7",
                  "16",
                  "1977",
                  "1",
                  "PF",
                  "M",
                  "14.0",
                  null
                ],
                [
                  "10",
                  "11",
                  "7",
                  "16",
                  "1977",
                  "5",
                  "DS",
                  "F",
                  "53.0",
                  null
                ]
              ],
              "shape": {
                "columns": 9,
                "rows": 3
              }
            },
            "text/html": [
              "<div>\n",
              "<style scoped>\n",
              "    .dataframe tbody tr th:only-of-type {\n",
              "        vertical-align: middle;\n",
              "    }\n",
              "\n",
              "    .dataframe tbody tr th {\n",
              "        vertical-align: top;\n",
              "    }\n",
              "\n",
              "    .dataframe thead th {\n",
              "        text-align: right;\n",
              "    }\n",
              "</style>\n",
              "<table border=\"1\" class=\"dataframe\">\n",
              "  <thead>\n",
              "    <tr style=\"text-align: right;\">\n",
              "      <th></th>\n",
              "      <th>record_id</th>\n",
              "      <th>month</th>\n",
              "      <th>day</th>\n",
              "      <th>year</th>\n",
              "      <th>plot_id</th>\n",
              "      <th>species_id</th>\n",
              "      <th>sex</th>\n",
              "      <th>hindfoot_length</th>\n",
              "      <th>weight</th>\n",
              "    </tr>\n",
              "  </thead>\n",
              "  <tbody>\n",
              "    <tr>\n",
              "      <th>2</th>\n",
              "      <td>3</td>\n",
              "      <td>7</td>\n",
              "      <td>16</td>\n",
              "      <td>1977</td>\n",
              "      <td>2</td>\n",
              "      <td>DM</td>\n",
              "      <td>F</td>\n",
              "      <td>37.0</td>\n",
              "      <td>NaN</td>\n",
              "    </tr>\n",
              "    <tr>\n",
              "      <th>5</th>\n",
              "      <td>6</td>\n",
              "      <td>7</td>\n",
              "      <td>16</td>\n",
              "      <td>1977</td>\n",
              "      <td>1</td>\n",
              "      <td>PF</td>\n",
              "      <td>M</td>\n",
              "      <td>14.0</td>\n",
              "      <td>NaN</td>\n",
              "    </tr>\n",
              "    <tr>\n",
              "      <th>10</th>\n",
              "      <td>11</td>\n",
              "      <td>7</td>\n",
              "      <td>16</td>\n",
              "      <td>1977</td>\n",
              "      <td>5</td>\n",
              "      <td>DS</td>\n",
              "      <td>F</td>\n",
              "      <td>53.0</td>\n",
              "      <td>NaN</td>\n",
              "    </tr>\n",
              "  </tbody>\n",
              "</table>\n",
              "</div>"
            ],
            "text/plain": [
              "    record_id  month  day  year  plot_id species_id sex  hindfoot_length  \\\n",
              "2           3      7   16  1977        2         DM   F             37.0   \n",
              "5           6      7   16  1977        1         PF   M             14.0   \n",
              "10         11      7   16  1977        5         DS   F             53.0   \n",
              "\n",
              "    weight  \n",
              "2      NaN  \n",
              "5      NaN  \n",
              "10     NaN  "
            ]
          },
          "metadata": {},
          "output_type": "display_data"
        }
      ],
      "source": [
        "# Exemplo com loc: múltiplos índices\n",
        "display(df.loc[[2, 5, 10]])"
      ]
    },
    {
      "cell_type": "code",
      "execution_count": 16,
      "metadata": {},
      "outputs": [
        {
          "data": {
            "application/vnd.microsoft.datawrangler.viewer.v0+json": {
              "columns": [
                {
                  "name": "index",
                  "rawType": "object",
                  "type": "string"
                },
                {
                  "name": "0",
                  "rawType": "object",
                  "type": "unknown"
                }
              ],
              "ref": "6e8699f4-6902-4007-a0e7-670d6e9838e8",
              "rows": [
                [
                  "record_id",
                  "1"
                ],
                [
                  "month",
                  "7"
                ],
                [
                  "day",
                  "16"
                ],
                [
                  "year",
                  "1977"
                ],
                [
                  "plot_id",
                  "2"
                ],
                [
                  "species_id",
                  "NL"
                ],
                [
                  "sex",
                  "M"
                ],
                [
                  "hindfoot_length",
                  "32.0"
                ],
                [
                  "weight",
                  null
                ]
              ],
              "shape": {
                "columns": 1,
                "rows": 9
              }
            },
            "text/plain": [
              "record_id             1\n",
              "month                 7\n",
              "day                  16\n",
              "year               1977\n",
              "plot_id               2\n",
              "species_id           NL\n",
              "sex                   M\n",
              "hindfoot_length    32.0\n",
              "weight              NaN\n",
              "Name: 0, dtype: object"
            ]
          },
          "metadata": {},
          "output_type": "display_data"
        }
      ],
      "source": [
        "# Exemplo com iloc: primeira linha\n",
        "display(df.iloc[0])"
      ]
    },
    {
      "cell_type": "code",
      "execution_count": 17,
      "metadata": {},
      "outputs": [
        {
          "data": {
            "application/vnd.microsoft.datawrangler.viewer.v0+json": {
              "columns": [
                {
                  "name": "index",
                  "rawType": "int64",
                  "type": "integer"
                },
                {
                  "name": "record_id",
                  "rawType": "int64",
                  "type": "integer"
                },
                {
                  "name": "month",
                  "rawType": "int64",
                  "type": "integer"
                },
                {
                  "name": "day",
                  "rawType": "int64",
                  "type": "integer"
                },
                {
                  "name": "year",
                  "rawType": "int64",
                  "type": "integer"
                },
                {
                  "name": "plot_id",
                  "rawType": "int64",
                  "type": "integer"
                },
                {
                  "name": "species_id",
                  "rawType": "object",
                  "type": "string"
                },
                {
                  "name": "sex",
                  "rawType": "object",
                  "type": "string"
                },
                {
                  "name": "hindfoot_length",
                  "rawType": "float64",
                  "type": "float"
                },
                {
                  "name": "weight",
                  "rawType": "float64",
                  "type": "float"
                }
              ],
              "ref": "28434d84-e836-4591-ad3f-f60f83ded493",
              "rows": [
                [
                  "2",
                  "3",
                  "7",
                  "16",
                  "1977",
                  "2",
                  "DM",
                  "F",
                  "37.0",
                  null
                ],
                [
                  "3",
                  "4",
                  "7",
                  "16",
                  "1977",
                  "7",
                  "DM",
                  "M",
                  "36.0",
                  null
                ]
              ],
              "shape": {
                "columns": 9,
                "rows": 2
              }
            },
            "text/html": [
              "<div>\n",
              "<style scoped>\n",
              "    .dataframe tbody tr th:only-of-type {\n",
              "        vertical-align: middle;\n",
              "    }\n",
              "\n",
              "    .dataframe tbody tr th {\n",
              "        vertical-align: top;\n",
              "    }\n",
              "\n",
              "    .dataframe thead th {\n",
              "        text-align: right;\n",
              "    }\n",
              "</style>\n",
              "<table border=\"1\" class=\"dataframe\">\n",
              "  <thead>\n",
              "    <tr style=\"text-align: right;\">\n",
              "      <th></th>\n",
              "      <th>record_id</th>\n",
              "      <th>month</th>\n",
              "      <th>day</th>\n",
              "      <th>year</th>\n",
              "      <th>plot_id</th>\n",
              "      <th>species_id</th>\n",
              "      <th>sex</th>\n",
              "      <th>hindfoot_length</th>\n",
              "      <th>weight</th>\n",
              "    </tr>\n",
              "  </thead>\n",
              "  <tbody>\n",
              "    <tr>\n",
              "      <th>2</th>\n",
              "      <td>3</td>\n",
              "      <td>7</td>\n",
              "      <td>16</td>\n",
              "      <td>1977</td>\n",
              "      <td>2</td>\n",
              "      <td>DM</td>\n",
              "      <td>F</td>\n",
              "      <td>37.0</td>\n",
              "      <td>NaN</td>\n",
              "    </tr>\n",
              "    <tr>\n",
              "      <th>3</th>\n",
              "      <td>4</td>\n",
              "      <td>7</td>\n",
              "      <td>16</td>\n",
              "      <td>1977</td>\n",
              "      <td>7</td>\n",
              "      <td>DM</td>\n",
              "      <td>M</td>\n",
              "      <td>36.0</td>\n",
              "      <td>NaN</td>\n",
              "    </tr>\n",
              "  </tbody>\n",
              "</table>\n",
              "</div>"
            ],
            "text/plain": [
              "   record_id  month  day  year  plot_id species_id sex  hindfoot_length  \\\n",
              "2          3      7   16  1977        2         DM   F             37.0   \n",
              "3          4      7   16  1977        7         DM   M             36.0   \n",
              "\n",
              "   weight  \n",
              "2     NaN  \n",
              "3     NaN  "
            ]
          },
          "metadata": {},
          "output_type": "display_data"
        },
        {
          "data": {
            "application/vnd.microsoft.datawrangler.viewer.v0+json": {
              "columns": [
                {
                  "name": "index",
                  "rawType": "int64",
                  "type": "integer"
                },
                {
                  "name": "record_id",
                  "rawType": "int64",
                  "type": "integer"
                },
                {
                  "name": "month",
                  "rawType": "int64",
                  "type": "integer"
                },
                {
                  "name": "day",
                  "rawType": "int64",
                  "type": "integer"
                },
                {
                  "name": "year",
                  "rawType": "int64",
                  "type": "integer"
                },
                {
                  "name": "plot_id",
                  "rawType": "int64",
                  "type": "integer"
                },
                {
                  "name": "species_id",
                  "rawType": "object",
                  "type": "string"
                },
                {
                  "name": "sex",
                  "rawType": "object",
                  "type": "string"
                },
                {
                  "name": "hindfoot_length",
                  "rawType": "float64",
                  "type": "float"
                },
                {
                  "name": "weight",
                  "rawType": "float64",
                  "type": "float"
                }
              ],
              "ref": "87da731d-9066-49fa-ae7a-087521fefb68",
              "rows": [
                [
                  "0",
                  "1",
                  "7",
                  "16",
                  "1977",
                  "2",
                  "NL",
                  "M",
                  "32.0",
                  null
                ],
                [
                  "3",
                  "4",
                  "7",
                  "16",
                  "1977",
                  "7",
                  "DM",
                  "M",
                  "36.0",
                  null
                ],
                [
                  "7",
                  "8",
                  "7",
                  "16",
                  "1977",
                  "1",
                  "DM",
                  "M",
                  "37.0",
                  null
                ]
              ],
              "shape": {
                "columns": 9,
                "rows": 3
              }
            },
            "text/html": [
              "<div>\n",
              "<style scoped>\n",
              "    .dataframe tbody tr th:only-of-type {\n",
              "        vertical-align: middle;\n",
              "    }\n",
              "\n",
              "    .dataframe tbody tr th {\n",
              "        vertical-align: top;\n",
              "    }\n",
              "\n",
              "    .dataframe thead th {\n",
              "        text-align: right;\n",
              "    }\n",
              "</style>\n",
              "<table border=\"1\" class=\"dataframe\">\n",
              "  <thead>\n",
              "    <tr style=\"text-align: right;\">\n",
              "      <th></th>\n",
              "      <th>record_id</th>\n",
              "      <th>month</th>\n",
              "      <th>day</th>\n",
              "      <th>year</th>\n",
              "      <th>plot_id</th>\n",
              "      <th>species_id</th>\n",
              "      <th>sex</th>\n",
              "      <th>hindfoot_length</th>\n",
              "      <th>weight</th>\n",
              "    </tr>\n",
              "  </thead>\n",
              "  <tbody>\n",
              "    <tr>\n",
              "      <th>0</th>\n",
              "      <td>1</td>\n",
              "      <td>7</td>\n",
              "      <td>16</td>\n",
              "      <td>1977</td>\n",
              "      <td>2</td>\n",
              "      <td>NL</td>\n",
              "      <td>M</td>\n",
              "      <td>32.0</td>\n",
              "      <td>NaN</td>\n",
              "    </tr>\n",
              "    <tr>\n",
              "      <th>3</th>\n",
              "      <td>4</td>\n",
              "      <td>7</td>\n",
              "      <td>16</td>\n",
              "      <td>1977</td>\n",
              "      <td>7</td>\n",
              "      <td>DM</td>\n",
              "      <td>M</td>\n",
              "      <td>36.0</td>\n",
              "      <td>NaN</td>\n",
              "    </tr>\n",
              "    <tr>\n",
              "      <th>7</th>\n",
              "      <td>8</td>\n",
              "      <td>7</td>\n",
              "      <td>16</td>\n",
              "      <td>1977</td>\n",
              "      <td>1</td>\n",
              "      <td>DM</td>\n",
              "      <td>M</td>\n",
              "      <td>37.0</td>\n",
              "      <td>NaN</td>\n",
              "    </tr>\n",
              "  </tbody>\n",
              "</table>\n",
              "</div>"
            ],
            "text/plain": [
              "   record_id  month  day  year  plot_id species_id sex  hindfoot_length  \\\n",
              "0          1      7   16  1977        2         NL   M             32.0   \n",
              "3          4      7   16  1977        7         DM   M             36.0   \n",
              "7          8      7   16  1977        1         DM   M             37.0   \n",
              "\n",
              "   weight  \n",
              "0     NaN  \n",
              "3     NaN  \n",
              "7     NaN  "
            ]
          },
          "metadata": {},
          "output_type": "display_data"
        }
      ],
      "source": [
        "# Exemplo com iloc: linhas de posição 2 e 3\n",
        "display(df.iloc[2:4])\n",
        "\n",
        "# Exemplo com iloc: múltiplas posições\n",
        "display(df.iloc[[0, 3, 7]])"
      ]
    },
    {
      "cell_type": "markdown",
      "metadata": {},
      "source": [
        "### Selecionando colunas com .loc"
      ]
    },
    {
      "cell_type": "code",
      "execution_count": 9,
      "metadata": {
        "colab": {
          "base_uri": "https://localhost:8080/",
          "height": 423
        },
        "id": "wLfGDTUj8zQL",
        "outputId": "170fa17c-666e-4ffb-c81c-a85c61cab5e4"
      },
      "outputs": [
        {
          "data": {
            "application/vnd.microsoft.datawrangler.viewer.v0+json": {
              "columns": [
                {
                  "name": "index",
                  "rawType": "int64",
                  "type": "integer"
                },
                {
                  "name": "sex",
                  "rawType": "object",
                  "type": "unknown"
                },
                {
                  "name": "species_id",
                  "rawType": "object",
                  "type": "unknown"
                },
                {
                  "name": "weight",
                  "rawType": "float64",
                  "type": "float"
                }
              ],
              "ref": "276dc9f7-7ddb-4ba1-a7f6-904044bab58e",
              "rows": [
                [
                  "0",
                  "M",
                  "NL",
                  null
                ],
                [
                  "1",
                  "M",
                  "NL",
                  null
                ],
                [
                  "2",
                  "F",
                  "DM",
                  null
                ],
                [
                  "3",
                  "M",
                  "DM",
                  null
                ],
                [
                  "4",
                  "M",
                  "DM",
                  null
                ],
                [
                  "5",
                  "M",
                  "PF",
                  null
                ],
                [
                  "6",
                  "F",
                  "PE",
                  null
                ],
                [
                  "7",
                  "M",
                  "DM",
                  null
                ],
                [
                  "8",
                  "F",
                  "DM",
                  null
                ],
                [
                  "9",
                  "F",
                  "PF",
                  null
                ],
                [
                  "10",
                  "F",
                  "DS",
                  null
                ],
                [
                  "11",
                  "M",
                  "DM",
                  null
                ],
                [
                  "12",
                  "M",
                  "DM",
                  null
                ],
                [
                  "13",
                  null,
                  "DM",
                  null
                ],
                [
                  "14",
                  "F",
                  "DM",
                  null
                ],
                [
                  "15",
                  "F",
                  "DM",
                  null
                ],
                [
                  "16",
                  "F",
                  "DS",
                  null
                ],
                [
                  "17",
                  "M",
                  "PP",
                  null
                ],
                [
                  "18",
                  null,
                  "PF",
                  null
                ],
                [
                  "19",
                  "F",
                  "DS",
                  null
                ],
                [
                  "20",
                  "F",
                  "DM",
                  null
                ],
                [
                  "21",
                  "F",
                  "NL",
                  null
                ],
                [
                  "22",
                  "M",
                  "DM",
                  null
                ],
                [
                  "23",
                  "M",
                  "SH",
                  null
                ],
                [
                  "24",
                  "M",
                  "DM",
                  null
                ],
                [
                  "25",
                  "M",
                  "DM",
                  null
                ],
                [
                  "26",
                  "M",
                  "DM",
                  null
                ],
                [
                  "27",
                  "M",
                  "DM",
                  null
                ],
                [
                  "28",
                  "M",
                  "PP",
                  null
                ],
                [
                  "29",
                  "F",
                  "DS",
                  null
                ],
                [
                  "30",
                  "F",
                  "DM",
                  null
                ],
                [
                  "31",
                  "F",
                  "DM",
                  null
                ],
                [
                  "32",
                  "F",
                  "DM",
                  null
                ],
                [
                  "33",
                  null,
                  "DM",
                  null
                ],
                [
                  "34",
                  "F",
                  "DM",
                  null
                ],
                [
                  "35",
                  "F",
                  "OT",
                  null
                ],
                [
                  "36",
                  "F",
                  "DM",
                  null
                ],
                [
                  "37",
                  "M",
                  "NL",
                  null
                ],
                [
                  "38",
                  "F",
                  "DM",
                  null
                ],
                [
                  "39",
                  "M",
                  "DM",
                  null
                ],
                [
                  "40",
                  "F",
                  "DM",
                  null
                ],
                [
                  "41",
                  "F",
                  "DS",
                  null
                ],
                [
                  "42",
                  "M",
                  "DM",
                  null
                ],
                [
                  "43",
                  "F",
                  "DM",
                  null
                ],
                [
                  "44",
                  "M",
                  "DM",
                  null
                ],
                [
                  "45",
                  "M",
                  "DM",
                  null
                ],
                [
                  "46",
                  "M",
                  "DM",
                  null
                ],
                [
                  "47",
                  "F",
                  "DM",
                  null
                ],
                [
                  "48",
                  "F",
                  "PP",
                  null
                ],
                [
                  "49",
                  "F",
                  "DM",
                  null
                ]
              ],
              "shape": {
                "columns": 3,
                "rows": 35549
              }
            },
            "text/html": [
              "<div>\n",
              "<style scoped>\n",
              "    .dataframe tbody tr th:only-of-type {\n",
              "        vertical-align: middle;\n",
              "    }\n",
              "\n",
              "    .dataframe tbody tr th {\n",
              "        vertical-align: top;\n",
              "    }\n",
              "\n",
              "    .dataframe thead th {\n",
              "        text-align: right;\n",
              "    }\n",
              "</style>\n",
              "<table border=\"1\" class=\"dataframe\">\n",
              "  <thead>\n",
              "    <tr style=\"text-align: right;\">\n",
              "      <th></th>\n",
              "      <th>sex</th>\n",
              "      <th>species_id</th>\n",
              "      <th>weight</th>\n",
              "    </tr>\n",
              "  </thead>\n",
              "  <tbody>\n",
              "    <tr>\n",
              "      <th>0</th>\n",
              "      <td>M</td>\n",
              "      <td>NL</td>\n",
              "      <td>NaN</td>\n",
              "    </tr>\n",
              "    <tr>\n",
              "      <th>1</th>\n",
              "      <td>M</td>\n",
              "      <td>NL</td>\n",
              "      <td>NaN</td>\n",
              "    </tr>\n",
              "    <tr>\n",
              "      <th>2</th>\n",
              "      <td>F</td>\n",
              "      <td>DM</td>\n",
              "      <td>NaN</td>\n",
              "    </tr>\n",
              "    <tr>\n",
              "      <th>3</th>\n",
              "      <td>M</td>\n",
              "      <td>DM</td>\n",
              "      <td>NaN</td>\n",
              "    </tr>\n",
              "    <tr>\n",
              "      <th>4</th>\n",
              "      <td>M</td>\n",
              "      <td>DM</td>\n",
              "      <td>NaN</td>\n",
              "    </tr>\n",
              "    <tr>\n",
              "      <th>...</th>\n",
              "      <td>...</td>\n",
              "      <td>...</td>\n",
              "      <td>...</td>\n",
              "    </tr>\n",
              "    <tr>\n",
              "      <th>35544</th>\n",
              "      <td>NaN</td>\n",
              "      <td>AH</td>\n",
              "      <td>NaN</td>\n",
              "    </tr>\n",
              "    <tr>\n",
              "      <th>35545</th>\n",
              "      <td>NaN</td>\n",
              "      <td>AH</td>\n",
              "      <td>NaN</td>\n",
              "    </tr>\n",
              "    <tr>\n",
              "      <th>35546</th>\n",
              "      <td>F</td>\n",
              "      <td>RM</td>\n",
              "      <td>14.0</td>\n",
              "    </tr>\n",
              "    <tr>\n",
              "      <th>35547</th>\n",
              "      <td>M</td>\n",
              "      <td>DO</td>\n",
              "      <td>51.0</td>\n",
              "    </tr>\n",
              "    <tr>\n",
              "      <th>35548</th>\n",
              "      <td>NaN</td>\n",
              "      <td>NaN</td>\n",
              "      <td>NaN</td>\n",
              "    </tr>\n",
              "  </tbody>\n",
              "</table>\n",
              "<p>35549 rows × 3 columns</p>\n",
              "</div>"
            ],
            "text/plain": [
              "       sex species_id  weight\n",
              "0        M         NL     NaN\n",
              "1        M         NL     NaN\n",
              "2        F         DM     NaN\n",
              "3        M         DM     NaN\n",
              "4        M         DM     NaN\n",
              "...    ...        ...     ...\n",
              "35544  NaN         AH     NaN\n",
              "35545  NaN         AH     NaN\n",
              "35546    F         RM    14.0\n",
              "35547    M         DO    51.0\n",
              "35548  NaN        NaN     NaN\n",
              "\n",
              "[35549 rows x 3 columns]"
            ]
          },
          "execution_count": 9,
          "metadata": {},
          "output_type": "execute_result"
        }
      ],
      "source": [
        "df.loc[:, ['sex', 'species_id', 'weight']]"
      ]
    },
    {
      "cell_type": "markdown",
      "metadata": {
        "id": "L-64dBDL9C5A"
      },
      "source": [
        "### Por uma condição"
      ]
    },
    {
      "cell_type": "code",
      "execution_count": 10,
      "metadata": {
        "colab": {
          "base_uri": "https://localhost:8080/",
          "height": 394
        },
        "id": "jb8FFmNt9Ftl",
        "outputId": "c29c4a46-215c-41d3-a61a-972ba4e57071"
      },
      "outputs": [
        {
          "data": {
            "application/vnd.microsoft.datawrangler.viewer.v0+json": {
              "columns": [
                {
                  "name": "index",
                  "rawType": "int64",
                  "type": "integer"
                },
                {
                  "name": "record_id",
                  "rawType": "int64",
                  "type": "integer"
                },
                {
                  "name": "month",
                  "rawType": "int64",
                  "type": "integer"
                },
                {
                  "name": "day",
                  "rawType": "int64",
                  "type": "integer"
                },
                {
                  "name": "year",
                  "rawType": "int64",
                  "type": "integer"
                },
                {
                  "name": "plot_id",
                  "rawType": "int64",
                  "type": "integer"
                },
                {
                  "name": "species_id",
                  "rawType": "object",
                  "type": "string"
                },
                {
                  "name": "sex",
                  "rawType": "object",
                  "type": "string"
                },
                {
                  "name": "hindfoot_length",
                  "rawType": "float64",
                  "type": "float"
                },
                {
                  "name": "weight",
                  "rawType": "float64",
                  "type": "float"
                }
              ],
              "ref": "b0ac443b-58bc-4569-876d-1d334e63f68f",
              "rows": [
                [
                  "2965",
                  "2966",
                  "5",
                  "18",
                  "1980",
                  "15",
                  "PF",
                  "M",
                  "14.0",
                  "7.0"
                ],
                [
                  "2966",
                  "2967",
                  "5",
                  "18",
                  "1980",
                  "15",
                  "PF",
                  "M",
                  "14.0",
                  "7.0"
                ],
                [
                  "2973",
                  "2974",
                  "5",
                  "18",
                  "1980",
                  "13",
                  "PF",
                  "M",
                  "14.0",
                  "6.0"
                ],
                [
                  "2988",
                  "2989",
                  "5",
                  "18",
                  "1980",
                  "15",
                  "PF",
                  "F",
                  "14.0",
                  "8.0"
                ],
                [
                  "2989",
                  "2990",
                  "5",
                  "18",
                  "1980",
                  "3",
                  "PF",
                  "F",
                  "15.0",
                  "7.0"
                ],
                [
                  "21558",
                  "21559",
                  "5",
                  "18",
                  "1994",
                  "19",
                  "PF",
                  "M",
                  "16.0",
                  "8.0"
                ],
                [
                  "21560",
                  "21561",
                  "5",
                  "18",
                  "1994",
                  "19",
                  "PF",
                  "M",
                  "16.0",
                  "6.0"
                ],
                [
                  "21565",
                  "21566",
                  "5",
                  "18",
                  "1994",
                  "19",
                  "PF",
                  "M",
                  "16.0",
                  "9.0"
                ],
                [
                  "21571",
                  "21572",
                  "5",
                  "18",
                  "1994",
                  "21",
                  "PF",
                  "F",
                  "17.0",
                  "7.0"
                ],
                [
                  "21572",
                  "21573",
                  "5",
                  "18",
                  "1994",
                  "21",
                  "PF",
                  "M",
                  "17.0",
                  "7.0"
                ],
                [
                  "21575",
                  "21576",
                  "5",
                  "18",
                  "1994",
                  "24",
                  "RM",
                  "M",
                  "17.0",
                  "9.0"
                ]
              ],
              "shape": {
                "columns": 9,
                "rows": 11
              }
            },
            "text/html": [
              "<div>\n",
              "<style scoped>\n",
              "    .dataframe tbody tr th:only-of-type {\n",
              "        vertical-align: middle;\n",
              "    }\n",
              "\n",
              "    .dataframe tbody tr th {\n",
              "        vertical-align: top;\n",
              "    }\n",
              "\n",
              "    .dataframe thead th {\n",
              "        text-align: right;\n",
              "    }\n",
              "</style>\n",
              "<table border=\"1\" class=\"dataframe\">\n",
              "  <thead>\n",
              "    <tr style=\"text-align: right;\">\n",
              "      <th></th>\n",
              "      <th>record_id</th>\n",
              "      <th>month</th>\n",
              "      <th>day</th>\n",
              "      <th>year</th>\n",
              "      <th>plot_id</th>\n",
              "      <th>species_id</th>\n",
              "      <th>sex</th>\n",
              "      <th>hindfoot_length</th>\n",
              "      <th>weight</th>\n",
              "    </tr>\n",
              "  </thead>\n",
              "  <tbody>\n",
              "    <tr>\n",
              "      <th>2965</th>\n",
              "      <td>2966</td>\n",
              "      <td>5</td>\n",
              "      <td>18</td>\n",
              "      <td>1980</td>\n",
              "      <td>15</td>\n",
              "      <td>PF</td>\n",
              "      <td>M</td>\n",
              "      <td>14.0</td>\n",
              "      <td>7.0</td>\n",
              "    </tr>\n",
              "    <tr>\n",
              "      <th>2966</th>\n",
              "      <td>2967</td>\n",
              "      <td>5</td>\n",
              "      <td>18</td>\n",
              "      <td>1980</td>\n",
              "      <td>15</td>\n",
              "      <td>PF</td>\n",
              "      <td>M</td>\n",
              "      <td>14.0</td>\n",
              "      <td>7.0</td>\n",
              "    </tr>\n",
              "    <tr>\n",
              "      <th>2973</th>\n",
              "      <td>2974</td>\n",
              "      <td>5</td>\n",
              "      <td>18</td>\n",
              "      <td>1980</td>\n",
              "      <td>13</td>\n",
              "      <td>PF</td>\n",
              "      <td>M</td>\n",
              "      <td>14.0</td>\n",
              "      <td>6.0</td>\n",
              "    </tr>\n",
              "    <tr>\n",
              "      <th>2988</th>\n",
              "      <td>2989</td>\n",
              "      <td>5</td>\n",
              "      <td>18</td>\n",
              "      <td>1980</td>\n",
              "      <td>15</td>\n",
              "      <td>PF</td>\n",
              "      <td>F</td>\n",
              "      <td>14.0</td>\n",
              "      <td>8.0</td>\n",
              "    </tr>\n",
              "    <tr>\n",
              "      <th>2989</th>\n",
              "      <td>2990</td>\n",
              "      <td>5</td>\n",
              "      <td>18</td>\n",
              "      <td>1980</td>\n",
              "      <td>3</td>\n",
              "      <td>PF</td>\n",
              "      <td>F</td>\n",
              "      <td>15.0</td>\n",
              "      <td>7.0</td>\n",
              "    </tr>\n",
              "    <tr>\n",
              "      <th>21558</th>\n",
              "      <td>21559</td>\n",
              "      <td>5</td>\n",
              "      <td>18</td>\n",
              "      <td>1994</td>\n",
              "      <td>19</td>\n",
              "      <td>PF</td>\n",
              "      <td>M</td>\n",
              "      <td>16.0</td>\n",
              "      <td>8.0</td>\n",
              "    </tr>\n",
              "    <tr>\n",
              "      <th>21560</th>\n",
              "      <td>21561</td>\n",
              "      <td>5</td>\n",
              "      <td>18</td>\n",
              "      <td>1994</td>\n",
              "      <td>19</td>\n",
              "      <td>PF</td>\n",
              "      <td>M</td>\n",
              "      <td>16.0</td>\n",
              "      <td>6.0</td>\n",
              "    </tr>\n",
              "    <tr>\n",
              "      <th>21565</th>\n",
              "      <td>21566</td>\n",
              "      <td>5</td>\n",
              "      <td>18</td>\n",
              "      <td>1994</td>\n",
              "      <td>19</td>\n",
              "      <td>PF</td>\n",
              "      <td>M</td>\n",
              "      <td>16.0</td>\n",
              "      <td>9.0</td>\n",
              "    </tr>\n",
              "    <tr>\n",
              "      <th>21571</th>\n",
              "      <td>21572</td>\n",
              "      <td>5</td>\n",
              "      <td>18</td>\n",
              "      <td>1994</td>\n",
              "      <td>21</td>\n",
              "      <td>PF</td>\n",
              "      <td>F</td>\n",
              "      <td>17.0</td>\n",
              "      <td>7.0</td>\n",
              "    </tr>\n",
              "    <tr>\n",
              "      <th>21572</th>\n",
              "      <td>21573</td>\n",
              "      <td>5</td>\n",
              "      <td>18</td>\n",
              "      <td>1994</td>\n",
              "      <td>21</td>\n",
              "      <td>PF</td>\n",
              "      <td>M</td>\n",
              "      <td>17.0</td>\n",
              "      <td>7.0</td>\n",
              "    </tr>\n",
              "    <tr>\n",
              "      <th>21575</th>\n",
              "      <td>21576</td>\n",
              "      <td>5</td>\n",
              "      <td>18</td>\n",
              "      <td>1994</td>\n",
              "      <td>24</td>\n",
              "      <td>RM</td>\n",
              "      <td>M</td>\n",
              "      <td>17.0</td>\n",
              "      <td>9.0</td>\n",
              "    </tr>\n",
              "  </tbody>\n",
              "</table>\n",
              "</div>"
            ],
            "text/plain": [
              "       record_id  month  day  year  plot_id species_id sex  hindfoot_length  \\\n",
              "2965        2966      5   18  1980       15         PF   M             14.0   \n",
              "2966        2967      5   18  1980       15         PF   M             14.0   \n",
              "2973        2974      5   18  1980       13         PF   M             14.0   \n",
              "2988        2989      5   18  1980       15         PF   F             14.0   \n",
              "2989        2990      5   18  1980        3         PF   F             15.0   \n",
              "21558      21559      5   18  1994       19         PF   M             16.0   \n",
              "21560      21561      5   18  1994       19         PF   M             16.0   \n",
              "21565      21566      5   18  1994       19         PF   M             16.0   \n",
              "21571      21572      5   18  1994       21         PF   F             17.0   \n",
              "21572      21573      5   18  1994       21         PF   M             17.0   \n",
              "21575      21576      5   18  1994       24         RM   M             17.0   \n",
              "\n",
              "       weight  \n",
              "2965      7.0  \n",
              "2966      7.0  \n",
              "2973      6.0  \n",
              "2988      8.0  \n",
              "2989      7.0  \n",
              "21558     8.0  \n",
              "21560     6.0  \n",
              "21565     9.0  \n",
              "21571     7.0  \n",
              "21572     7.0  \n",
              "21575     9.0  "
            ]
          },
          "execution_count": 10,
          "metadata": {},
          "output_type": "execute_result"
        }
      ],
      "source": [
        "df.loc[(df['day'] == 18) & \n",
        "       (df['month'] == 5) &\n",
        "       (df['weight'] < 10)]"
      ]
    },
    {
      "cell_type": "markdown",
      "metadata": {
        "id": "GJqyvbOAlJl6"
      },
      "source": [
        "### Exercício\n",
        "Selecione a coluna `weight` dos animais machos coletados no mês de maio"
      ]
    },
    {
      "cell_type": "code",
      "execution_count": 18,
      "metadata": {
        "colab": {
          "base_uri": "https://localhost:8080/",
          "height": 423
        },
        "id": "Pr4aVEz7lJl7",
        "outputId": "88a06e33-f014-41b7-c0e1-3478b398fd56"
      },
      "outputs": [],
      "source": [
        "# df.loc[ <filtro de linhas> , <filtro de colunas> ]"
      ]
    },
    {
      "cell_type": "markdown",
      "metadata": {
        "id": "10uq6VuN7w7d"
      },
      "source": [
        "## Descrição geral do dataframe"
      ]
    },
    {
      "cell_type": "markdown",
      "metadata": {
        "id": "gvh3MaHQlJl7"
      },
      "source": [
        "### Tipos das colunas"
      ]
    },
    {
      "cell_type": "code",
      "execution_count": 19,
      "metadata": {
        "colab": {
          "base_uri": "https://localhost:8080/"
        },
        "id": "_INLAYAHlJl7",
        "outputId": "3d8de810-1999-4b0a-c9b1-26473bff8b0c"
      },
      "outputs": [
        {
          "data": {
            "application/vnd.microsoft.datawrangler.viewer.v0+json": {
              "columns": [
                {
                  "name": "index",
                  "rawType": "object",
                  "type": "string"
                },
                {
                  "name": "0",
                  "rawType": "object",
                  "type": "unknown"
                }
              ],
              "ref": "0280c039-26d1-42dd-b965-769891de1e0e",
              "rows": [
                [
                  "record_id",
                  "int64"
                ],
                [
                  "month",
                  "int64"
                ],
                [
                  "day",
                  "int64"
                ],
                [
                  "year",
                  "int64"
                ],
                [
                  "plot_id",
                  "int64"
                ],
                [
                  "species_id",
                  "object"
                ],
                [
                  "sex",
                  "object"
                ],
                [
                  "hindfoot_length",
                  "float64"
                ],
                [
                  "weight",
                  "float64"
                ]
              ],
              "shape": {
                "columns": 1,
                "rows": 9
              }
            },
            "text/plain": [
              "record_id            int64\n",
              "month                int64\n",
              "day                  int64\n",
              "year                 int64\n",
              "plot_id              int64\n",
              "species_id          object\n",
              "sex                 object\n",
              "hindfoot_length    float64\n",
              "weight             float64\n",
              "dtype: object"
            ]
          },
          "execution_count": 19,
          "metadata": {},
          "output_type": "execute_result"
        }
      ],
      "source": [
        "df.dtypes"
      ]
    },
    {
      "cell_type": "code",
      "execution_count": 20,
      "metadata": {
        "colab": {
          "base_uri": "https://localhost:8080/",
          "height": 394
        },
        "id": "5ggSJ4dh7pjl",
        "outputId": "ffaf91f7-b519-4ffd-82ef-a2855227f2cb"
      },
      "outputs": [
        {
          "data": {
            "application/vnd.microsoft.datawrangler.viewer.v0+json": {
              "columns": [
                {
                  "name": "index",
                  "rawType": "object",
                  "type": "string"
                },
                {
                  "name": "record_id",
                  "rawType": "float64",
                  "type": "float"
                },
                {
                  "name": "month",
                  "rawType": "float64",
                  "type": "float"
                },
                {
                  "name": "day",
                  "rawType": "float64",
                  "type": "float"
                },
                {
                  "name": "year",
                  "rawType": "float64",
                  "type": "float"
                },
                {
                  "name": "plot_id",
                  "rawType": "float64",
                  "type": "float"
                },
                {
                  "name": "species_id",
                  "rawType": "object",
                  "type": "unknown"
                },
                {
                  "name": "sex",
                  "rawType": "object",
                  "type": "unknown"
                },
                {
                  "name": "hindfoot_length",
                  "rawType": "float64",
                  "type": "float"
                },
                {
                  "name": "weight",
                  "rawType": "float64",
                  "type": "float"
                }
              ],
              "ref": "691a69ee-319e-434b-8837-3bca0f4b48a0",
              "rows": [
                [
                  "count",
                  "35549.0",
                  "35549.0",
                  "35549.0",
                  "35549.0",
                  "35549.0",
                  "34786",
                  "33038",
                  "31438.0",
                  "32283.0"
                ],
                [
                  "unique",
                  null,
                  null,
                  null,
                  null,
                  null,
                  "48",
                  "2",
                  null,
                  null
                ],
                [
                  "top",
                  null,
                  null,
                  null,
                  null,
                  null,
                  "DM",
                  "M",
                  null,
                  null
                ],
                [
                  "freq",
                  null,
                  null,
                  null,
                  null,
                  null,
                  "10596",
                  "17348",
                  null,
                  null
                ],
                [
                  "mean",
                  "17775.0",
                  "6.474021772764353",
                  "16.105966412557315",
                  "1990.475231370784",
                  "11.397001322118765",
                  null,
                  null,
                  "29.287931802277498",
                  "42.672428212991356"
                ],
                [
                  "std",
                  "10262.256696263254",
                  "3.396582764627544",
                  "8.256690881666916",
                  "7.493355222363468",
                  "6.799405500965638",
                  null,
                  null,
                  "9.564758680929518",
                  "36.63125947458358"
                ],
                [
                  "min",
                  "1.0",
                  "1.0",
                  "1.0",
                  "1977.0",
                  "1.0",
                  null,
                  null,
                  "2.0",
                  "4.0"
                ],
                [
                  "25%",
                  "8888.0",
                  "4.0",
                  "9.0",
                  "1984.0",
                  "5.0",
                  null,
                  null,
                  "21.0",
                  "20.0"
                ],
                [
                  "50%",
                  "17775.0",
                  "6.0",
                  "16.0",
                  "1990.0",
                  "11.0",
                  null,
                  null,
                  "32.0",
                  "37.0"
                ],
                [
                  "75%",
                  "26662.0",
                  "9.0",
                  "23.0",
                  "1997.0",
                  "17.0",
                  null,
                  null,
                  "36.0",
                  "48.0"
                ],
                [
                  "max",
                  "35549.0",
                  "12.0",
                  "31.0",
                  "2002.0",
                  "24.0",
                  null,
                  null,
                  "70.0",
                  "280.0"
                ]
              ],
              "shape": {
                "columns": 9,
                "rows": 11
              }
            },
            "text/html": [
              "<div>\n",
              "<style scoped>\n",
              "    .dataframe tbody tr th:only-of-type {\n",
              "        vertical-align: middle;\n",
              "    }\n",
              "\n",
              "    .dataframe tbody tr th {\n",
              "        vertical-align: top;\n",
              "    }\n",
              "\n",
              "    .dataframe thead th {\n",
              "        text-align: right;\n",
              "    }\n",
              "</style>\n",
              "<table border=\"1\" class=\"dataframe\">\n",
              "  <thead>\n",
              "    <tr style=\"text-align: right;\">\n",
              "      <th></th>\n",
              "      <th>record_id</th>\n",
              "      <th>month</th>\n",
              "      <th>day</th>\n",
              "      <th>year</th>\n",
              "      <th>plot_id</th>\n",
              "      <th>species_id</th>\n",
              "      <th>sex</th>\n",
              "      <th>hindfoot_length</th>\n",
              "      <th>weight</th>\n",
              "    </tr>\n",
              "  </thead>\n",
              "  <tbody>\n",
              "    <tr>\n",
              "      <th>count</th>\n",
              "      <td>35549.000000</td>\n",
              "      <td>35549.000000</td>\n",
              "      <td>35549.000000</td>\n",
              "      <td>35549.000000</td>\n",
              "      <td>35549.000000</td>\n",
              "      <td>34786</td>\n",
              "      <td>33038</td>\n",
              "      <td>31438.000000</td>\n",
              "      <td>32283.000000</td>\n",
              "    </tr>\n",
              "    <tr>\n",
              "      <th>unique</th>\n",
              "      <td>NaN</td>\n",
              "      <td>NaN</td>\n",
              "      <td>NaN</td>\n",
              "      <td>NaN</td>\n",
              "      <td>NaN</td>\n",
              "      <td>48</td>\n",
              "      <td>2</td>\n",
              "      <td>NaN</td>\n",
              "      <td>NaN</td>\n",
              "    </tr>\n",
              "    <tr>\n",
              "      <th>top</th>\n",
              "      <td>NaN</td>\n",
              "      <td>NaN</td>\n",
              "      <td>NaN</td>\n",
              "      <td>NaN</td>\n",
              "      <td>NaN</td>\n",
              "      <td>DM</td>\n",
              "      <td>M</td>\n",
              "      <td>NaN</td>\n",
              "      <td>NaN</td>\n",
              "    </tr>\n",
              "    <tr>\n",
              "      <th>freq</th>\n",
              "      <td>NaN</td>\n",
              "      <td>NaN</td>\n",
              "      <td>NaN</td>\n",
              "      <td>NaN</td>\n",
              "      <td>NaN</td>\n",
              "      <td>10596</td>\n",
              "      <td>17348</td>\n",
              "      <td>NaN</td>\n",
              "      <td>NaN</td>\n",
              "    </tr>\n",
              "    <tr>\n",
              "      <th>mean</th>\n",
              "      <td>17775.000000</td>\n",
              "      <td>6.474022</td>\n",
              "      <td>16.105966</td>\n",
              "      <td>1990.475231</td>\n",
              "      <td>11.397001</td>\n",
              "      <td>NaN</td>\n",
              "      <td>NaN</td>\n",
              "      <td>29.287932</td>\n",
              "      <td>42.672428</td>\n",
              "    </tr>\n",
              "    <tr>\n",
              "      <th>std</th>\n",
              "      <td>10262.256696</td>\n",
              "      <td>3.396583</td>\n",
              "      <td>8.256691</td>\n",
              "      <td>7.493355</td>\n",
              "      <td>6.799406</td>\n",
              "      <td>NaN</td>\n",
              "      <td>NaN</td>\n",
              "      <td>9.564759</td>\n",
              "      <td>36.631259</td>\n",
              "    </tr>\n",
              "    <tr>\n",
              "      <th>min</th>\n",
              "      <td>1.000000</td>\n",
              "      <td>1.000000</td>\n",
              "      <td>1.000000</td>\n",
              "      <td>1977.000000</td>\n",
              "      <td>1.000000</td>\n",
              "      <td>NaN</td>\n",
              "      <td>NaN</td>\n",
              "      <td>2.000000</td>\n",
              "      <td>4.000000</td>\n",
              "    </tr>\n",
              "    <tr>\n",
              "      <th>25%</th>\n",
              "      <td>8888.000000</td>\n",
              "      <td>4.000000</td>\n",
              "      <td>9.000000</td>\n",
              "      <td>1984.000000</td>\n",
              "      <td>5.000000</td>\n",
              "      <td>NaN</td>\n",
              "      <td>NaN</td>\n",
              "      <td>21.000000</td>\n",
              "      <td>20.000000</td>\n",
              "    </tr>\n",
              "    <tr>\n",
              "      <th>50%</th>\n",
              "      <td>17775.000000</td>\n",
              "      <td>6.000000</td>\n",
              "      <td>16.000000</td>\n",
              "      <td>1990.000000</td>\n",
              "      <td>11.000000</td>\n",
              "      <td>NaN</td>\n",
              "      <td>NaN</td>\n",
              "      <td>32.000000</td>\n",
              "      <td>37.000000</td>\n",
              "    </tr>\n",
              "    <tr>\n",
              "      <th>75%</th>\n",
              "      <td>26662.000000</td>\n",
              "      <td>9.000000</td>\n",
              "      <td>23.000000</td>\n",
              "      <td>1997.000000</td>\n",
              "      <td>17.000000</td>\n",
              "      <td>NaN</td>\n",
              "      <td>NaN</td>\n",
              "      <td>36.000000</td>\n",
              "      <td>48.000000</td>\n",
              "    </tr>\n",
              "    <tr>\n",
              "      <th>max</th>\n",
              "      <td>35549.000000</td>\n",
              "      <td>12.000000</td>\n",
              "      <td>31.000000</td>\n",
              "      <td>2002.000000</td>\n",
              "      <td>24.000000</td>\n",
              "      <td>NaN</td>\n",
              "      <td>NaN</td>\n",
              "      <td>70.000000</td>\n",
              "      <td>280.000000</td>\n",
              "    </tr>\n",
              "  </tbody>\n",
              "</table>\n",
              "</div>"
            ],
            "text/plain": [
              "           record_id         month           day          year       plot_id  \\\n",
              "count   35549.000000  35549.000000  35549.000000  35549.000000  35549.000000   \n",
              "unique           NaN           NaN           NaN           NaN           NaN   \n",
              "top              NaN           NaN           NaN           NaN           NaN   \n",
              "freq             NaN           NaN           NaN           NaN           NaN   \n",
              "mean    17775.000000      6.474022     16.105966   1990.475231     11.397001   \n",
              "std     10262.256696      3.396583      8.256691      7.493355      6.799406   \n",
              "min         1.000000      1.000000      1.000000   1977.000000      1.000000   \n",
              "25%      8888.000000      4.000000      9.000000   1984.000000      5.000000   \n",
              "50%     17775.000000      6.000000     16.000000   1990.000000     11.000000   \n",
              "75%     26662.000000      9.000000     23.000000   1997.000000     17.000000   \n",
              "max     35549.000000     12.000000     31.000000   2002.000000     24.000000   \n",
              "\n",
              "       species_id    sex  hindfoot_length        weight  \n",
              "count       34786  33038     31438.000000  32283.000000  \n",
              "unique         48      2              NaN           NaN  \n",
              "top            DM      M              NaN           NaN  \n",
              "freq        10596  17348              NaN           NaN  \n",
              "mean          NaN    NaN        29.287932     42.672428  \n",
              "std           NaN    NaN         9.564759     36.631259  \n",
              "min           NaN    NaN         2.000000      4.000000  \n",
              "25%           NaN    NaN        21.000000     20.000000  \n",
              "50%           NaN    NaN        32.000000     37.000000  \n",
              "75%           NaN    NaN        36.000000     48.000000  \n",
              "max           NaN    NaN        70.000000    280.000000  "
            ]
          },
          "execution_count": 20,
          "metadata": {},
          "output_type": "execute_result"
        }
      ],
      "source": [
        "df.describe(include='all')"
      ]
    },
    {
      "cell_type": "markdown",
      "metadata": {
        "id": "YyOBuG33lJl8"
      },
      "source": [
        "### Visualizando a contagem de elementos"
      ]
    },
    {
      "cell_type": "code",
      "execution_count": 23,
      "metadata": {
        "colab": {
          "base_uri": "https://localhost:8080/"
        },
        "id": "yqQWMzSIlJl8",
        "outputId": "414d534d-b03c-41b3-d264-bdf898300565"
      },
      "outputs": [
        {
          "data": {
            "application/vnd.microsoft.datawrangler.viewer.v0+json": {
              "columns": [
                {
                  "name": "species_id",
                  "rawType": "object",
                  "type": "string"
                },
                {
                  "name": "count",
                  "rawType": "int64",
                  "type": "integer"
                }
              ],
              "ref": "1108d8ac-b97c-4e03-8b74-4b0ac3f03f59",
              "rows": [
                [
                  "DM",
                  "10596"
                ],
                [
                  "PP",
                  "3123"
                ],
                [
                  "DO",
                  "3027"
                ],
                [
                  "PB",
                  "2891"
                ],
                [
                  "RM",
                  "2609"
                ],
                [
                  "DS",
                  "2504"
                ],
                [
                  "OT",
                  "2249"
                ],
                [
                  "PF",
                  "1597"
                ],
                [
                  "PE",
                  "1299"
                ],
                [
                  "NL",
                  "1252"
                ],
                [
                  "OL",
                  "1006"
                ],
                [
                  "PM",
                  "899"
                ],
                [
                  "AH",
                  "437"
                ],
                [
                  "AB",
                  "303"
                ],
                [
                  "SS",
                  "248"
                ],
                [
                  "SH",
                  "147"
                ],
                [
                  "SA",
                  "75"
                ],
                [
                  "RF",
                  "75"
                ],
                [
                  "CB",
                  "50"
                ],
                [
                  "BA",
                  "46"
                ],
                [
                  "SO",
                  "43"
                ],
                [
                  "SF",
                  "43"
                ],
                [
                  "DX",
                  "40"
                ],
                [
                  "PC",
                  "39"
                ],
                [
                  "PL",
                  "36"
                ],
                [
                  "PH",
                  "32"
                ],
                [
                  "CQ",
                  "16"
                ],
                [
                  "CM",
                  "13"
                ],
                [
                  "OX",
                  "12"
                ],
                [
                  "UR",
                  "10"
                ],
                [
                  "PI",
                  "9"
                ],
                [
                  "UP",
                  "8"
                ],
                [
                  "PG",
                  "8"
                ],
                [
                  "RO",
                  "8"
                ],
                [
                  "PX",
                  "6"
                ],
                [
                  "SU",
                  "5"
                ],
                [
                  "PU",
                  "5"
                ],
                [
                  "US",
                  "4"
                ],
                [
                  "UL",
                  "4"
                ],
                [
                  "AS",
                  "2"
                ],
                [
                  "RX",
                  "2"
                ],
                [
                  "ZL",
                  "2"
                ],
                [
                  "ST",
                  "1"
                ],
                [
                  "CU",
                  "1"
                ],
                [
                  "SC",
                  "1"
                ],
                [
                  "CS",
                  "1"
                ],
                [
                  "CT",
                  "1"
                ],
                [
                  "CV",
                  "1"
                ]
              ],
              "shape": {
                "columns": 1,
                "rows": 48
              }
            },
            "text/plain": [
              "species_id\n",
              "DM    10596\n",
              "PP     3123\n",
              "DO     3027\n",
              "PB     2891\n",
              "RM     2609\n",
              "DS     2504\n",
              "OT     2249\n",
              "PF     1597\n",
              "PE     1299\n",
              "NL     1252\n",
              "OL     1006\n",
              "PM      899\n",
              "AH      437\n",
              "AB      303\n",
              "SS      248\n",
              "SH      147\n",
              "SA       75\n",
              "RF       75\n",
              "CB       50\n",
              "BA       46\n",
              "SO       43\n",
              "SF       43\n",
              "DX       40\n",
              "PC       39\n",
              "PL       36\n",
              "PH       32\n",
              "CQ       16\n",
              "CM       13\n",
              "OX       12\n",
              "UR       10\n",
              "PI        9\n",
              "UP        8\n",
              "PG        8\n",
              "RO        8\n",
              "PX        6\n",
              "SU        5\n",
              "PU        5\n",
              "US        4\n",
              "UL        4\n",
              "AS        2\n",
              "RX        2\n",
              "ZL        2\n",
              "ST        1\n",
              "CU        1\n",
              "SC        1\n",
              "CS        1\n",
              "CT        1\n",
              "CV        1\n",
              "Name: count, dtype: int64"
            ]
          },
          "execution_count": 23,
          "metadata": {},
          "output_type": "execute_result"
        }
      ],
      "source": [
        "df['species_id'].value_counts()"
      ]
    },
    {
      "cell_type": "markdown",
      "metadata": {},
      "source": [
        "## Funções de agregação\n",
        "### Group By"
      ]
    },
    {
      "cell_type": "code",
      "execution_count": null,
      "metadata": {},
      "outputs": [
        {
          "data": {
            "text/plain": [
              "species_id  sex\n",
              "AH          M             NaN\n",
              "BA          F        9.161290\n",
              "            M        7.357143\n",
              "DM          F       41.609685\n",
              "            M       44.353134\n",
              "DO          F       48.531250\n",
              "            M       49.135102\n",
              "DS          F      117.749548\n",
              "            M      122.290984\n",
              "NL          F      154.282209\n",
              "            M      165.652893\n",
              "OL          F       31.065817\n",
              "            M       32.068410\n",
              "OT          F       24.830904\n",
              "            M       23.695382\n",
              "OX          F       21.000000\n",
              "            M       21.000000\n",
              "PB          F       30.210884\n",
              "            M       33.816498\n",
              "PE          F       22.822183\n",
              "            M       20.584906\n",
              "PF          F        7.974394\n",
              "            M        7.885287\n",
              "PH          F       30.850000\n",
              "            M       31.454545\n",
              "PI          M       19.428571\n",
              "PL          F       19.312500\n",
              "            M       18.684211\n",
              "PM          F       22.125668\n",
              "            M       20.801205\n",
              "PP          F       17.180670\n",
              "            M       17.184486\n",
              "PX          F       20.000000\n",
              "            M       18.000000\n",
              "RF          F       13.684211\n",
              "            M       12.444444\n",
              "RM          F       11.102196\n",
              "            M       10.123226\n",
              "RO          F       11.000000\n",
              "            M        9.500000\n",
              "RX          M       15.500000\n",
              "SF          F       69.000000\n",
              "            M       53.434783\n",
              "SH          F       78.756410\n",
              "            M       65.177419\n",
              "SO          F       55.322581\n",
              "            M       55.700000\n",
              "SS          F       57.000000\n",
              "            M      130.000000\n",
              "Name: weight, dtype: float64"
            ]
          },
          "metadata": {},
          "output_type": "display_data"
        }
      ],
      "source": [
        "df.groupby(by=['species_id','sex'])['weight'].mean()"
      ]
    },
    {
      "cell_type": "markdown",
      "metadata": {
        "id": "R_-RBEnm8SBb"
      },
      "source": [
        "## Plotando gráficos"
      ]
    },
    {
      "cell_type": "code",
      "execution_count": 26,
      "metadata": {},
      "outputs": [
        {
          "name": "stdout",
          "output_type": "stream",
          "text": [
            "Collecting matplotlib\n",
            "  Downloading matplotlib-3.10.3-cp312-cp312-macosx_11_0_arm64.whl.metadata (11 kB)\n",
            "  Downloading matplotlib-3.10.3-cp312-cp312-macosx_11_0_arm64.whl.metadata (11 kB)\n",
            "Collecting contourpy>=1.0.1 (from matplotlib)\n",
            "Collecting contourpy>=1.0.1 (from matplotlib)\n",
            "  Downloading contourpy-1.3.2-cp312-cp312-macosx_11_0_arm64.whl.metadata (5.5 kB)\n",
            "  Downloading contourpy-1.3.2-cp312-cp312-macosx_11_0_arm64.whl.metadata (5.5 kB)\n",
            "Collecting cycler>=0.10 (from matplotlib)\n",
            "Collecting cycler>=0.10 (from matplotlib)\n",
            "  Downloading cycler-0.12.1-py3-none-any.whl.metadata (3.8 kB)\n",
            "  Downloading cycler-0.12.1-py3-none-any.whl.metadata (3.8 kB)\n",
            "Collecting fonttools>=4.22.0 (from matplotlib)\n",
            "Collecting fonttools>=4.22.0 (from matplotlib)\n",
            "  Downloading fonttools-4.58.0-cp312-cp312-macosx_10_13_universal2.whl.metadata (104 kB)\n",
            "  Downloading fonttools-4.58.0-cp312-cp312-macosx_10_13_universal2.whl.metadata (104 kB)\n",
            "Collecting kiwisolver>=1.3.1 (from matplotlib)\n",
            "Collecting kiwisolver>=1.3.1 (from matplotlib)\n",
            "  Downloading kiwisolver-1.4.8-cp312-cp312-macosx_11_0_arm64.whl.metadata (6.2 kB)\n",
            "Requirement already satisfied: numpy>=1.23 in /Users/andrenascimento/miniconda3/lib/python3.12/site-packages (from matplotlib) (2.2.6)\n",
            "Requirement already satisfied: packaging>=20.0 in /Users/andrenascimento/miniconda3/lib/python3.12/site-packages (from matplotlib) (24.2)\n",
            "  Downloading kiwisolver-1.4.8-cp312-cp312-macosx_11_0_arm64.whl.metadata (6.2 kB)\n",
            "Requirement already satisfied: numpy>=1.23 in /Users/andrenascimento/miniconda3/lib/python3.12/site-packages (from matplotlib) (2.2.6)\n",
            "Requirement already satisfied: packaging>=20.0 in /Users/andrenascimento/miniconda3/lib/python3.12/site-packages (from matplotlib) (24.2)\n",
            "Collecting pillow>=8 (from matplotlib)\n",
            "Collecting pillow>=8 (from matplotlib)\n",
            "  Downloading pillow-11.2.1-cp312-cp312-macosx_11_0_arm64.whl.metadata (8.9 kB)\n",
            "  Downloading pillow-11.2.1-cp312-cp312-macosx_11_0_arm64.whl.metadata (8.9 kB)\n",
            "Collecting pyparsing>=2.3.1 (from matplotlib)\n",
            "  Using cached pyparsing-3.2.3-py3-none-any.whl.metadata (5.0 kB)\n",
            "Requirement already satisfied: python-dateutil>=2.7 in /Users/andrenascimento/miniconda3/lib/python3.12/site-packages (from matplotlib) (2.9.0.post0)\n",
            "Requirement already satisfied: six>=1.5 in /Users/andrenascimento/miniconda3/lib/python3.12/site-packages (from python-dateutil>=2.7->matplotlib) (1.17.0)\n",
            "Collecting pyparsing>=2.3.1 (from matplotlib)\n",
            "  Using cached pyparsing-3.2.3-py3-none-any.whl.metadata (5.0 kB)\n",
            "Requirement already satisfied: python-dateutil>=2.7 in /Users/andrenascimento/miniconda3/lib/python3.12/site-packages (from matplotlib) (2.9.0.post0)\n",
            "Requirement already satisfied: six>=1.5 in /Users/andrenascimento/miniconda3/lib/python3.12/site-packages (from python-dateutil>=2.7->matplotlib) (1.17.0)\n",
            "Downloading matplotlib-3.10.3-cp312-cp312-macosx_11_0_arm64.whl (8.1 MB)\n",
            "\u001b[?25l   \u001b[90m━━━━━━━━━━━━━━━━━━━━━━━━━━━━━━━━━━━━━━━━\u001b[0m \u001b[32m0.0/8.1 MB\u001b[0m \u001b[31m?\u001b[0m eta \u001b[36m-:--:--\u001b[0mDownloading matplotlib-3.10.3-cp312-cp312-macosx_11_0_arm64.whl (8.1 MB)\n",
            "\u001b[2K   \u001b[90m━━━━━━━━━━━━━━━━━━━━━━━━━━━━━━━━━━━━━━━━\u001b[0m \u001b[32m8.1/8.1 MB\u001b[0m \u001b[31m21.7 MB/s\u001b[0m eta \u001b[36m0:00:00\u001b[0ma \u001b[36m0:00:01\u001b[0m\n",
            "\u001b[2K   \u001b[90m━━━━━━━━━━━━━━━━━━━━━━━━━━━━━━━━━━━━━━━━\u001b[0m \u001b[32m8.1/8.1 MB\u001b[0m \u001b[31m21.7 MB/s\u001b[0m eta \u001b[36m0:00:00\u001b[0ma \u001b[36m0:00:01\u001b[0m\n",
            "\u001b[?25hDownloading contourpy-1.3.2-cp312-cp312-macosx_11_0_arm64.whl (255 kB)\n",
            "Downloading contourpy-1.3.2-cp312-cp312-macosx_11_0_arm64.whl (255 kB)\n",
            "Downloading cycler-0.12.1-py3-none-any.whl (8.3 kB)\n",
            "Downloading cycler-0.12.1-py3-none-any.whl (8.3 kB)\n",
            "Downloading fonttools-4.58.0-cp312-cp312-macosx_10_13_universal2.whl (2.7 MB)\n",
            "\u001b[?25l   \u001b[90m━━━━━━━━━━━━━━━━━━━━━━━━━━━━━━━━━━━━━━━━\u001b[0m \u001b[32m0.0/2.7 MB\u001b[0m \u001b[31m?\u001b[0m eta \u001b[36m-:--:--\u001b[0mDownloading fonttools-4.58.0-cp312-cp312-macosx_10_13_universal2.whl (2.7 MB)\n",
            "\u001b[2K   \u001b[90m━━━━━━━━━━━━━━━━━━━━━━━━━━━━━━━━━━━━━━━━\u001b[0m \u001b[32m2.7/2.7 MB\u001b[0m \u001b[31m20.3 MB/s\u001b[0m eta \u001b[36m0:00:00\u001b[0m\n",
            "\u001b[2K   \u001b[90m━━━━━━━━━━━━━━━━━━━━━━━━━━━━━━━━━━━━━━━━\u001b[0m \u001b[32m2.7/2.7 MB\u001b[0m \u001b[31m20.3 MB/s\u001b[0m eta \u001b[36m0:00:00\u001b[0m\n",
            "\u001b[?25hDownloading kiwisolver-1.4.8-cp312-cp312-macosx_11_0_arm64.whl (65 kB)\n",
            "Downloading kiwisolver-1.4.8-cp312-cp312-macosx_11_0_arm64.whl (65 kB)\n",
            "Downloading pillow-11.2.1-cp312-cp312-macosx_11_0_arm64.whl (3.0 MB)\n",
            "Downloading pillow-11.2.1-cp312-cp312-macosx_11_0_arm64.whl (3.0 MB)\n",
            "\u001b[2K   \u001b[90m━━━━━━━━━━━━━━━━━━━━━━━━━━━━━━━━━━━━━━━━\u001b[0m \u001b[32m3.0/3.0 MB\u001b[0m \u001b[31m57.6 MB/s\u001b[0m eta \u001b[36m0:00:00\u001b[0m\n",
            "\u001b[2K   \u001b[90m━━━━━━━━━━━━━━━━━━━━━━━━━━━━━━━━━━━━━━━━\u001b[0m \u001b[32m3.0/3.0 MB\u001b[0m \u001b[31m57.6 MB/s\u001b[0m eta \u001b[36m0:00:00\u001b[0m\n",
            "\u001b[?25hUsing cached pyparsing-3.2.3-py3-none-any.whl (111 kB)\n",
            "Using cached pyparsing-3.2.3-py3-none-any.whl (111 kB)\n",
            "Installing collected packages: pyparsing, pillow, kiwisolver, fonttools, cycler, contourpy, matplotlib\n",
            "Installing collected packages: pyparsing, pillow, kiwisolver, fonttools, cycler, contourpy, matplotlib\n",
            "Successfully installed contourpy-1.3.2 cycler-0.12.1 fonttools-4.58.0 kiwisolver-1.4.8 matplotlib-3.10.3 pillow-11.2.1 pyparsing-3.2.3\n",
            "Successfully installed contourpy-1.3.2 cycler-0.12.1 fonttools-4.58.0 kiwisolver-1.4.8 matplotlib-3.10.3 pillow-11.2.1 pyparsing-3.2.3\n"
          ]
        }
      ],
      "source": [
        "# instalando o matplotlib\n",
        "!pip install matplotlib"
      ]
    },
    {
      "cell_type": "code",
      "execution_count": 27,
      "metadata": {
        "colab": {
          "base_uri": "https://localhost:8080/",
          "height": 343
        },
        "id": "E7OmnRes75xs",
        "outputId": "d66c9e9f-59ee-4b33-f602-0d12e8a25940"
      },
      "outputs": [
        {
          "name": "stdout",
          "output_type": "stream",
          "text": [
            "\n"
          ]
        },
        {
          "data": {
            "image/png": "[encoded data removed]",
            "text/plain": [
              "<Figure size 1500x500 with 1 Axes>"
            ]
          },
          "metadata": {},
          "output_type": "display_data"
        }
      ],
      "source": [
        "%matplotlib inline\n",
        "\n",
        "# gráfico de barras\n",
        "df['species_id'].value_counts().plot(kind='bar', figsize=(15,5))\n",
        "print()"
      ]
    },
    {
      "cell_type": "code",
      "execution_count": 28,
      "metadata": {
        "colab": {
          "base_uri": "https://localhost:8080/",
          "height": 338
        },
        "id": "a27n0H5NlJl8",
        "outputId": "3a3760b8-f618-4182-a365-47cc82f766b5"
      },
      "outputs": [
        {
          "name": "stdout",
          "output_type": "stream",
          "text": [
            "\n"
          ]
        },
        {
          "data": {
            "image/png": "[encoded data removed]",
            "text/plain": [
              "<Figure size 1500x500 with 1 Axes>"
            ]
          },
          "metadata": {},
          "output_type": "display_data"
        }
      ],
      "source": [
        "# histograma\n",
        "df['weight'].plot(kind='hist', figsize=(15,5), bins=30)\n",
        "print()"
      ]
    },
    {
      "cell_type": "markdown",
      "metadata": {
        "id": "Rjhv8KfGlJl8"
      },
      "source": [
        "## Boxplots\n",
        "O Box Plot (também chamado de box e whisker plot) é um método alternativo ao histograma e ao ramo-e-folha para representar os dados.\n",
        "\n",
        "O Box Plot fornece informação sobre as seguintes características do conjunto de dados: localização, dispersão, assimetria, comprimento da cauda e outliers (medidas discrepantes).\n",
        "\n",
        "Embora o Boxplot forneça informação sobre localização e dispersão, seu verdadeiro valor está na informação que fornece sobre a cauda da distribuição.\n",
        "\n",
        "Pontos desgarrados (Outliers) podem afetar de forma adversa as decisões a serem tomadas a partir da análise dos dados se não forem devidamente considerados."
      ]
    },
    {
      "cell_type": "code",
      "execution_count": 29,
      "metadata": {
        "colab": {
          "base_uri": "https://localhost:8080/",
          "height": 373
        },
        "id": "2Hb7qRMBlJl9",
        "outputId": "a7ccf728-fbf0-4ba2-c262-16684a9464b4"
      },
      "outputs": [
        {
          "name": "stdout",
          "output_type": "stream",
          "text": [
            "\n"
          ]
        },
        {
          "data": {
            "image/png": "[encoded data removed]",
            "text/plain": [
              "<Figure size 640x480 with 1 Axes>"
            ]
          },
          "metadata": {},
          "output_type": "display_data"
        }
      ],
      "source": [
        "# boxplot\n",
        "df.loc[:,['sex','hindfoot_length']].boxplot(by='sex')\n",
        "print()"
      ]
    },
    {
      "cell_type": "markdown",
      "metadata": {
        "id": "w9ugem8mlJl9"
      },
      "source": [
        "## Exercício 1\n",
        "\n",
        "Plote um histograma da coluna `hindfoot_length`"
      ]
    },
    {
      "cell_type": "code",
      "execution_count": null,
      "metadata": {
        "id": "gGSNYNnClJl9"
      },
      "outputs": [],
      "source": []
    },
    {
      "cell_type": "markdown",
      "metadata": {
        "id": "-QyF1080lJl9"
      },
      "source": [
        "## Exercício 2\n",
        "\n",
        "Plote um gráfico de barras da coluna `sex`"
      ]
    },
    {
      "cell_type": "code",
      "execution_count": null,
      "metadata": {
        "id": "3lDsi0crlJl9"
      },
      "outputs": [],
      "source": []
    },
    {
      "cell_type": "markdown",
      "metadata": {
        "id": "fx91Fp4ilJl9"
      },
      "source": [
        "# Explorando correlações"
      ]
    },
    {
      "cell_type": "code",
      "execution_count": 31,
      "metadata": {},
      "outputs": [
        {
          "data": {
            "text/plain": [
              "Index(['record_id', 'month', 'day', 'year', 'plot_id', 'species_id', 'sex',\n",
              "       'hindfoot_length', 'weight'],\n",
              "      dtype='object')"
            ]
          },
          "execution_count": 31,
          "metadata": {},
          "output_type": "execute_result"
        }
      ],
      "source": [
        "df.columns"
      ]
    },
    {
      "cell_type": "code",
      "execution_count": 32,
      "metadata": {
        "colab": {
          "base_uri": "https://localhost:8080/",
          "height": 269
        },
        "id": "ZMyD7dc4lJl9",
        "outputId": "3e25a82f-eb8b-49c8-e104-8d41ee8f802e"
      },
      "outputs": [
        {
          "data": {
            "application/vnd.microsoft.datawrangler.viewer.v0+json": {
              "columns": [
                {
                  "name": "index",
                  "rawType": "object",
                  "type": "string"
                },
                {
                  "name": "hindfoot_length",
                  "rawType": "float64",
                  "type": "float"
                },
                {
                  "name": "weight",
                  "rawType": "float64",
                  "type": "float"
                }
              ],
              "ref": "763bd82a-b23b-4d4a-a12f-2205093b9f33",
              "rows": [
                [
                  "hindfoot_length",
                  "1.0",
                  "0.6838127650872712"
                ],
                [
                  "weight",
                  "0.6838127650872712",
                  "1.0"
                ]
              ],
              "shape": {
                "columns": 2,
                "rows": 2
              }
            },
            "text/html": [
              "<div>\n",
              "<style scoped>\n",
              "    .dataframe tbody tr th:only-of-type {\n",
              "        vertical-align: middle;\n",
              "    }\n",
              "\n",
              "    .dataframe tbody tr th {\n",
              "        vertical-align: top;\n",
              "    }\n",
              "\n",
              "    .dataframe thead th {\n",
              "        text-align: right;\n",
              "    }\n",
              "</style>\n",
              "<table border=\"1\" class=\"dataframe\">\n",
              "  <thead>\n",
              "    <tr style=\"text-align: right;\">\n",
              "      <th></th>\n",
              "      <th>hindfoot_length</th>\n",
              "      <th>weight</th>\n",
              "    </tr>\n",
              "  </thead>\n",
              "  <tbody>\n",
              "    <tr>\n",
              "      <th>hindfoot_length</th>\n",
              "      <td>1.000000</td>\n",
              "      <td>0.683813</td>\n",
              "    </tr>\n",
              "    <tr>\n",
              "      <th>weight</th>\n",
              "      <td>0.683813</td>\n",
              "      <td>1.000000</td>\n",
              "    </tr>\n",
              "  </tbody>\n",
              "</table>\n",
              "</div>"
            ],
            "text/plain": [
              "                 hindfoot_length    weight\n",
              "hindfoot_length         1.000000  0.683813\n",
              "weight                  0.683813  1.000000"
            ]
          },
          "execution_count": 32,
          "metadata": {},
          "output_type": "execute_result"
        }
      ],
      "source": [
        "df.loc[:, ['hindfoot_length', 'weight']].corr()"
      ]
    },
    {
      "cell_type": "markdown",
      "metadata": {},
      "source": [
        "## Visualizando"
      ]
    },
    {
      "cell_type": "code",
      "execution_count": 38,
      "metadata": {},
      "outputs": [
        {
          "data": {
            "text/plain": [
              "<Axes: xlabel='hindfoot_length', ylabel='weight'>"
            ]
          },
          "execution_count": 38,
          "metadata": {},
          "output_type": "execute_result"
        },
        {
          "data": {
            "image/png": "[encoded data removed]",
            "text/plain": [
              "<Figure size 1000x500 with 1 Axes>"
            ]
          },
          "metadata": {},
          "output_type": "display_data"
        }
      ],
      "source": [
        "df.loc[:, ['hindfoot_length', 'weight']].plot(kind='scatter', x='hindfoot_length', y='weight', figsize=(10,5))"
      ]
    },
    {
      "cell_type": "code",
      "execution_count": 35,
      "metadata": {},
      "outputs": [
        {
          "data": {
            "image/png": "[encoded data removed]",
            "text/plain": [
              "<Figure size 640x480 with 1 Axes>"
            ]
          },
          "metadata": {},
          "output_type": "display_data"
        }
      ],
      "source": [
        "import matplotlib.pyplot as plt\n",
        "colors = {'M': 'blue', 'F': 'red', None: 'gray'}\n",
        "ax = plt.gca()\n",
        "for sex, group in df.groupby('sex'):\n",
        "    group.plot(\n",
        "        kind='scatter',\n",
        "        x='hindfoot_length',\n",
        "        y='weight',\n",
        "        ax=ax,\n",
        "        label=sex,\n",
        "        alpha=0.5,\n",
        "        color=colors.get(sex, 'gray')\n",
        "    )\n",
        "plt.legend(title='sex')\n",
        "plt.show()"
      ]
    },
    {
      "cell_type": "markdown",
      "metadata": {
        "id": "lVWLBBI98c0z"
      },
      "source": [
        "## Exercício\n",
        "\n",
        "Plote um gráfico de dispersão (scatter plot) mostrando a relação entre `hindfoot_length` e `weight` para as **3 espécies mais comuns** no dataframe (`df`). "
      ]
    },
    {
      "cell_type": "code",
      "execution_count": 56,
      "metadata": {},
      "outputs": [],
      "source": [
        "# sua resposta"
      ]
    },
    {
      "cell_type": "code",
      "execution_count": null,
      "metadata": {},
      "outputs": [],
      "source": []
    }
  ],
  "metadata": {
    "colab": {
      "include_colab_link": true,
      "name": "01_Pandas.ipynb",
      "provenance": [],
      "toc_visible": true
    },
    "kernelspec": {
      "display_name": "base",
      "language": "python",
      "name": "python3"
    },
    "language_info": {
      "codemirror_mode": {
        "name": "ipython",
        "version": 3
      },
      "file_extension": ".py",
      "mimetype": "text/x-python",
      "name": "python",
      "nbconvert_exporter": "python",
      "pygments_lexer": "ipython3",
      "version": "3.12.9"
    }
  },
  "nbformat": 4,
  "nbformat_minor": 0
}
