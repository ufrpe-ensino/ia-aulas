{
  "cells": [
    {
      "cell_type": "markdown",
      "metadata": {
        "id": "view-in-github",
        "colab_type": "text"
      },
      "source": [
        "<a href=\"https://colab.research.google.com/github/ufrpe-ensino/ia-aulas/blob/master/00-intro/01_Intro-Python.ipynb\" target=\"_parent\"><img src=\"https://colab.research.google.com/assets/colab-badge.svg\" alt=\"Open In Colab\"/></a>"
      ]
    },
    {
      "cell_type": "markdown",
      "id": "9dd33fc9",
      "metadata": {
        "id": "9dd33fc9"
      },
      "source": [
        "# Introdução à Sintaxe Básica de Python\n",
        "\n",
        "Nesta aula, você irá aprender os principais conceitos da sintaxe básica da linguagem Python, incluindo variáveis, tipos de dados, estruturas de controle, listas, tuplas, dicionários, funções e operações fundamentais.\n",
        "\n",
        "## Objetivos\n",
        "- Compreender a sintaxe básica do Python\n",
        "- Declarar e manipular variáveis\n",
        "- Utilizar listas, tuplas e dicionários\n",
        "- Escrever funções simples\n",
        "- Utilizar estruturas de controle (condicionais e laços)\n"
      ]
    },
    {
      "cell_type": "markdown",
      "id": "50efca0b",
      "metadata": {
        "id": "50efca0b"
      },
      "source": [
        "## Sumário\n",
        "1. [Variáveis e Tipos de Dados](#variaveis)\n",
        "2. [Listas, Tuplas e Dicionários](#estruturas)\n",
        "3. [Estruturas de Controle](#controle)\n",
        "4. [Funções](#funcoes)\n"
      ]
    },
    {
      "cell_type": "markdown",
      "id": "57e25c01",
      "metadata": {
        "id": "57e25c01"
      },
      "source": [
        "## 1. Variáveis e Tipos de Dados <a id=\"variaveis\"></a>\n",
        "Em Python, as variáveis são criadas dinamicamente e não é necessário declarar o tipo. Veja exemplos abaixo:"
      ]
    },
    {
      "cell_type": "code",
      "execution_count": null,
      "id": "42fca2a9",
      "metadata": {
        "id": "42fca2a9"
      },
      "outputs": [],
      "source": [
        "# Variaveis sao dinamicamente tipadas\n",
        "nome = \"João\"\n",
        "idade = 45\n",
        "peso = 85.3\n",
        "\n",
        "print(\"Nome -> \", type(nome))\n",
        "print(\"Idade -> \", type(idade))\n",
        "print(\"Peso -> \", type(peso))\n",
        "\n",
        "# Variaveis podem ser reatribuídas\n",
        "print()\n",
        "nome = 123\n",
        "idade = \"Quarenta e cinco\"\n",
        "peso = True\n",
        "print(\"Nome -> \", type(nome))\n",
        "print(\"Idade -> \", type(idade))\n",
        "print(\"Peso -> \", type(peso))"
      ]
    },
    {
      "cell_type": "code",
      "execution_count": null,
      "id": "f9ed6ca7",
      "metadata": {
        "id": "f9ed6ca7"
      },
      "outputs": [],
      "source": [
        "# restaurando os valores\n",
        "nome = \"João\"\n",
        "idade = 45\n",
        "peso = 85.3\n",
        "\n",
        "# Listas possuem tipos diferentes e podem ser modificadas\n",
        "dados = [nome, idade, peso, 5]\n",
        "print(dados)\n",
        "\n",
        "# Listas possuem tipos diferentes mas não podem ser modificadas\n",
        "ponto = (1,3,-1)\n",
        "print(ponto)\n",
        "\n",
        "# Dicionarios mapeiam uma chave a um valor\n",
        "dic = {'nome':nome, 'idade':idade, 'peso':peso, 'end': 'Av. Jornalista Anibal Fernandes, Centro de Informática'}\n",
        "print(dic)\n",
        "print(f\"Nome: {dic['nome']:s}\")"
      ]
    },
    {
      "cell_type": "markdown",
      "id": "bf2f5b66",
      "metadata": {
        "id": "bf2f5b66"
      },
      "source": [
        "## 2. Listas, Tuplas e Dicionários <a id=\"estruturas\"></a>\n",
        "Python possui diferentes estruturas de dados para armazenar coleções de valores:\n",
        "- **Listas**: coleções mutáveis de itens\n",
        "- **Tuplas**: coleções imutáveis de itens\n",
        "- **Dicionários**: coleções de pares chave-valor\n",
        "\n",
        "Veja exemplos de uso abaixo:"
      ]
    },
    {
      "cell_type": "code",
      "execution_count": null,
      "id": "1a640699",
      "metadata": {
        "id": "1a640699"
      },
      "outputs": [],
      "source": [
        "# Testes condicionais\n",
        "if idade > 65:\n",
        "    # Indentacao para definir o nivel das instrucoes\n",
        "    print(nome, \"é um candidato a se aposentar\")\n",
        "    print(\"Erro\")\n",
        "else:\n",
        "    print(nome, \"tem de trabalhar mais um pouco\")"
      ]
    },
    {
      "cell_type": "code",
      "execution_count": null,
      "id": "03db9919",
      "metadata": {
        "id": "03db9919"
      },
      "outputs": [],
      "source": [
        "# Repeticoes podem ser feitas de duas formas\n",
        "# 1 - usando lacos while\n",
        "vezes = 1\n",
        "while vezes <= 5:\n",
        "    print(\"Já passei por aqui {0} vez(es)\".format(vezes))\n",
        "    vezes += 1"
      ]
    },
    {
      "cell_type": "code",
      "execution_count": null,
      "id": "8d2c6af5",
      "metadata": {
        "id": "8d2c6af5"
      },
      "outputs": [],
      "source": [
        "# 2 - enumerando os elementos de uma lista (objeto iteravel)\n",
        "for vezes in [1, 2, 3, 4, 5]:\n",
        "    print(\"Já passei por aqui {0} vez(es)\".format(vezes))\n",
        "print(\"====\")\n",
        "# Ou ainda\n",
        "for vezes in range(1,6,1):\n",
        "    print(\"Já passei por aqui {0} vez(es)\".format(vezes))"
      ]
    },
    {
      "cell_type": "code",
      "execution_count": null,
      "id": "43add7e7",
      "metadata": {
        "id": "43add7e7"
      },
      "outputs": [],
      "source": [
        "for dado in dados:\n",
        "    print(dado)"
      ]
    },
    {
      "cell_type": "markdown",
      "id": "db46f2d9",
      "metadata": {
        "id": "db46f2d9"
      },
      "source": [
        "## 3. Estruturas de Controle <a id=\"controle\"></a>\n",
        "Python utiliza indentação para definir blocos de código. As principais estruturas de controle são:\n",
        "- **Condicionais** (`if`, `else`, `elif`)\n",
        "- **Laços de repetição** (`for`, `while`)\n",
        "\n",
        "Veja exemplos de uso abaixo:"
      ]
    },
    {
      "cell_type": "code",
      "execution_count": null,
      "id": "b723a0f9",
      "metadata": {
        "id": "b723a0f9"
      },
      "outputs": [],
      "source": [
        "for i in range(0,len(dados),1):\n",
        "    print(dados[i])"
      ]
    },
    {
      "cell_type": "code",
      "execution_count": null,
      "id": "c4a0c564",
      "metadata": {
        "id": "c4a0c564"
      },
      "outputs": [],
      "source": [
        "#Slicing\n",
        "print(dados[2:4])"
      ]
    },
    {
      "cell_type": "markdown",
      "id": "1d98a919",
      "metadata": {
        "id": "1d98a919"
      },
      "source": [
        "## 4. Funções <a id=\"funcoes\"></a>\n",
        "Funções permitem reutilizar código e organizar programas. Em Python, funções são definidas com a palavra-chave `def`.\n",
        "\n",
        "Veja exemplos de funções tradicionais e funções lambda abaixo:"
      ]
    },
    {
      "cell_type": "code",
      "execution_count": null,
      "id": "e8bad340",
      "metadata": {
        "id": "e8bad340"
      },
      "outputs": [],
      "source": [
        "# Funcoes em Python\n",
        "def quadrado(x):\n",
        "    return x**2\n",
        "\n",
        "print(quadrado(3))\n",
        "\n",
        "# Funcoes mais simples podem ser definidas como funcoes lambda\n",
        "f = lambda x: x**2\n",
        "print(f(3))"
      ]
    },
    {
      "cell_type": "markdown",
      "id": "5aba17b9",
      "metadata": {
        "id": "5aba17b9"
      },
      "source": [
        "## Exercício\n",
        "\n",
        "Crie uma função chamada `soma_lista` que receba uma lista de números como parâmetro e retorne a soma de todos os elementos da lista.\n",
        "\n",
        "Em seguida, teste sua função com a lista `[1, 2, 3, 4, 5]`."
      ]
    },
    {
      "cell_type": "code",
      "execution_count": null,
      "id": "fbdccd6d",
      "metadata": {
        "id": "fbdccd6d"
      },
      "outputs": [],
      "source": [
        "# Sua resposta aqui\n",
        "\n",
        "def soma_lista(lista):\n",
        "    # Implemente a função\n",
        "    pass\n",
        "\n",
        "# Teste a função\n",
        "# print(soma_lista([1, 2, 3, 4, 5]))"
      ]
    },
    {
      "cell_type": "code",
      "execution_count": null,
      "id": "8c2156c3",
      "metadata": {
        "id": "8c2156c3"
      },
      "outputs": [],
      "source": []
    }
  ],
  "metadata": {
    "kernelspec": {
      "display_name": "base",
      "language": "python",
      "name": "python3"
    },
    "language_info": {
      "codemirror_mode": {
        "name": "ipython",
        "version": 3
      },
      "file_extension": ".py",
      "mimetype": "text/x-python",
      "name": "python",
      "nbconvert_exporter": "python",
      "pygments_lexer": "ipython3",
      "version": "3.12.9"
    },
    "colab": {
      "provenance": [],
      "include_colab_link": true
    }
  },
  "nbformat": 4,
  "nbformat_minor": 5
}