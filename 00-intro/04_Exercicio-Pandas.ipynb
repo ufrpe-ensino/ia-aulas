{
  "cells": [
    {
      "cell_type": "markdown",
      "metadata": {
        "colab_type": "text",
        "id": "Iakh6uUJzcpc"
      },
      "source": [
        "# Exploração de dados: Pandas\n",
        "\n",
        "## Introdução\n",
        "\n",
        "Usaremos um conjunto de dados de acelerômetro de celular e leituras de giroscópio, disponível no (Repositório UCI)[https://archive.ics.uci.edu/dataset/240/human+activity+recognition+using+smartphones]. \n",
        "As medições foram catalogadas  em um total de 06 atividades distintas (WALKING, WALKING_UPSTAIRS, WALKING_DOWNSTAIRS, SITTING, STANDING, LAYING)\n",
        "\n",
        "Vídeo do experimento: http://www.youtube.com/watch?v=XOEN9W05_4A \n"
      ]
    },
    {
      "cell_type": "markdown",
      "metadata": {},
      "source": [
        "<iframe width=\"560\" height=\"315\" src=\"https://www.youtube.com/embed/XOEN9W05_4A?si=e2PE1AOZUhvIsZI4\" title=\"YouTube video player\" frameborder=\"0\" allow=\"accelerometer; autoplay; clipboard-write; encrypted-media; gyroscope; picture-in-picture; web-share\" referrerpolicy=\"strict-origin-when-cross-origin\" allowfullscreen></iframe>"
      ]
    },
    {
      "cell_type": "markdown",
      "metadata": {
        "colab_type": "text",
        "id": "QItav1wH3XAN"
      },
      "source": [
        "### Leitura e visualização inicial\n",
        "Os dados podem ser lidos a partir de uma URL diretamente em um pandas dataframe. "
      ]
    },
    {
      "cell_type": "code",
      "execution_count": null,
      "metadata": {
        "colab": {
          "base_uri": "https://localhost:8080/",
          "height": 34
        },
        "colab_type": "code",
        "id": "Y1fGRz3Czcpf",
        "outputId": "c3a680cf-545e-4bb6-bfe9-abcfa6db20c0"
      },
      "outputs": [],
      "source": [
        "import pandas as pd\n",
        "df = pd.read_csv('https://raw.githubusercontent.com/nborwankar/LearnDataScience/master/datasets/samsung/samsungdata.csv')"
      ]
    },
    {
      "cell_type": "markdown",
      "metadata": {
        "colab_type": "text",
        "id": "Z4oR2cn53k_F"
      },
      "source": [
        "Utilize o atributo `df.columns` para visualizar as colunas existentes no dataframe lido"
      ]
    },
    {
      "cell_type": "code",
      "execution_count": 0,
      "metadata": {
        "colab": {},
        "colab_type": "code",
        "id": "xpoGuHE-3vMv"
      },
      "outputs": [],
      "source": []
    },
    {
      "cell_type": "markdown",
      "metadata": {
        "colab_type": "text",
        "id": "EQZbsA553vWA"
      },
      "source": [
        "Utilize as funções `head()` e `tail()` para visualizar o início e o fim do dataframe, respectivamente"
      ]
    },
    {
      "cell_type": "code",
      "execution_count": 0,
      "metadata": {
        "colab": {},
        "colab_type": "code",
        "id": "sc5tBfaB3-bT"
      },
      "outputs": [],
      "source": []
    },
    {
      "cell_type": "code",
      "execution_count": 0,
      "metadata": {
        "colab": {},
        "colab_type": "code",
        "id": "vpwCeu8S3-kq"
      },
      "outputs": [],
      "source": []
    },
    {
      "cell_type": "markdown",
      "metadata": {
        "colab_type": "text",
        "id": "hbIZv_uWzcpe"
      },
      "source": [
        "### Limpeza\n",
        "\n",
        "* O conjunto de dados fornecido contém dados de atividade para 21 indivíduos.\n",
        "* O conjunto de dados tem 7.352 linhas com 561 colunas de dados numéricos, mais 2 colunas \"subject\", um número inteiro e \"activity\", uma string.\n",
        "* Como temos 563 colunas no total, vamos dispensar a etapa de criar um dicionário de dados formal e consultar o arquivo [feature_info.txt](http://archive.ics.uci.edu/ml/datasets/Human+Activity+Recognition+Using+Smartphones)\n",
        "\n",
        "A exploração inicial dos dados mostra que o texto do nome da coluna está sujo com vários problemas:\n",
        "* Nomes de coluna duplicados - várias ocorrências.\n",
        "* Inclusão de () nos nomes das colunas.\n",
        "* Parênteses extra ) em alguns nomes de colunas.\n",
        "* Inclusão de \"-\" nos nomes das colunas.\n",
        "* Inclusão de vários \",\" nos nomes das colunas\n",
        "* Muitos nomes de colunas contêm \"BodyBody\", que supomos ser um erro de digitação."
      ]
    },
    {
      "cell_type": "markdown",
      "metadata": {
        "colab_type": "text",
        "id": "yR9Dfnikzcpk"
      },
      "source": [
        "### Exercício 01\n",
        "Execute cada uma das atividades de limpeza de dados acima no conjunto de dados, utilizando as funções do pandas para isso.\n",
        "\n",
        "* Identifique e remova nomes de coluna duplicados - várias ocorrências.\n",
        "* Identifique e corrija a inclusão de () nos nomes das colunas. \n",
        "* Identifique e corrija o extra ) em alguns nomes de coluna. \n",
        "* Identifique e corrija a inclusão de \"-\" nos nomes das colunas.\n",
        "* Identifique e corrija a inclusão de vários \",\" nos nomes das colunas. \n",
        "* Identifique e corrija nomes de coluna contendo “BodyBody”.\n"
      ]
    },
    {
      "cell_type": "code",
      "execution_count": 0,
      "metadata": {
        "colab": {},
        "colab_type": "code",
        "id": "1CkLoEx65Pv5"
      },
      "outputs": [],
      "source": []
    },
    {
      "cell_type": "markdown",
      "metadata": {
        "colab_type": "text",
        "id": "xphCde6-zcpm"
      },
      "source": [
        "### Redução de Variáveis\n",
        "\n",
        "Antes de prosseguirmos, é muito importante ler com calma o arquivo [features_info.txt](https://github.com/nborwankar/LearnDataScience/blob/master/datasets/ucihar/features_info.txt). Este arquivo descreve cada característica, a sua importância física e também descreve recursos que são derivados de dados brutos, fazendo alguma média ou amostragem ou alguma operação que fornece resultados numéricos.\n",
        "\n",
        "Nós queremos olhar para\n",
        "\n",
        "a) todos os nomes das variáveis\n",
        "b) quantidades físicas\n",
        "\n",
        "Uma vez que passamos algum tempo fazendo tudo isso, podemos extrair algumas diretrizes úteis usando a compreensão física e o bom senso.\n",
        "\n",
        "* Em atividades estáticas (sentar, repousar, deitar) a informação de movimento não será muito útil.\n",
        "* Nas atividades dinâmicas (3 tipos de caminhada) o movimento será significativo.\n",
        "* Variáveis de **ângulo** serão úteis tanto na diferenciação de “mentira vs posição” quanto “subida vs descida”.\n",
        "* As variáveis **Acceleration** e **Jerk** são importantes para distinguir vários tipos de movimento enquanto se filtram tremores aleatórios enquanto estáticos.\n",
        "* As variáveis **mag** e **angle** contêm as mesmas informações que as variáveis **XYZ** (= fortemente correlacionadas)\n",
        "* Escolhemos nos concentrar nas últimas, pois são mais simples de raciocinar.\n",
        "* Este é um ponto muito importante para entender, pois resulta na eliminação de algumas centenas de variáveis.\n",
        "* Ignoramos as variáveis **band**, pois não temos uma maneira simples de interpretar o significado e relacioná-las às atividades físicas.\n",
        "* -mean e -std são importantes, -skewness e -kurtosis também podem ser, portanto, incluímos todos estes.\n",
        "* Veja que as variáveis têm prefixos / sufixos X, Y, Z e o Android Developer Reference [3] nos fornece o referencial específico com o qual eles são medidos. Eles são componentes vetoriais de jerk e aceleração, os ângulos são medidos em relação à direção da gravidade ou, mais precisamente, a aceleração do vetor devido à gravidade. Usamos essa informação e a combinamos com alguma intuição sobre movimento, velocidade, aceleração, etc.\n",
        "\n",
        "Observe o histograma da variável `tBodyAccMag-mean` e como ela se correlaciona bem com a atividade:"
      ]
    },
    {
      "cell_type": "code",
      "execution_count": null,
      "metadata": {
        "colab": {
          "base_uri": "https://localhost:8080/",
          "height": 905
        },
        "colab_type": "code",
        "id": "gr6PCLao75Uu",
        "outputId": "78b812b6-19c8-45ff-b36d-c2ed5a4fc526"
      },
      "outputs": [],
      "source": [
        "df.loc[:,['tBodyAccMag-mean()','activity']].hist(by = \"activity\", alpha=0.8, figsize=(15,15))\n",
        "print()"
      ]
    },
    {
      "cell_type": "markdown",
      "metadata": {
        "colab_type": "text",
        "id": "IyEosCYa-4aC"
      },
      "source": [
        "Utilize outras funções de exploração e visualização do pandas para analisar a base."
      ]
    },
    {
      "cell_type": "code",
      "execution_count": 0,
      "metadata": {
        "colab": {},
        "colab_type": "code",
        "id": "AmiseDU9-33F"
      },
      "outputs": [],
      "source": []
    },
    {
      "cell_type": "markdown",
      "metadata": {
        "colab_type": "text",
        "id": "jXdWNE3Jzcpo"
      },
      "source": [
        "### Eliminando variáveis (confounders)\n",
        "\n",
        "Ao eliminar as variáveis -X -Y -Z (coordenadas cartesianas), removemos um grande número de variáveis de confusão, pois elas têm informações fortemente correlacionadas com Magnitude + Ângulo (coordenadas polares). Ainda pode haver algumas influências confusas, mas os efeitos remanescentes são difíceis de interpretar.\n",
        "\n",
        "Do senso comum, vemos outras variáveis -min, -max, -mad têm correlações com a média / std, então descartamos todos esses confundidores também.\n",
        "O número de variáveis é agora reduzido para 37, conforme veremos a seguir.\n",
        "\n",
        "### Renomeando\n",
        "\n",
        "Renomearemos algumas variáveis para facilitar a leitura da base. Removemos \"Body\" e \"Mag\" e mapeamos ‘mean’ to Mean and ‘std’ to SD\n",
        "\n",
        "Por exemplo:\n",
        "\n",
        "* tAccBodyMag-mean -> tAccMean  \n",
        "* fAccBodyMag-std -> fAccSD  \n",
        "* etc.  \n"
      ]
    },
    {
      "cell_type": "code",
      "execution_count": 0,
      "metadata": {
        "colab": {},
        "colab_type": "code",
        "id": "eqF_H-IJ-1y5"
      },
      "outputs": [],
      "source": []
    },
    {
      "cell_type": "markdown",
      "metadata": {
        "colab_type": "text",
        "id": "FnDc4V_azcpp"
      },
      "source": [
        "### Conjunto de dados final\n",
        "\n",
        "O conjunto reduzido de variáveis selecionadas com nomes transformados é agora (com agrupamentos significativos):  \n",
        "\n",
        "* tAccMean, tAccSD tJerkMean, tJerkSD\n",
        "* tGyroMean, tGyroSD tGyroJerkMean, tGyroJerkSD\n",
        "* fAccMean, fAccSD, fJerkMean, fJerkSD,\n",
        "* fGyroMean, fGyroSD, fGyroJerkMean, fGyroJerkSD,\n",
        "* fGyroMeanFreq, fGyroJerkMeanFreq fAccMeanFreq, fJerkMeanFreq\n",
        "* fAccSkewness, fAccKurtosis, fJerkSkewness, fJerkKurtosis\n",
        "* fGyroSkewness, fGyroKurtosis fGyroJerkSkewness, fGyroJerkKurtosis\n",
        "* angleAccGravity, angleJerkGravity angleGyroGravity, angleGyroJerkGravity\n",
        "* angleXGravity, angleYGravity, angleZGravity\n",
        "* subject, activity  "
      ]
    },
    {
      "cell_type": "markdown",
      "metadata": {},
      "source": [
        "## Visualização de dados\n",
        "\n",
        "Explore visualmente os dados"
      ]
    },
    {
      "cell_type": "code",
      "execution_count": null,
      "metadata": {},
      "outputs": [],
      "source": []
    },
    {
      "cell_type": "markdown",
      "metadata": {},
      "source": [
        "## Análise de correlações\n",
        "\n",
        "As variáveis são correlacionadas? Existe alguma relação delas com a atividade?"
      ]
    },
    {
      "cell_type": "code",
      "execution_count": null,
      "metadata": {},
      "outputs": [],
      "source": []
    },
    {
      "cell_type": "markdown",
      "metadata": {
        "colab_type": "text",
        "id": "2UGOZuIlzcpq"
      },
      "source": [
        "## Conclusão\n",
        "\n",
        "Utilize a função `df.to_csv()` do pandas para salvar as suas modificações na base. Salve este notebook do colab no seu google Drive. \n"
      ]
    },
    {
      "cell_type": "markdown",
      "metadata": {
        "colab_type": "text",
        "id": "TYs3Hdnyzcpr"
      },
      "source": [
        "## Referências\n",
        "\n",
        "[1] <https://spark-public.s3.amazonaws.com/dataanalysis/samsungData.rda>   \n",
        "[2] Human Activity Recognition Using Smartphones <http://archive.ics.uci.edu/ml/datasets/Human+Activity+Recognition+Using+Smartphones  \n",
        "[3] Android Developer Reference <http://developer.android.com/reference/android/hardware/Sensor.html>  \n",
        "[4] Random Forests <http://en.wikipedia.org/wiki/Random_forest>  \n",
        "[5] Code for computation of error measures <https://gist.github.com/nborwankar/5131870>  \n",
        "\n",
        "Obs. Este tutorial é uma adaptação do material disponível em https://github.com/nborwankar/LearnDataScience\n"
      ]
    }
  ],
  "metadata": {
    "colab": {
      "include_colab_link": true,
      "name": "06_ExploracaoDados_Pandas.ipynb",
      "provenance": [],
      "version": "0.3.2"
    },
    "kernelspec": {
      "display_name": "teaching",
      "language": "python",
      "name": "python3"
    },
    "language_info": {
      "codemirror_mode": {
        "name": "ipython",
        "version": 3
      },
      "file_extension": ".py",
      "mimetype": "text/x-python",
      "name": "python",
      "nbconvert_exporter": "python",
      "pygments_lexer": "ipython3",
      "version": "3.13.2"
    }
  },
  "nbformat": 4,
  "nbformat_minor": 0
}
