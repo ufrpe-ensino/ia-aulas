{
 "cells": [
  {
   "cell_type": "markdown",
   "id": "ae629611",
   "metadata": {},
   "source": [
    "# Teste t Pareado: Comparando Pressão Arterial Antes e Depois de uma Intervenção\n",
    "\n",
    "Este notebook foi elaborado para uma aula introdutória de testes estatísticos, demonstrando como comparar medidas antes e depois de uma intervenção utilizando o teste t pareado. O exemplo utiliza dados de pressão arterial coletados antes e após uma intervenção em um grupo de indivíduos."
   ]
  },
  {
   "cell_type": "markdown",
   "id": "5b245b4a",
   "metadata": {},
   "source": [
    "## 1. Importação de Bibliotecas\n",
    "\n",
    "Vamos começar importando as bibliotecas essenciais para análise de dados, visualização e execução de testes estatísticos: pandas, matplotlib.pyplot e scipy.stats."
   ]
  },
  {
   "cell_type": "code",
   "execution_count": null,
   "id": "c521bfe6",
   "metadata": {},
   "outputs": [],
   "source": [
    "import pandas as pd\n",
    "import matplotlib.pyplot as plt\n",
    "from scipy import stats"
   ]
  },
  {
   "cell_type": "markdown",
   "id": "e0a4e944",
   "metadata": {},
   "source": [
    "## 2. Carregamento e Visualização dos Dados\n",
    "\n",
    "Carregue o conjunto de dados de pressão arterial e visualize as primeiras linhas para entender a estrutura dos dados."
   ]
  },
  {
   "cell_type": "code",
   "execution_count": null,
   "id": "58155e19",
   "metadata": {},
   "outputs": [],
   "source": [
    "# Carregar os dados de pressão arterial\n",
    "df = pd.read_csv(\"https://raw.githubusercontent.com/ufrpe-ensino/ia-aulas/refs/heads/master/data/blood_pressure.csv\")\n",
    "\n",
    "# Visualizar as primeiras linhas do DataFrame\n",
    "df.head()"
   ]
  },
  {
   "cell_type": "markdown",
   "id": "5ff085f3",
   "metadata": {},
   "source": [
    "## 3. Estatísticas Descritivas\n",
    "\n",
    "Vamos calcular estatísticas descritivas (como média, desvio padrão e quartis) para as colunas de pressão arterial antes e depois da intervenção."
   ]
  },
  {
   "cell_type": "code",
   "execution_count": null,
   "id": "fa9a45f4",
   "metadata": {},
   "outputs": [],
   "source": [
    "# Estatísticas descritivas para as colunas de interesse\n",
    "df[['bp_before', 'bp_after']].describe()"
   ]
  },
  {
   "cell_type": "markdown",
   "id": "ad1fa090",
   "metadata": {},
   "source": [
    "## 4. Visualização de Outliers\n",
    "\n",
    "Utilize boxplots para identificar possíveis outliers nas medidas de pressão arterial antes e depois da intervenção."
   ]
  },
  {
   "cell_type": "code",
   "execution_count": null,
   "id": "5403ae4f",
   "metadata": {},
   "outputs": [],
   "source": [
    "# Boxplot para identificar outliers\n",
    "df[['bp_before', 'bp_after']].plot(kind='box', title='Boxplot da Pressão Arterial Antes e Depois')\n",
    "plt.ylabel('Pressão Arterial')\n",
    "plt.show()"
   ]
  },
  {
   "cell_type": "markdown",
   "id": "fddd763f",
   "metadata": {},
   "source": [
    "## 5. Cálculo e Análise da Diferença das Medidas\n",
    "\n",
    "Crie uma nova coluna com a diferença entre as pressões antes e depois. Em seguida, visualize a distribuição dessa diferença utilizando um histograma."
   ]
  },
  {
   "cell_type": "code",
   "execution_count": null,
   "id": "f6f4a79f",
   "metadata": {},
   "outputs": [],
   "source": [
    "# Calcular a diferença entre as pressões antes e depois\n",
    "df['bp_difference'] = df['bp_before'] - df['bp_after']\n",
    "\n",
    "# Visualizar a distribuição da diferença\n",
    "df['bp_difference'].plot(kind='hist', bins=10, title='Histograma da Diferença de Pressão Arterial')\n",
    "plt.xlabel('Diferença (Antes - Depois)')\n",
    "plt.show()"
   ]
  },
  {
   "cell_type": "markdown",
   "id": "c388c0ef",
   "metadata": {},
   "source": [
    "## 6. Verificação da Normalidade da Diferença\n",
    "\n",
    "Antes de aplicar o teste t pareado, é importante verificar se a diferença segue uma distribuição normal. Vamos utilizar o gráfico Q-Q e o teste de Shapiro-Wilk para essa avaliação."
   ]
  },
  {
   "cell_type": "code",
   "execution_count": null,
   "id": "35b62da2",
   "metadata": {},
   "outputs": [],
   "source": [
    "# Gráfico Q-Q para avaliar a normalidade\n",
    "stats.probplot(df['bp_difference'], plot=plt)\n",
    "plt.title('Q-Q Plot da Diferença de Pressão Arterial')\n",
    "plt.show()"
   ]
  },
  {
   "cell_type": "code",
   "execution_count": null,
   "id": "921d410e",
   "metadata": {},
   "outputs": [],
   "source": [
    "# Teste de Shapiro-Wilk para normalidade\n",
    "stats.shapiro(df['bp_difference'])"
   ]
  },
  {
   "cell_type": "markdown",
   "id": "e7bc2890",
   "metadata": {},
   "source": [
    "### Interpretação\n",
    "\n",
    "O p-value (0.78) é muito maior que o valor de referência comum (0.05). Portanto, **não rejeitamos a hipótese nula** de que os dados seguem uma distribuição normal.\n",
    "Ou seja, **a diferença das pressões arteriais antes e depois do tratamento pode ser considerada normalmente distribuída**. Isso permite o uso de testes paramétricos, como o t-test pareado."
   ]
  },
  {
   "cell_type": "markdown",
   "id": "c794aaa7",
   "metadata": {},
   "source": [
    "## 7. Execução do Teste t Pareado\n",
    "\n",
    "Agora, vamos realizar o teste t pareado para comparar as médias das pressões arteriais antes e depois da intervenção (2 testes pareados, i.e., \"**Pareados: mesmos indivíduos em diferentes situações**\")"
   ]
  },
  {
   "cell_type": "code",
   "execution_count": null,
   "id": "68c059ad",
   "metadata": {},
   "outputs": [],
   "source": [
    "# Teste t pareado\n",
    "stats.ttest_rel(df['bp_before'], df['bp_after'])"
   ]
  },
  {
   "cell_type": "markdown",
   "id": "1999331a",
   "metadata": {},
   "source": [
    "## 8. Interpretação dos Resultados\n",
    "\n",
    "O teste t pareado compara as médias das duas condições (antes e depois) para o **mesmo grupo de indivíduos**. \n",
    "\n",
    "- **Hipótese nula (H₀):** Não há diferença entre as médias das pressões arteriais antes e depois da intervenção.\n",
    "- **Hipótese alternativa (H₁):** Existe diferença entre as médias das pressões arteriais antes e depois.\n",
    "\n",
    "O valor-p obtido indica a probabilidade de observarmos uma diferença igual ou mais extrema que a encontrada, assumindo que a hipótese nula é verdadeira. \n",
    "\n",
    "- Se o valor-p for menor que o nível de significância (por exemplo, 0,05), rejeitamos a hipótese nula e concluímos que a intervenção teve efeito significativo.\n",
    "- Se o valor-p for maior que 0,05, não rejeitamos a hipótese nula.\n",
    "\n",
    "No nosso caso:"
   ]
  },
  {
   "cell_type": "code",
   "execution_count": null,
   "id": "90a9bc88",
   "metadata": {},
   "outputs": [],
   "source": [
    "p_value = stats.ttest_rel(df['bp_before'], df['bp_after']).pvalue\n",
    "\n",
    "# Interpretação do p-valor\n",
    "if p_value < 0.05:\n",
    "    print(\"Rejeitamos a hipótese nula: há diferença significativa entre as pressões arteriais antes e depois.\")\n",
    "else:\n",
    "    print(\"Não rejeitamos a hipótese nula: não há diferença significativa entre as pressões arteriais antes e depois.\")"
   ]
  },
  {
   "cell_type": "markdown",
   "id": "9e5cf5d7",
   "metadata": {},
   "source": [
    "# Comparando preços de imóveis:\n",
    "\n",
    "Verifique se existe diferença para imóveis à venda entre em termos de preço, preço m2 e área entre apartamentos e casas usando testes estatísticos e visualize as distribuições com boxplots."
   ]
  },
  {
   "cell_type": "code",
   "execution_count": null,
   "id": "e41f3b05",
   "metadata": {},
   "outputs": [],
   "source": [
    "houses=pd.read_csv(\"https://raw.githubusercontent.com/ProfLuciano/cd/gh-pages/data/recife.csv\",encoding = \"ISO-8859-1\")\n",
    "\n",
    "# filtrar os dados para incluir apenas os preços acima de 30.000 (venda)\n",
    "houses = houses[houses['price'] > 30000]\n",
    "\n",
    "houses['price_m2'] = houses['price']/houses['area']\n",
    "houses.head()"
   ]
  },
  {
   "cell_type": "code",
   "execution_count": null,
   "id": "da9b77fa",
   "metadata": {},
   "outputs": [],
   "source": [
    "houses['type'].value_counts()"
   ]
  },
  {
   "cell_type": "markdown",
   "id": "6964248a",
   "metadata": {},
   "source": [
    "## Box plots"
   ]
  },
  {
   "cell_type": "code",
   "execution_count": null,
   "id": "aadb4baa",
   "metadata": {},
   "outputs": [],
   "source": [
    "import seaborn as sns\n",
    "\n",
    "plt.figure(figsize=(10, 5))\n",
    "plt.subplot(1, 2, 1)\n",
    "sns.boxplot(data=houses, x='type', y='price')\n",
    "plt.title('Boxplot do Preço por Tipo de Imóvel')\n",
    "plt.ylabel('Preço')\n",
    "plt.xlabel('Tipo de Imóvel')\n",
    "\n",
    "plt.subplot(1, 2, 2)\n",
    "sns.boxplot(data=houses, x='type', y='price_m2')\n",
    "plt.title('Boxplot do Preço por m² por Tipo de Imóvel')\n",
    "plt.ylabel('Preço por m²')\n",
    "plt.xlabel('Tipo de Imóvel')\n",
    "plt.tight_layout()\n",
    "\n",
    "plt.show()"
   ]
  },
  {
   "cell_type": "markdown",
   "id": "4f2a8c6b",
   "metadata": {},
   "source": [
    "## Identificando o tipo de teste a ser aplicado\n",
    "\n",
    "![Tabela de tipos de testes de hipótese](https://raw.githubusercontent.com/ufrpe-ensino/ia-aulas/refs/heads/master/assets/images/hypothesis-tests-table.png)"
   ]
  },
  {
   "cell_type": "markdown",
   "id": "fa7b9512",
   "metadata": {},
   "source": [
    "### Verificando normalidade dos dados\n",
    "\n",
    "O teste de Shapiro-Wilk é utilizado para verificar se uma amostra segue uma distribuição normal. Ele retorna um valor de estatística e um valor-p (p-value). Se o valor-p for maior que 0,05, não rejeitamos a hipótese nula de normalidade, ou seja, os dados podem ser considerados normalmente distribuídos. Se o valor-p for menor que 0,05, rejeitamos a hipótese nula, indicando que os dados não seguem uma distribuição normal."
   ]
  },
  {
   "cell_type": "code",
   "execution_count": null,
   "id": "c3784cff",
   "metadata": {},
   "outputs": [],
   "source": [
    "# 5. Testes de normalidade (Shapiro-Wilk)\n",
    "print(\"Normalidade (Shapiro) - Preço Apto:\", stats.shapiro(houses[houses['type'] == 'apart']['price']))\n",
    "print(\"Normalidade (Shapiro) - Preço Casa:\", stats.shapiro(houses[houses['type'] == 'house']['price']))\n",
    "\n",
    "# qqplot\n",
    "plt.figure(figsize=(10, 5))\n",
    "plt.subplot(1, 2, 1)\n",
    "stats.probplot(houses[houses['type'] == 'apart']['price'], dist=\"norm\", plot=plt)\n",
    "plt.title('Q-Q Plot - Preço Apto')\n",
    "plt.subplot(1, 2, 2)\n",
    "stats.probplot(houses[houses['type'] == 'house']['price'], dist=\"norm\", plot=plt)\n",
    "plt.title('Q-Q Plot - Preço Casa')\n",
    "plt.tight_layout()\n",
    "plt.show()\n",
    "\n",
    "# verificar a normalidade dos dados\n",
    "if stats.shapiro(houses['price'])[1] > 0.05:\n",
    "    print(\"Os dados seguem uma distribuição normal.\")\n",
    "else:\n",
    "    print(\"Os dados não seguem uma distribuição normal.\")"
   ]
  },
  {
   "cell_type": "markdown",
   "id": "74a6b3c9",
   "metadata": {},
   "source": [
    "Nesse caso, podemos usar o teste de Mann-Whitney para comparar os preços entre os dois tipos de imóveis."
   ]
  },
  {
   "cell_type": "markdown",
   "id": "ccf07578",
   "metadata": {},
   "source": [
    "### Aplicando o teste"
   ]
  },
  {
   "cell_type": "code",
   "execution_count": null,
   "id": "1aa6b5a6",
   "metadata": {},
   "outputs": [],
   "source": [
    "# Teste de Mann-Whitney U\n",
    "print(\"Teste de Mann-Whitney U entre os preços dos tipos de imóveis:\")\n",
    "print(f'pvalue: {stats.mannwhitneyu(houses[houses['type'] == 'apart']['price'], \n",
    "                                    houses[houses['type'] == 'house']['price'])[1]}')\n",
    "\n",
    "# conclusão\n",
    "if stats.mannwhitneyu(houses[houses['type'] == 'apart']['price'], \n",
    "                             houses[houses['type'] == 'house']['price'])[1] < 0.05:\n",
    "    print(\"Rejeitamos a hipótese nula: há diferença significativa entre os preços dos tipos de imóveis.\")\n",
    "else:   \n",
    "    print(\"Não rejeitamos a hipótese nula: não há diferença significativa entre os preços dos tipos de imóveis.\")"
   ]
  },
  {
   "cell_type": "code",
   "execution_count": null,
   "id": "e0ffc9de",
   "metadata": {},
   "outputs": [],
   "source": [
    "# mesmo teste para o preço por m2\n",
    "print(\"Teste de Mann-Whitney U entre os preços por m2 dos tipos de imóveis:\")\n",
    "print(f'pvalue: {stats.mannwhitneyu(houses[houses['type'] == 'apart']['price_m2'],\n",
    "                                    houses[houses['type'] == 'house']['price_m2'])[1]}') \n",
    "\n",
    "\n",
    "# conclusão\n",
    "if stats.mannwhitneyu(houses[houses['type'] == 'apart']['price_m2'], \n",
    "                             houses[houses['type'] == 'house']['price_m2'])[1] < 0.05:\n",
    "    print(\"Rejeitamos a hipótese nula: há diferença significativa entre os preços por m2 dos tipos de imóveis.\")\n",
    "else:\n",
    "    print(\"Não rejeitamos a hipótese nula: não há diferença significativa entre os preços por m2 dos tipos de imóveis.\")"
   ]
  },
  {
   "cell_type": "markdown",
   "id": "b74857a5",
   "metadata": {},
   "source": [
    "# Exercício\n",
    "\n",
    "Realize a mesma análise comparando dois bairros que possuam um grande número de imóveis nos dados."
   ]
  },
  {
   "cell_type": "code",
   "execution_count": null,
   "id": "f5caf10a",
   "metadata": {},
   "outputs": [],
   "source": [
    "# sua resposta"
   ]
  }
 ],
 "metadata": {
  "kernelspec": {
   "display_name": "teaching",
   "language": "python",
   "name": "python3"
  },
  "language_info": {
   "codemirror_mode": {
    "name": "ipython",
    "version": 3
   },
   "file_extension": ".py",
   "mimetype": "text/x-python",
   "name": "python",
   "nbconvert_exporter": "python",
   "pygments_lexer": "ipython3",
   "version": "3.12.0"
  }
 },
 "nbformat": 4,
 "nbformat_minor": 5
}
