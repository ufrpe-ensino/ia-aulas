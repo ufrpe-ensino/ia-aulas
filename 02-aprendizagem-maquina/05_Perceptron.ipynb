{
  "nbformat": 4,
  "nbformat_minor": 0,
  "metadata": {
    "colab": {
      "name": "05_Perceptron.ipynb",
      "version": "0.3.2",
      "provenance": [],
      "include_colab_link": true
    },
    "language_info": {
      "codemirror_mode": {
        "name": "ipython",
        "version": 3
      },
      "file_extension": ".py",
      "mimetype": "text/x-python",
      "name": "python",
      "nbconvert_exporter": "python",
      "pygments_lexer": "ipython3",
      "version": "3.6.2"
    },
    "kernelspec": {
      "display_name": "Python 3",
      "language": "python",
      "name": "python3"
    }
  },
  "cells": [
    {
      "cell_type": "markdown",
      "metadata": {
        "id": "view-in-github",
        "colab_type": "text"
      },
      "source": [
        "<a href=\"https://colab.research.google.com/github/ufrpe-bcc-ia/material-aulas/blob/master/aprendizagem_maquina/05_Perceptron.ipynb\" target=\"_parent\"><img src=\"https://colab.research.google.com/assets/colab-badge.svg\" alt=\"Open In Colab\"/></a>"
      ]
    },
    {
      "cell_type": "markdown",
      "metadata": {
        "id": "bA8XmWxc1Oxr",
        "colab_type": "text"
      },
      "source": [
        "# Perceptron"
      ]
    },
    {
      "cell_type": "code",
      "metadata": {
        "id": "WbuSh-ZY1Oxu",
        "colab_type": "code",
        "colab": {}
      },
      "source": [
        "# importar pacotes a serem usados\n",
        "import numpy as np\n",
        "import numpy.random as nr\n",
        "import matplotlib.pyplot as pl\n",
        "%matplotlib inline\n",
        "\n",
        "# Ajustar tamanho dos plots\n",
        "pl.rcParams['figure.figsize'] = (10.0, 10.0)"
      ],
      "execution_count": 0,
      "outputs": []
    },
    {
      "cell_type": "markdown",
      "metadata": {
        "id": "RAnf_xrc1Oxx",
        "colab_type": "text"
      },
      "source": [
        "## Criando padrões de exemplo"
      ]
    },
    {
      "cell_type": "code",
      "metadata": {
        "id": "0gap7b9Z1Oxy",
        "colab_type": "code",
        "colab": {}
      },
      "source": [
        "# Gerar 100 pontos aleatoriamente\n",
        "N = 100\n",
        "xn = nr.rand(N,2)\n",
        "print(xn[0:3])"
      ],
      "execution_count": 0,
      "outputs": []
    },
    {
      "cell_type": "code",
      "metadata": {
        "id": "MX3Fx0BQ1Ox2",
        "colab_type": "code",
        "colab": {}
      },
      "source": [
        "# Criar uma linha aleatoriamente  \n",
        "a = nr.rand();\n",
        "b = nr.rand();\n",
        "f = lambda x : a*x + b;\n",
        "\n",
        "#gerar um vetor com 50 pontos dentro do intervalo [0,1] --> valores para x\n",
        "x = np.linspace(0,1,50); \n",
        "\n",
        "# calcular y usando f(x)\n",
        "print(\"\\tx \\t f(x)\")\n",
        "print(np.c_[x,f(x)][0:3])"
      ],
      "execution_count": 0,
      "outputs": []
    },
    {
      "cell_type": "code",
      "metadata": {
        "id": "iziqrbq56ft6",
        "colab_type": "code",
        "colab": {}
      },
      "source": [
        "# visualizar a linha e os pontos gerada\n",
        "fig =pl.figure()\n",
        "figa = pl.gca();\n",
        "\n",
        "# pontos\n",
        "pl.plot(xn[:,0],xn[:,1],'bo');\n",
        "\n",
        "# linha\n",
        "pl.plot(x, f(x),'r')"
      ],
      "execution_count": 0,
      "outputs": []
    },
    {
      "cell_type": "markdown",
      "metadata": {
        "id": "h2QsmyKX1Ox5",
        "colab_type": "text"
      },
      "source": [
        "Usaremos agora a linha criada para classificar os pontos gerados aleatoriamente:\n"
      ]
    },
    {
      "cell_type": "code",
      "metadata": {
        "id": "j9TnXMqI1Ox5",
        "colab_type": "code",
        "colab": {}
      },
      "source": [
        "fig =pl.figure()\n",
        "figa = pl.gca();\n",
        "        \n",
        "# plotar linha\n",
        "pl.plot(x, f(x),'r')\n",
        "\n",
        "# Separar os pontos linearmente com a linha\n",
        "yn = np.zeros([N,1]);\n",
        "for i in range(N):\n",
        "  if(f(xn[i,0]) > xn[i,1]):\n",
        "    # Ponto está abaixo da linha (classe positiva)\n",
        "    yn[i] = +1;\n",
        "  else:\n",
        "    # Ponto está acima da linha (classe negativa)\n",
        "    yn[i] = -1;\n",
        "\n",
        "# Colorir os pontos de acordo com a classificação original \n",
        "# -1 -> cor 0\n",
        "# +1 -> cor 1\n",
        "sep_color = (yn+1)/2.0\n",
        "print(len(sep_color))\n",
        "sep_color[0:3]\n",
        "\n",
        "classe_pos = np.where(yn>0)\n",
        "classe_neg = np.where(yn<0)\n",
        "\n",
        "pl.plot(xn[classe_pos,0],xn[classe_pos,1],'go')\n",
        "pl.plot(xn[classe_neg,0],xn[classe_neg,1],'bo')\n",
        "\n",
        "pl.title('Pontos gerados com linha de separação')\n",
        "figa.axes.get_xaxis().set_visible(False)\n",
        "figa.axes.get_yaxis().set_visible(False)"
      ],
      "execution_count": 0,
      "outputs": []
    },
    {
      "cell_type": "markdown",
      "metadata": {
        "id": "f-BhEUFQ1Ox8",
        "colab_type": "text"
      },
      "source": [
        "## Exercício\n",
        "Implemente o algoritmo perceptron para classificar os exemplos gerados acima."
      ]
    },
    {
      "cell_type": "code",
      "metadata": {
        "id": "73poMSyn1Ox_",
        "colab_type": "code",
        "colab": {}
      },
      "source": [
        "def perceptron(train_xn, train_yn, w, MaxIter=2000):\n",
        "  # seu codigo aqui\n",
        "  raise NotImplementedError()"
      ],
      "execution_count": 0,
      "outputs": []
    },
    {
      "cell_type": "markdown",
      "metadata": {
        "id": "U8wQ0M3h1OyC",
        "colab_type": "text"
      },
      "source": [
        "Teste a sua implementação:"
      ]
    },
    {
      "cell_type": "code",
      "metadata": {
        "id": "KRpzquLn1OyD",
        "colab_type": "code",
        "colab": {}
      },
      "source": [
        "w = perceptron(xn, yn, w=np.zeros(3))"
      ],
      "execution_count": 0,
      "outputs": []
    },
    {
      "cell_type": "code",
      "metadata": {
        "id": "Uz16jKhm1OyF",
        "colab_type": "code",
        "colab": {}
      },
      "source": [
        "# Utilizar os pesos w para calcular novos a e b para a linha de classificacao\n",
        "# y_pred = a*x + b\n",
        "bnew = -w[0]/w[2]\n",
        "anew = -w[1]/w[2]\n",
        "f_pred = lambda x: anew * x + bnew\n",
        "print(f_pred(x))"
      ],
      "execution_count": 0,
      "outputs": []
    },
    {
      "cell_type": "code",
      "metadata": {
        "id": "iZuDblEJA6vV",
        "colab_type": "code",
        "colab": {}
      },
      "source": [
        "# classificar pontos usando a nova linha\n",
        "y_pred = np.zeros([N,1]);\n",
        "for i in range(N):\n",
        "  if(f_pred(xn[i,0]) > xn[i,1]):\n",
        "    # Ponto está abaixo da linha (classe positiva)\n",
        "    y_pred[i] = +1;\n",
        "  else:\n",
        "    # Ponto está acima da linha (classe negativa)\n",
        "    y_pred[i] = -1;\n",
        "\n",
        "classe_pos_pred = np.where(y_pred>0)\n",
        "classe_neg_pred = np.where(y_pred<0)"
      ],
      "execution_count": 0,
      "outputs": []
    },
    {
      "cell_type": "code",
      "metadata": {
        "id": "nIhFZWO04br8",
        "colab_type": "code",
        "colab": {}
      },
      "source": [
        "pl.figure();\n",
        "figa = pl.gca()\n",
        "\n",
        "# plotar os pontos\n",
        "# pl.scatter(xn[:,0],xn[:,1], c=f_pred(xn[:,0]))\n",
        "\n",
        "pl.plot(xn[classe_pos_pred,0],xn[classe_pos_pred,1],'go')\n",
        "pl.plot(xn[classe_neg_pred,0],xn[classe_neg_pred,1],'bo')\n",
        "\n",
        "# plotar as linhas\n",
        "pl.plot(x,f(x),     'r',  label='Linha Original')\n",
        "pl.plot(x,f_pred(x),'b--',label='Linha gerada pelo perceptron')\n",
        "\n",
        "pl.title('Classificador linear baseado em Perceptron')\n",
        "pl.legend()\n",
        "\n",
        "figa.axes.get_xaxis().set_visible(False)\n",
        "figa.axes.get_yaxis().set_visible(False)"
      ],
      "execution_count": 0,
      "outputs": []
    },
    {
      "cell_type": "code",
      "metadata": {
        "id": "DIRgE6A21OyI",
        "colab_type": "code",
        "colab": {}
      },
      "source": [
        ""
      ],
      "execution_count": 0,
      "outputs": []
    }
  ]
}