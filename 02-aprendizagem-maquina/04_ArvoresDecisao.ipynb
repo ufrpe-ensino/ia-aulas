{
  "nbformat": 4,
  "nbformat_minor": 0,
  "metadata": {
    "colab": {
      "name": "04_ArvoresDecisao.ipynb",
      "version": "0.3.2",
      "provenance": [],
      "include_colab_link": true
    },
    "language_info": {
      "codemirror_mode": {
        "name": "ipython",
        "version": 3
      },
      "file_extension": ".py",
      "mimetype": "text/x-python",
      "name": "python",
      "nbconvert_exporter": "python",
      "pygments_lexer": "ipython3",
      "version": "3.5.1"
    },
    "kernelspec": {
      "display_name": "Python 3",
      "language": "python",
      "name": "python3"
    }
  },
  "cells": [
    {
      "cell_type": "markdown",
      "metadata": {
        "id": "view-in-github",
        "colab_type": "text"
      },
      "source": [
        "<a href=\"https://colab.research.google.com/github/ufrpe-bcc-ia/material-aulas/blob/master/aprendizagem_maquina/04_ArvoresDecisao.ipynb\" target=\"_parent\"><img src=\"https://colab.research.google.com/assets/colab-badge.svg\" alt=\"Open In Colab\"/></a>"
      ]
    },
    {
      "cell_type": "markdown",
      "metadata": {
        "id": "EBUtCZ3qtQmh",
        "colab_type": "text"
      },
      "source": [
        "# Árvores de Decisão\n",
        "\n",
        "Árvore de Decisão é um algoritmo do tipo \"caixa branca\", diferentemente de métodos como Redes Neurais (\"caixa preta\"). Ele compartilha a lógica interna de tomada de decisão, e fornece meios para \"explicar\" as suas decisões.\n",
        "\n",
        "![alt text](https://res.cloudinary.com/dyd911kmh/image/upload/f_auto,q_auto:best/v1545934190/1_r5ikdb.png)\n",
        "\n",
        "É bastante rápido, tanto na fase de treinamento quanto de classificação, sendo bastante robusto para dados de alta dimensionalidade com atributos categóricos ou numéricos. Além disso, árvores de decisão compõem a base para construção de algoritmos do tipo \"ensemble\" (que combinam diversos classificadores) como o Random Forests e o XGBoost.\n",
        "\n",
        "Mais informações sobre o algoritmo podem ser encontradas neste [link](https://www.datacamp.com/community/tutorials/decision-tree-classification-python)"
      ]
    },
    {
      "cell_type": "markdown",
      "metadata": {
        "id": "ioWrL4oByU0S",
        "colab_type": "text"
      },
      "source": [
        "## Implementação\n",
        "A base para o desenvolvimento do algoritmo é o conceito de [entropia](https://en.wikipedia.org/wiki/Entropy_(information_theory)), introduzido por [Claude Shannon](https://en.wikipedia.org/wiki/Claude_Shannon). Em linhas gerais, a entropia mede a impureza (i.e., homogeneidade) do conjunto de entrada. Em física e matemática, entropia referida como a aleatoriedade ou a impureza no sistema. Na teoria da informação, refere-se à impureza em um grupo de exemplos. \n",
        "\n",
        "Ganho de informação é a diminuição da entropia. O ganho de informação calcula a diferença entre a entropia antes da divisão e a entropia média após a divisão do conjunto de dados $D$ de tamanho $|D|=n$ com base em determinados valores de atributo.\n",
        "\n",
        "$Info(D) = -\\sum_{i=1}^nP(x_i)log_2P(x_i)$\n",
        "\n",
        "Entropia média após a divisão considerando um atributo $A$ com $V$ valores possíveis:\n",
        "\n",
        "$Restante(A) = -\\sum_{j=1}^V \\frac{|D_j|}{|D|} Info(D_j)$\n",
        "\n",
        "Temos que o ganho de informação considerando esta divisão seria:\n",
        "\n",
        "$Ganho(A) = Info(D) - Restante(A)$\n",
        "\n"
      ]
    },
    {
      "cell_type": "code",
      "metadata": {
        "id": "9QtL6VrwpgLq",
        "colab_type": "code",
        "colab": {}
      },
      "source": [
        "import numpy as np;\n",
        "\n",
        "def info(p1,p2):\n",
        "    if(p1==0): \n",
        "        sum1=0;\n",
        "    else:\n",
        "        sum1 = -p1*np.log2(p1);\n",
        "    \n",
        "    if(p2==0):\n",
        "        sum2=0;\n",
        "    else: \n",
        "        sum2 = -p2*np.log2(p2);\n",
        "    \n",
        "    return sum1 + sum2;\n",
        "\n",
        "def restante(pi,ni,total):\n",
        "    temp = information(pi/(pi+ni),ni/(pi+ni));\n",
        "    return ((pi+ni)/total) * temp;\n",
        "  \n"
      ],
      "execution_count": 0,
      "outputs": []
    },
    {
      "cell_type": "code",
      "metadata": {
        "id": "Re0G8yjypwaE",
        "colab_type": "code",
        "colab": {}
      },
      "source": [
        "# exemplos\n",
        "\n",
        "# dado justo\n",
        "print(info(0/6,6/6))\n",
        "\n",
        "# moeda justa\n",
        "print(info(1/2,1/2))"
      ],
      "execution_count": 0,
      "outputs": []
    },
    {
      "cell_type": "code",
      "metadata": {
        "id": "D3kDZYfI0dFa",
        "colab_type": "code",
        "colab": {}
      },
      "source": [
        "def ganho():\n",
        "  # Seu código aqui\n",
        "  raise NotImplementedError()\n",
        "  \n",
        "def arvore_decisao(df):\n",
        "  # Seu código aqui\n",
        "  raise NotImplementedError()"
      ],
      "execution_count": 0,
      "outputs": []
    },
    {
      "cell_type": "markdown",
      "metadata": {
        "id": "Zs1dzDOoePW2",
        "colab_type": "text"
      },
      "source": [
        "## Experimentos"
      ]
    },
    {
      "cell_type": "markdown",
      "metadata": {
        "id": "Ls1RGGtx0HHn",
        "colab_type": "text"
      },
      "source": [
        "### Base de dados: Play Tennis"
      ]
    },
    {
      "cell_type": "code",
      "metadata": {
        "id": "Bbzrm5QRyW53",
        "colab_type": "code",
        "colab": {}
      },
      "source": [
        "import pandas as pd\n",
        "\n",
        "url=\"https://raw.githubusercontent.com/ufrpe-bcc-ia/material-aulas/master/data/tennis.csv\"\n",
        "df=pd.read_csv(url, sep=',')"
      ],
      "execution_count": 0,
      "outputs": []
    },
    {
      "cell_type": "code",
      "metadata": {
        "id": "zdc11yIsrUWO",
        "colab_type": "code",
        "colab": {}
      },
      "source": [
        "display(df)"
      ],
      "execution_count": 0,
      "outputs": []
    },
    {
      "cell_type": "code",
      "metadata": {
        "id": "0De9oqQPrUWW",
        "colab_type": "code",
        "colab": {}
      },
      "source": [
        ""
      ],
      "execution_count": 0,
      "outputs": []
    }
  ]
}