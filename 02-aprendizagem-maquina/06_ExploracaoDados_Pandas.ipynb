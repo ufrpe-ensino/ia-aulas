{
  "nbformat": 4,
  "nbformat_minor": 0,
  "metadata": {
    "colab": {
      "name": "06_ExploracaoDados_Pandas.ipynb",
      "version": "0.3.2",
      "provenance": [],
      "include_colab_link": true
    },
    "language_info": {
      "codemirror_mode": {
        "name": "ipython",
        "version": 2
      },
      "file_extension": ".py",
      "mimetype": "text/x-python",
      "name": "python",
      "nbconvert_exporter": "python",
      "pygments_lexer": "ipython2",
      "version": "2.7.8"
    },
    "kernelspec": {
      "display_name": "Python 2",
      "language": "python",
      "name": "python2"
    }
  },
  "cells": [
    {
      "cell_type": "markdown",
      "metadata": {
        "id": "view-in-github",
        "colab_type": "text"
      },
      "source": [
        "<a href=\"https://colab.research.google.com/github/ufrpe-bcc-ia/material-aulas/blob/master/aprendizagem_maquina/06_ExploracaoDados_Pandas.ipynb\" target=\"_parent\"><img src=\"https://colab.research.google.com/assets/colab-badge.svg\" alt=\"Open In Colab\"/></a>"
      ]
    },
    {
      "cell_type": "markdown",
      "metadata": {
        "id": "Iakh6uUJzcpc",
        "colab_type": "text"
      },
      "source": [
        "Exploração de dados: Pandas\n",
        "===\n",
        "***\n",
        "\n",
        "##Introdução\n",
        "\n",
        "Vamos usar um conjunto de dados razoavelmente grande e confuso de um objeto de origem familiar e depois prepará-lo para análise usando o algoritmo Random Forest.\n",
        "\n",
        "Usaremos um conjunto de dados de acelerômetro de celular e leituras de giroscópio para criar um modelo preditivo. O conjunto de dados é encontrado no formulário R Data [1] no Amazon S3 e formulário bruto no Repositório UCI [2]. As leituras do conjunto de dados codificam dados sobre a orientação do telefone móvel e o movimento do usuário do telefone.\n",
        "\n",
        "O sujeito é conhecido por fazer uma das seis atividades - sentado, em pé, deitado, andando, andando e andando.\n",
        "\n",
        "## Métodos\n",
        "\n",
        "Nosso objetivo é prever, dado um ponto de dados, qual atividade eles estão fazendo.\n",
        "Estabelecemos a nós mesmos um objetivo de criar um modelo com variáveis **compreensíveis**, em vez de um modelo de **caixa preta**. \n",
        "Modelo de caixa preta consiste basicamente de apenas variáveis e coeficientes. Dado um novo padrão, ele é apresentado ao modelo, que por sua vez dá apenas uma resposta. Isso geralmente funciona, mas é simplesmente muita \"mágica\" para nos ajudar a construir nossa intuição ou nos dar qualquer oportunidade de usar nosso conhecimento de domínio.\n",
        "\n",
        "Então, vamos abrir a caixa um pouco e vamos usar o conhecimento de domínio combinado com o poder massivo da Random Forests quando tivermos alguma intuição. Descobrimos que, a longo prazo, essa é uma abordagem muito mais satisfatória e, ao que parece, muito mais poderosa.\n",
        "\n",
        "Vamos reduzir a quantidade de variáveis independentes para 36 variáveis, usando apenas o conhecimento do domínio e, em seguida, usar o Random Forest para prever a variável \"atividade\". Este pode não ser o melhor modelo do ponto de vista da precisão, mas queremos entender o que está acontecendo e, a partir dessa perspectiva, acaba sendo muito melhor.\n",
        "\n",
        "Usamos medidas de precisão Positivo e Negativo Valor de Previsão, Sensibilidade e Especificidade para classificar nosso modelo."
      ]
    },
    {
      "cell_type": "markdown",
      "metadata": {
        "id": "QItav1wH3XAN",
        "colab_type": "text"
      },
      "source": [
        "### Leitura e visualização inicial\n",
        "Os dados podem ser lidos a partir de uma URL diretamente em um pandas dataframe. "
      ]
    },
    {
      "cell_type": "code",
      "metadata": {
        "id": "Y1fGRz3Czcpf",
        "colab_type": "code",
        "outputId": "c3a680cf-545e-4bb6-bfe9-abcfa6db20c0",
        "colab": {
          "base_uri": "https://localhost:8080/",
          "height": 34
        }
      },
      "source": [
        "%pylab inline\n",
        "import pandas as pd\n",
        "df = pd.read_csv('https://raw.githubusercontent.com/nborwankar/LearnDataScience/master/datasets/samsung/samsungdata.csv')"
      ],
      "execution_count": 0,
      "outputs": [
        {
          "output_type": "stream",
          "text": [
            "Populating the interactive namespace from numpy and matplotlib\n"
          ],
          "name": "stdout"
        }
      ]
    },
    {
      "cell_type": "markdown",
      "metadata": {
        "id": "Z4oR2cn53k_F",
        "colab_type": "text"
      },
      "source": [
        "Utilize o atributo `df.columns` para visualizar as colunas existentes no dataframe lido"
      ]
    },
    {
      "cell_type": "code",
      "metadata": {
        "id": "xpoGuHE-3vMv",
        "colab_type": "code",
        "colab": {}
      },
      "source": [
        ""
      ],
      "execution_count": 0,
      "outputs": []
    },
    {
      "cell_type": "markdown",
      "metadata": {
        "id": "EQZbsA553vWA",
        "colab_type": "text"
      },
      "source": [
        "Utilize as funções `head()` e `tail()` para visualizar o início e o fim do dataframe, respectivamente"
      ]
    },
    {
      "cell_type": "code",
      "metadata": {
        "id": "sc5tBfaB3-bT",
        "colab_type": "code",
        "colab": {}
      },
      "source": [
        "# head"
      ],
      "execution_count": 0,
      "outputs": []
    },
    {
      "cell_type": "code",
      "metadata": {
        "id": "vpwCeu8S3-kq",
        "colab_type": "code",
        "colab": {}
      },
      "source": [
        "# tail"
      ],
      "execution_count": 0,
      "outputs": []
    },
    {
      "cell_type": "markdown",
      "metadata": {
        "id": "hbIZv_uWzcpe",
        "colab_type": "text"
      },
      "source": [
        "### Limpeza\n",
        "* O conjunto de dados fornecido contém dados de atividade para 21 indivíduos.\n",
        "* O conjunto de dados tem 7.352 linhas com 561 colunas de dados numéricos, mais 2 colunas \"subject\", um número inteiro e \"activity\", uma string.\n",
        "* Como temos 563 colunas no total, vamos dispensar a etapa de criar um dicionário de dados formal e consultar o arquivo [feature_info.txt](http://archive.ics.uci.edu/ml/datasets/Human+Activity+Recognition+Using+Smartphones)\n",
        "\n",
        "* A exploração inicial dos dados mostra que o texto do nome da coluna está sujo com vários problemas:\n",
        "  * Nomes de coluna duplicados - várias ocorrências.\n",
        "  * Inclusão de () nos nomes das colunas.\n",
        "  * Parênteses extra ) em alguns nomes de colunas.\n",
        "  * Inclusão de \"-\" nos nomes das colunas.\n",
        "  * Inclusão de vários \",\" nos nomes das colunas\n",
        "  * Muitos nomes de colunas contêm \"BodyBody\", que supomos ser um erro de digitação."
      ]
    },
    {
      "cell_type": "markdown",
      "metadata": {
        "id": "yR9Dfnikzcpk",
        "colab_type": "text"
      },
      "source": [
        "### Exercício\n",
        "Execute cada uma das atividades de limpeza de dados acima no conjunto de dados, utilizando as funções do pandas para isso.\n",
        "\n",
        "* Identifique e remova nomes de coluna duplicados - várias ocorrências.\n",
        "* Identifique e corrija a inclusão de () nos nomes das colunas. Como você vai consertar isso?\n",
        "* Identifique e corrija o extra ) em alguns nomes de coluna. Como você vai consertar isso?\n",
        "* Identifique e corrija a inclusão de \"-\" nos nomes das colunas. Como você vai consertar isso?\n",
        "* Identifique e corrija a inclusão de vários \",\" nos nomes das colunas. Como você vai consertar isso?\n",
        "* Identifique e corrija nomes de coluna contendo “BodyBody”.\n"
      ]
    },
    {
      "cell_type": "code",
      "metadata": {
        "id": "1CkLoEx65Pv5",
        "colab_type": "code",
        "colab": {}
      },
      "source": [
        ""
      ],
      "execution_count": 0,
      "outputs": []
    },
    {
      "cell_type": "markdown",
      "metadata": {
        "id": "xphCde6-zcpm",
        "colab_type": "text"
      },
      "source": [
        "### Redução de Variáveis\n",
        "\n",
        "Antes de prosseguirmos, é muito importante ler com calma o arquivo [features_info.txt](https://github.com/nborwankar/LearnDataScience/blob/master/datasets/ucihar/features_info.txt). Este arquivo descreve cada característica, a sua importância física e também descreve recursos que são derivados de dados brutos, fazendo alguma média ou amostragem ou alguma operação que fornece resultados numéricos.\n",
        "\n",
        "Nós queremos olhar para\n",
        "\n",
        "a) todos os nomes das variáveis\n",
        "b) quantidades físicas\n",
        "\n",
        "Uma vez que passamos algum tempo fazendo tudo isso, podemos extrair algumas diretrizes úteis usando a compreensão física e o bom senso.\n",
        "\n",
        "* Em atividades estáticas (sentar, repousar, deitar) a informação de movimento não será muito útil.\n",
        "* Nas atividades dinâmicas (3 tipos de caminhada) o movimento será significativo.\n",
        "* Variáveis de **ângulo** serão úteis tanto na diferenciação de “mentira vs posição” quanto “subida vs descida”.\n",
        "* As variáveis **Acceleration** e **Jerk** são importantes para distinguir vários tipos de movimento enquanto se filtram tremores aleatórios enquanto estáticos.\n",
        "* As variáveis **mag** e **angle** contêm as mesmas informações que as variáveis **XYZ** (= fortemente correlacionadas)\n",
        "* Escolhemos nos concentrar nas últimas, pois são mais simples de raciocinar.\n",
        "* Este é um ponto muito importante para entender, pois resulta na eliminação de algumas centenas de variáveis.\n",
        "* Ignoramos as variáveis **band**, pois não temos uma maneira simples de interpretar o significado e relacioná-las às atividades físicas.\n",
        "* -mean e -std são importantes, -skewness e -kurtosis também podem ser, portanto, incluímos todos estes.\n",
        "* Veja que as variáveis têm prefixos / sufixos X, Y, Z e o Android Developer Reference [3] nos fornece o referencial específico com o qual eles são medidos. Eles são componentes vetoriais de jerk e aceleração, os ângulos são medidos em relação à direção da gravidade ou, mais precisamente, a aceleração do vetor devido à gravidade. Usamos essa informação e a combinamos com alguma intuição sobre movimento, velocidade, aceleração, etc.\n",
        "\n",
        "Observe o histograma da variável `tBodyAccMag-mean` e como ela se correlaciona bem com a atividade:"
      ]
    },
    {
      "cell_type": "code",
      "metadata": {
        "id": "gr6PCLao75Uu",
        "colab_type": "code",
        "outputId": "78b812b6-19c8-45ff-b36d-c2ed5a4fc526",
        "colab": {
          "base_uri": "https://localhost:8080/",
          "height": 905
        }
      },
      "source": [
        "df.loc[:,['tBodyAccMag-mean()','activity']].hist(by = \"activity\", alpha=0.8, figsize=(15,15))\n",
        "print()"
      ],
      "execution_count": 0,
      "outputs": [
        {
          "output_type": "stream",
          "text": [
            "()\n"
          ],
          "name": "stdout"
        },
        {
          "output_type": "display_data",
          "data": {
            "image/png": "[encoded data removed]",
            "text/plain": [
              "<Figure size 1080x1080 with 6 Axes>"
            ]
          },
          "metadata": {
            "tags": []
          }
        }
      ]
    },
    {
      "cell_type": "markdown",
      "metadata": {
        "id": "IyEosCYa-4aC",
        "colab_type": "text"
      },
      "source": [
        "Utilize outras funções de exploração e visualização do pandas para analisar a base."
      ]
    },
    {
      "cell_type": "code",
      "metadata": {
        "id": "AmiseDU9-33F",
        "colab_type": "code",
        "colab": {}
      },
      "source": [
        ""
      ],
      "execution_count": 0,
      "outputs": []
    },
    {
      "cell_type": "markdown",
      "metadata": {
        "id": "jXdWNE3Jzcpo",
        "colab_type": "text"
      },
      "source": [
        "### Eliminando variáveis (confounders)\n",
        "\n",
        "Ao eliminar as variáveis -X -Y -Z (coordenadas cartesianas), removemos um grande número de variáveis de confusão, pois elas têm informações fortemente correlacionadas com Magnitude + Ângulo (coordenadas polares). Ainda pode haver algumas influências confusas, mas os efeitos remanescentes são difíceis de interpretar.\n",
        "\n",
        "Do senso comum, vemos outras variáveis -min, -max, -mad têm correlações com a média / std, então descartamos todos esses confundidores também.\n",
        "O número de variáveis é agora reduzido para 37, conforme veremos a seguir.\n",
        "\n",
        "### Renomeando\n",
        "\n",
        "Renomearemos algumas variáveis para facilitar a leitura da base. Removemos \"Body\" e \"Mag\" e mapeamos ‘mean’ to Mean and ‘std’ to SD\n",
        "\n",
        "Por exemplo:\n",
        "\n",
        "* tAccBodyMag-mean -> tAccMean  \n",
        "* fAccBodyMag-std -> fAccSD  \n",
        "* etc.  \n"
      ]
    },
    {
      "cell_type": "code",
      "metadata": {
        "id": "eqF_H-IJ-1y5",
        "colab_type": "code",
        "colab": {}
      },
      "source": [
        ""
      ],
      "execution_count": 0,
      "outputs": []
    },
    {
      "cell_type": "markdown",
      "metadata": {
        "id": "FnDc4V_azcpp",
        "colab_type": "text"
      },
      "source": [
        "## Resultados\n",
        "\n",
        "O conjunto reduzido de variáveis selecionadas com nomes transformados é agora (com agrupamentos significativos):  \n",
        "\n",
        "* tAccMean, tAccSD tJerkMean, tJerkSD\n",
        "* tGyroMean, tGyroSD tGyroJerkMean, tGyroJerkSD\n",
        "* fAccMean, fAccSD, fJerkMean, fJerkSD,\n",
        "* fGyroMean, fGyroSD, fGyroJerkMean, fGyroJerkSD,\n",
        "* fGyroMeanFreq, fGyroJerkMeanFreq fAccMeanFreq, fJerkMeanFreq\n",
        "* fAccSkewness, fAccKurtosis, fJerkSkewness, fJerkKurtosis\n",
        "* fGyroSkewness, fGyroKurtosis fGyroJerkSkewness, fGyroJerkKurtosis\n",
        "* angleAccGravity, angleJerkGravity angleGyroGravity, angleGyroJerkGravity\n",
        "* angleXGravity, angleYGravity, angleZGravity\n",
        "* subject, activity  "
      ]
    },
    {
      "cell_type": "markdown",
      "metadata": {
        "id": "2UGOZuIlzcpq",
        "colab_type": "text"
      },
      "source": [
        "## Conclusão\n",
        "\n",
        "Utilize a função `df.to_csv()` do pandas para salvar as suas modificações na base. Salve este notebook do colab no seu google Drive ou (melhor) no github (crie um repositório para isso). Os dados serão utilizados no próximo exercício."
      ]
    },
    {
      "cell_type": "markdown",
      "metadata": {
        "id": "TYs3Hdnyzcpr",
        "colab_type": "text"
      },
      "source": [
        "## Referências\n",
        "\n",
        "[1] <https://spark-public.s3.amazonaws.com/dataanalysis/samsungData.rda>   \n",
        "[2] Human Activity Recognition Using Smartphones <http://archive.ics.uci.edu/ml/datasets/Human+Activity+Recognition+Using+Smartphones  \n",
        "[3] Android Developer Reference <http://developer.android.com/reference/android/hardware/Sensor.html>  \n",
        "[4] Random Forests <http://en.wikipedia.org/wiki/Random_forest>  \n",
        "[5] Code for computation of error measures <https://gist.github.com/nborwankar/5131870>  \n",
        "\n",
        "Obs. Este tutorial é uma adaptação do material disponível em https://github.com/nborwankar/LearnDataScience\n"
      ]
    }
  ]
}