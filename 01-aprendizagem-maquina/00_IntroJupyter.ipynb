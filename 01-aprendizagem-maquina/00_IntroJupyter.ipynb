{
 "cells": [
  {
   "cell_type": "markdown",
   "metadata": {},
   "source": [
    "## Jupyter Notebooks\n",
    "Este formato de arquivo facilita a combinação perfeita de texto e código. O texto pode ser simples ou formatado com [Markdown](https://daringfireball.net/projects/markdown/). O código pode ser escrito em mais de 40 linguagens, incluindo Python, R e Scala. Mais importante, o código pode ser alterado quando o notebook é aberto em um servidor local (isto é, no seu computador). Alternativamente, ele pode ser visualizado simplesmente por meio de um repositório do github (como este mesmo) ou do nbviewer.\n",
    "\n",
    "Outras opções incluem utilizar serviços na nuvem como o colab\n",
    "\n",
    "### Crie um novo notebook\n",
    "Inicie o seu servidor de notebook local em seu novo repositório e crie um novo notebook Jupyter a partir da página do servidor local.\n",
    "\n",
    "### Escolha a sintaxe de uma célula\n",
    "Notebooks são construídos de células. As células podem ter vários formatos internos, incluindo *código* e *Markdown* para texto. Você pode selecionar o formato desejado em um menu suspenso na parte superior.\n",
    "\n",
    "Se você quiser digitar palavras, use \"Markdown\"; Se você quiser escrever código, escolha \"código\".\n",
    "\n",
    "### Mover entre as células\n",
    "Para executar uma determinada célula, digite [shift-enter], ativo nessa célula. Você pode executar todas as células com Cell> Run all; outras variações estão disponíveis nesse menu suspenso."
   ]
  },
  {
   "cell_type": "code",
   "execution_count": 1,
   "metadata": {},
   "outputs": [
    {
     "data": {
      "text/plain": [
       "2"
      ]
     },
     "execution_count": 1,
     "metadata": {},
     "output_type": "execute_result"
    }
   ],
   "source": [
    "1+1"
   ]
  },
  {
   "cell_type": "code",
   "execution_count": null,
   "metadata": {
    "collapsed": true
   },
   "outputs": [],
   "source": []
  },
  {
   "cell_type": "code",
   "execution_count": null,
   "metadata": {},
   "outputs": [],
   "source": []
  }
 ],
 "metadata": {
  "kernelspec": {
   "display_name": "Python 3",
   "language": "python",
   "name": "python3"
  },
  "language_info": {
   "codemirror_mode": {
    "name": "ipython",
    "version": 3
   },
   "file_extension": ".py",
   "mimetype": "text/x-python",
   "name": "python",
   "nbconvert_exporter": "python",
   "pygments_lexer": "ipython3",
   "version": "3.7.1"
  }
 },
 "nbformat": 4,
 "nbformat_minor": 2
}
