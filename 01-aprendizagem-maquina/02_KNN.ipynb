{
  "nbformat": 4,
  "nbformat_minor": 0,
  "metadata": {
    "colab": {
      "name": "02_KNN.ipynb",
      "version": "0.3.2",
      "provenance": [],
      "toc_visible": true,
      "include_colab_link": true
    },
    "kernelspec": {
      "name": "python3",
      "display_name": "Python 3"
    }
  },
  "cells": [
    {
      "cell_type": "markdown",
      "metadata": {
        "id": "view-in-github",
        "colab_type": "text"
      },
      "source": [
        "<a href=\"https://colab.research.google.com/github/ufrpe-bcc-ia/material-aulas/blob/master/aprendizagem_maquina/02_KNN.ipynb\" target=\"_parent\"><img src=\"https://colab.research.google.com/assets/colab-badge.svg\" alt=\"Open In Colab\"/></a>"
      ]
    },
    {
      "cell_type": "markdown",
      "metadata": {
        "id": "zlW8ykUv-cjG",
        "colab_type": "text"
      },
      "source": [
        "# Aprendizagem baseada em instâncias: KNN\n",
        "O algoritmo k-viznhos mais próximos é um dos métodos de aprendizagem de máquina supervisionada mais simples, porém incrivelmente eficaz em certas tarefas.\n",
        "\n",
        "KNN é um algoritmo usado tanto em tarefas de classificação quanto de regressão. Utiliza o valor *k* e uma medida de distância (ex. distância Euclidiana) para identificar vizinhos mais próximos de um dado exemplo. Algumas vantagens do algoritmo KNN incluem: \n",
        "- simples de implementar\n",
        "- o treinamento é fácil (basicamente carregar os exemplos de treinamento na memória)\n",
        "- em geral, possui poucos parâmetros\n",
        "\n",
        "Os contras incluem: \n",
        "- alto custo de predição\n",
        "- alto custo de memória para grandes bases de dados\n",
        "- requer adaptações para atributos categóricos\n",
        "\n",
        "A figura abaixo mostra um novo ponto - identificado pela estrela - que queremos classificar. Se usarmos um valor k de 3, classificaríamos o novo ponto com os elementos cinza. No entanto, se usarmos um valor k de 10, classificaríamos o novo ponto com os elementos laranja. Quanto menor o valor de k, maior o ruído com os dados; no entanto, podemos suavizar isso aumentando o valor de k.\n",
        "\n",
        "![Fonte:https://medium.com/@kbrook10/day-11-machine-learning-using-knn-k-nearest-neighbors-with-scikit-learn-350c3a1402e6](https://github.com/ufrpe-bcc-ia/material-aulas/blob/master/imagens/img_knn_01.png?raw=true)\n",
        "\n",
        "Fonte: [Medium](https://medium.com/@kbrook10/day-11-machine-learning-using-knn-k-nearest-neighbors-with-scikit-learn-350c3a1402e6)"
      ]
    },
    {
      "cell_type": "markdown",
      "metadata": {
        "id": "99cCx4B9AuJj",
        "colab_type": "text"
      },
      "source": [
        "# Exemplo\n",
        "\n",
        "## Carregar dataset"
      ]
    },
    {
      "cell_type": "code",
      "metadata": {
        "id": "_ssznLoT-atC",
        "colab_type": "code",
        "colab": {}
      },
      "source": [
        "from sklearn import datasets\n",
        "iris = datasets.load_iris()"
      ],
      "execution_count": 0,
      "outputs": []
    },
    {
      "cell_type": "markdown",
      "metadata": {
        "id": "O0-IWTrqA25D",
        "colab_type": "text"
      },
      "source": [
        "## Descrição"
      ]
    },
    {
      "cell_type": "code",
      "metadata": {
        "id": "Huhblnyc12Se",
        "colab_type": "code",
        "colab": {
          "base_uri": "https://localhost:8080/",
          "height": 1088
        },
        "outputId": "2410dd81-3542-4295-b08a-bd0883cdc9de"
      },
      "source": [
        "print(iris.DESCR)"
      ],
      "execution_count": 4,
      "outputs": [
        {
          "output_type": "stream",
          "text": [
            ".. _iris_dataset:\n",
            "\n",
            "Iris plants dataset\n",
            "--------------------\n",
            "\n",
            "**Data Set Characteristics:**\n",
            "\n",
            "    :Number of Instances: 150 (50 in each of three classes)\n",
            "    :Number of Attributes: 4 numeric, predictive attributes and the class\n",
            "    :Attribute Information:\n",
            "        - sepal length in cm\n",
            "        - sepal width in cm\n",
            "        - petal length in cm\n",
            "        - petal width in cm\n",
            "        - class:\n",
            "                - Iris-Setosa\n",
            "                - Iris-Versicolour\n",
            "                - Iris-Virginica\n",
            "                \n",
            "    :Summary Statistics:\n",
            "\n",
            "    ============== ==== ==== ======= ===== ====================\n",
            "                    Min  Max   Mean    SD   Class Correlation\n",
            "    ============== ==== ==== ======= ===== ====================\n",
            "    sepal length:   4.3  7.9   5.84   0.83    0.7826\n",
            "    sepal width:    2.0  4.4   3.05   0.43   -0.4194\n",
            "    petal length:   1.0  6.9   3.76   1.76    0.9490  (high!)\n",
            "    petal width:    0.1  2.5   1.20   0.76    0.9565  (high!)\n",
            "    ============== ==== ==== ======= ===== ====================\n",
            "\n",
            "    :Missing Attribute Values: None\n",
            "    :Class Distribution: 33.3% for each of 3 classes.\n",
            "    :Creator: R.A. Fisher\n",
            "    :Donor: Michael Marshall (MARSHALL%PLU@io.arc.nasa.gov)\n",
            "    :Date: July, 1988\n",
            "\n",
            "The famous Iris database, first used by Sir R.A. Fisher. The dataset is taken\n",
            "from Fisher's paper. Note that it's the same as in R, but not as in the UCI\n",
            "Machine Learning Repository, which has two wrong data points.\n",
            "\n",
            "This is perhaps the best known database to be found in the\n",
            "pattern recognition literature.  Fisher's paper is a classic in the field and\n",
            "is referenced frequently to this day.  (See Duda & Hart, for example.)  The\n",
            "data set contains 3 classes of 50 instances each, where each class refers to a\n",
            "type of iris plant.  One class is linearly separable from the other 2; the\n",
            "latter are NOT linearly separable from each other.\n",
            "\n",
            ".. topic:: References\n",
            "\n",
            "   - Fisher, R.A. \"The use of multiple measurements in taxonomic problems\"\n",
            "     Annual Eugenics, 7, Part II, 179-188 (1936); also in \"Contributions to\n",
            "     Mathematical Statistics\" (John Wiley, NY, 1950).\n",
            "   - Duda, R.O., & Hart, P.E. (1973) Pattern Classification and Scene Analysis.\n",
            "     (Q327.D83) John Wiley & Sons.  ISBN 0-471-22361-1.  See page 218.\n",
            "   - Dasarathy, B.V. (1980) \"Nosing Around the Neighborhood: A New System\n",
            "     Structure and Classification Rule for Recognition in Partially Exposed\n",
            "     Environments\".  IEEE Transactions on Pattern Analysis and Machine\n",
            "     Intelligence, Vol. PAMI-2, No. 1, 67-71.\n",
            "   - Gates, G.W. (1972) \"The Reduced Nearest Neighbor Rule\".  IEEE Transactions\n",
            "     on Information Theory, May 1972, 431-433.\n",
            "   - See also: 1988 MLC Proceedings, 54-64.  Cheeseman et al\"s AUTOCLASS II\n",
            "     conceptual clustering system finds 3 classes in the data.\n",
            "   - Many, many more ...\n"
          ],
          "name": "stdout"
        }
      ]
    },
    {
      "cell_type": "code",
      "metadata": {
        "id": "chKaZkf3FjGt",
        "colab_type": "code",
        "colab": {
          "base_uri": "https://localhost:8080/",
          "height": 105
        },
        "outputId": "78d0620e-fcd3-4916-f722-d60c558df2db"
      },
      "source": [
        "print(iris.feature_names)\n",
        "print(iris.data[0:3])"
      ],
      "execution_count": 24,
      "outputs": [
        {
          "output_type": "stream",
          "text": [
            "['sepal length (cm)', 'sepal width (cm)', 'petal length (cm)', 'petal width (cm)']\n",
            "[[5.1 3.5 1.4 0.2]\n",
            " [4.9 3.  1.4 0.2]\n",
            " [4.7 3.2 1.3 0.2]]\n"
          ],
          "name": "stdout"
        }
      ]
    },
    {
      "cell_type": "markdown",
      "metadata": {
        "id": "qBAfCL1HAbYO",
        "colab_type": "text"
      },
      "source": [
        "## Separar conjuntos de treino e teste\n"
      ]
    },
    {
      "cell_type": "code",
      "metadata": {
        "id": "YyboHWrsAW-L",
        "colab_type": "code",
        "colab": {
          "base_uri": "https://localhost:8080/",
          "height": 136
        },
        "outputId": "05b48571-3dea-46fe-c37c-e78ab38e5467"
      },
      "source": [
        "import numpy as np\n",
        "\n",
        "print('dataset size:', len(iris.data))\n",
        "\n",
        "indices = np.random.permutation(len(iris.data))\n",
        "indices_train = indices[:-50]\n",
        "indices_test  = indices[-50:]\n",
        "print('train:', len(indices_train))\n",
        "print('test:', len(indices_test))\n",
        "\n",
        "data_train = iris.data[indices_train]\n",
        "data_test  = iris.data[indices_test]\n",
        "\n",
        "label_train = iris.target[indices_train]\n",
        "label_test = iris.target[indices_test]\n",
        "\n",
        "print(data_train[0:3])\n",
        "print(label_train[0:3])"
      ],
      "execution_count": 23,
      "outputs": [
        {
          "output_type": "stream",
          "text": [
            "dataset size: 150\n",
            "train: 100\n",
            "test: 50\n",
            "[[5.2 3.4 1.4 0.2]\n",
            " [4.4 2.9 1.4 0.2]\n",
            " [5.7 2.8 4.1 1.3]]\n",
            "[0 0 1]\n"
          ],
          "name": "stdout"
        }
      ]
    },
    {
      "cell_type": "markdown",
      "metadata": {
        "id": "uJjJxFWnBEzx",
        "colab_type": "text"
      },
      "source": [
        "## Algoritmo\n",
        "\n",
        "### Medida de distância (Euclidiana)\n",
        "\n",
        ">$d(\\mathbb{x},\\mathbb{y})=\\sqrt{\\sum_{i=1}^d (x_i - y_i)^2}$\n",
        "\n",
        "onde $\\mathbb{x},\\mathbb{y} \\in \\mathbb{R}^d$\n"
      ]
    },
    {
      "cell_type": "code",
      "metadata": {
        "id": "2CGwl3-VAlO6",
        "colab_type": "code",
        "colab": {}
      },
      "source": [
        "import math\n",
        "\n",
        "# Euclidean Distance\n",
        "def distance(x, y):\n",
        "    distance = 0\n",
        "    for i in range(0,len(x)):\n",
        "        distance += pow((x[i] - y[i]), 2)\n",
        "    return math.sqrt(distance)"
      ],
      "execution_count": 0,
      "outputs": []
    },
    {
      "cell_type": "code",
      "metadata": {
        "id": "o3BCmZUKCetv",
        "colab_type": "code",
        "colab": {
          "base_uri": "https://localhost:8080/",
          "height": 34
        },
        "outputId": "904ec4cb-e72b-49ca-9dd8-e5d49cac1ac5"
      },
      "source": [
        "# teste\n",
        "distance(data_train[0],data_train[3])"
      ],
      "execution_count": 25,
      "outputs": [
        {
          "output_type": "execute_result",
          "data": {
            "text/plain": [
              "0.5000000000000001"
            ]
          },
          "metadata": {
            "tags": []
          },
          "execution_count": 25
        }
      ]
    },
    {
      "cell_type": "markdown",
      "metadata": {
        "id": "anUyQ7QyDIjy",
        "colab_type": "text"
      },
      "source": [
        "### Implementação do algoritmo KNN"
      ]
    },
    {
      "cell_type": "code",
      "metadata": {
        "id": "bJrVt-xICpW1",
        "colab_type": "code",
        "colab": {}
      },
      "source": [
        "class knn():\n",
        "  \n",
        "  def __init__(self, k=3):\n",
        "    self.k = k\n",
        "  \n",
        "  def train(train_x, train_y):\n",
        "    # SEU CÓDIGO AQUI\n",
        "    raise NotImplementedError()\n",
        "    \n",
        "  def predict(test_x):\n",
        "    # SEU CÓDIGO AQUI\n",
        "    raise NotImplementedError()"
      ],
      "execution_count": 0,
      "outputs": []
    },
    {
      "cell_type": "markdown",
      "metadata": {
        "id": "iXFpQ0PUDpnv",
        "colab_type": "text"
      },
      "source": [
        "## Avaliação"
      ]
    },
    {
      "cell_type": "code",
      "metadata": {
        "id": "1ygGzxtzDX6l",
        "colab_type": "code",
        "colab": {}
      },
      "source": [
        "# Taxa de acerto\n",
        "def accuracy(y_true, y_pred):\n",
        "  # SEU CÓDIGO AQUI\n",
        "  raise NotImplementedError()\n",
        "  \n",
        "\n",
        "model = knn(k=5)\n",
        "model.train(data_train, label_train)\n",
        "\n",
        "y_pred = model.predict(data_test)\n",
        "\n",
        "print(accuracy(label_test, y_pred))"
      ],
      "execution_count": 0,
      "outputs": []
    },
    {
      "cell_type": "markdown",
      "metadata": {
        "id": "mGxwzZ3yGg6A",
        "colab_type": "text"
      },
      "source": [
        "## Variando $k$"
      ]
    },
    {
      "cell_type": "code",
      "metadata": {
        "id": "vnRaW2ALD257",
        "colab_type": "code",
        "colab": {}
      },
      "source": [
        "k_vals = [1,3,5,15, 25, 30]\n",
        "acc_vals = []\n",
        "for val in k_vals:\n",
        "  knn = knn(k=val)\n",
        "  knn.train(data_train, label_train) \n",
        "  pred = knn.predict(data_test)\n",
        "  acc_vals.append(accuracy(label_test, pred))\n",
        "\n",
        "acc_vals"
      ],
      "execution_count": 0,
      "outputs": []
    },
    {
      "cell_type": "code",
      "metadata": {
        "id": "MgupQD1LHVkJ",
        "colab_type": "code",
        "colab": {}
      },
      "source": [
        "%matplotlib inline\n",
        "from matplotlib import pyplot as plt\n",
        "\n",
        "plt.plot(k_vals, acc_vals)"
      ],
      "execution_count": 0,
      "outputs": []
    }
  ]
}